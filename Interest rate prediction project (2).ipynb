{
 "cells": [
  {
   "cell_type": "markdown",
   "id": "51a5484c",
   "metadata": {},
   "source": [
    "### Buisiness objective"
   ]
  },
  {
   "cell_type": "raw",
   "id": "d828d3d6",
   "metadata": {},
   "source": [
    "* A company is in the financial lending business and provides loans to retail customers.\n",
    "* We have to build a machine learning model to predict loan interest rate category."
   ]
  },
  {
   "cell_type": "markdown",
   "id": "e779336b",
   "metadata": {},
   "source": [
    "### Data description"
   ]
  },
  {
   "cell_type": "raw",
   "id": "905967aa",
   "metadata": {},
   "source": [
    "Loan_ID\t: Unique identifier of the Loan\n",
    "\n",
    "Loan_Amount_Requested : Amount of loan applied\n",
    "\n",
    "Length Employed : Duration for payback\n",
    "\n",
    "Home_Owner : Ownership of home\n",
    "             ['Rent',  'Mortgage', nan, 'Own', 'Other', 'None']\n",
    "\n",
    "Annual_Income : Annual income of customer\n",
    "\n",
    "Income_Verified : Verification status of income\n",
    "\n",
    "Purpose_Of_Loan : Purpose of the loan ['car', 'debt_consolidation', 'credit_card','home_improvement',\n",
    "                                    'major_purchase', 'other', 'medical', 'small_business', 'moving',\n",
    "                                    'wedding', 'vacation', 'house', 'educational','renewable_energy']\n",
    "                                        \n",
    "                    Debt consolidation --> Act of using a new loan type to pay off older debts and\n",
    "                                           liabilities.\n",
    "                                           \n",
    "Debt_To_Income : The ratio of the representative's total monthly debt repayment divided by self \n",
    "                 reported monthly income excluding mortgage.\n",
    "                 \n",
    "                   * Debt-to-income ratio = Total monthly debt payments / monthly gross income\n",
    "                   * It is better to keep debt to income ratio below 35%\n",
    "                   * Lower the debt to income ratio, higher chances to to approve loan\n",
    "\n",
    "Inquiries_Last_6Mo : Total number of inquiries in the last 6 months regarding loan\n",
    "\n",
    "Months_Since_Deliquency : The number of days since delinquency.\n",
    "                   * Delinquency occurs as soon as a borrower misses a payment on a loan.\n",
    "\n",
    "Number_Open_Accounts : No of Opened Accounts.\n",
    "\n",
    "Total_Accounts : Total number of credit lines available in representatives credit line.\n",
    "\n",
    "* Applying for multiple cards in a short time span can indicate you as a risk to credit card companies\n",
    "\n",
    "* The more credit accounts you have, the more available credit you have. The amount of available credit you have can actually help your score by lowering your debt-to-credit ratio. Having multiple credit cards will increase the amount of available credit you have access to.\n",
    "\n",
    "* having available credit does not mean you should use it and go into debt.\n",
    "*  credit utilization low will be better for your score\n",
    "\n",
    "Keep your old accounts open: As mentioned above, keep old credit cards open, especially if they do not have an annual fee. Closing these accounts down can lower your credit score by increasing your credit utilization rate and decreasing the overall age of your credit history.\n",
    "\n",
    "\n",
    "Open new credit cards: Although a new card may temporarily decrease your score, opening a new card will increase the amount of credit you have available to you, therefore giving your score a boost. Remember, just because you have more credit to use, that does mean that you must use all of it. Instead, harness this higher limit by decreasing your debt-to-credit ratio.\n",
    "\n",
    "\n",
    "Gender : Male/Female\n",
    "\n",
    "Interest_Rate\n",
    "The interest rate fixed by the bank for each customer"
   ]
  },
  {
   "cell_type": "markdown",
   "id": "fe7c8076",
   "metadata": {},
   "source": [
    "### Import crucial libraries"
   ]
  },
  {
   "cell_type": "code",
   "execution_count": 1,
   "id": "5d51ac77",
   "metadata": {},
   "outputs": [],
   "source": [
    "import os\n",
    "import numpy as np\n",
    "import pandas as pd\n",
    "import matplotlib.pyplot as plt\n",
    "import seaborn as sns\n",
    "sns.set_style('whitegrid')\n",
    "plt.rcParams['figure.figsize']=(18, 7)\n",
    "import warnings\n",
    "warnings.filterwarnings('ignore')"
   ]
  },
  {
   "cell_type": "markdown",
   "id": "8013626c",
   "metadata": {},
   "source": [
    "### Import Data"
   ]
  },
  {
   "cell_type": "code",
   "execution_count": 2,
   "id": "e80c7874",
   "metadata": {},
   "outputs": [
    {
     "name": "stdout",
     "output_type": "stream",
     "text": [
      "['cleaned_data.xlsx', 'Dataset (5).csv', 'encoded_data.xlsx', 'final_project_18.pptx', 'High_risk_data.xlsx', 'Loan Interest Category Prediction using Decision Tree.docx', 'Modified_data.xlsx', 'safe_customers_data.xlsx']\n"
     ]
    }
   ],
   "source": [
    "os.chdir(r'C:\\Users\\ganga\\OneDrive\\Desktop\\Hero vired case studies\\Prediction of Loan Interest Rate')\n",
    "print(os.listdir())"
   ]
  },
  {
   "cell_type": "code",
   "execution_count": 3,
   "id": "478710a1",
   "metadata": {},
   "outputs": [
    {
     "data": {
      "text/html": [
       "<div>\n",
       "<style scoped>\n",
       "    .dataframe tbody tr th:only-of-type {\n",
       "        vertical-align: middle;\n",
       "    }\n",
       "\n",
       "    .dataframe tbody tr th {\n",
       "        vertical-align: top;\n",
       "    }\n",
       "\n",
       "    .dataframe thead th {\n",
       "        text-align: right;\n",
       "    }\n",
       "</style>\n",
       "<table border=\"1\" class=\"dataframe\">\n",
       "  <thead>\n",
       "    <tr style=\"text-align: right;\">\n",
       "      <th></th>\n",
       "      <th>Loan_ID</th>\n",
       "      <th>Loan_Amount_Requested</th>\n",
       "      <th>Length_Employed</th>\n",
       "      <th>Home_Owner</th>\n",
       "      <th>Annual_Income</th>\n",
       "      <th>Income_Verified</th>\n",
       "      <th>Purpose_Of_Loan</th>\n",
       "      <th>Debt_To_Income</th>\n",
       "      <th>Inquiries_Last_6Mo</th>\n",
       "      <th>Months_Since_Deliquency</th>\n",
       "      <th>Number_Open_Accounts</th>\n",
       "      <th>Total_Accounts</th>\n",
       "      <th>Gender</th>\n",
       "      <th>Interest_Rate</th>\n",
       "    </tr>\n",
       "  </thead>\n",
       "  <tbody>\n",
       "    <tr>\n",
       "      <th>0</th>\n",
       "      <td>10000001</td>\n",
       "      <td>7,000</td>\n",
       "      <td>&lt; 1 year</td>\n",
       "      <td>Rent</td>\n",
       "      <td>68000.0</td>\n",
       "      <td>not verified</td>\n",
       "      <td>car</td>\n",
       "      <td>18.37</td>\n",
       "      <td>0</td>\n",
       "      <td>NaN</td>\n",
       "      <td>9</td>\n",
       "      <td>14</td>\n",
       "      <td>Female</td>\n",
       "      <td>1</td>\n",
       "    </tr>\n",
       "    <tr>\n",
       "      <th>1</th>\n",
       "      <td>10000002</td>\n",
       "      <td>30,000</td>\n",
       "      <td>4 years</td>\n",
       "      <td>Mortgage</td>\n",
       "      <td>NaN</td>\n",
       "      <td>VERIFIED - income</td>\n",
       "      <td>debt_consolidation</td>\n",
       "      <td>14.93</td>\n",
       "      <td>0</td>\n",
       "      <td>17.0</td>\n",
       "      <td>12</td>\n",
       "      <td>24</td>\n",
       "      <td>Female</td>\n",
       "      <td>3</td>\n",
       "    </tr>\n",
       "    <tr>\n",
       "      <th>2</th>\n",
       "      <td>10000003</td>\n",
       "      <td>24,725</td>\n",
       "      <td>7 years</td>\n",
       "      <td>Mortgage</td>\n",
       "      <td>75566.4</td>\n",
       "      <td>VERIFIED - income source</td>\n",
       "      <td>debt_consolidation</td>\n",
       "      <td>15.88</td>\n",
       "      <td>0</td>\n",
       "      <td>NaN</td>\n",
       "      <td>12</td>\n",
       "      <td>16</td>\n",
       "      <td>Male</td>\n",
       "      <td>3</td>\n",
       "    </tr>\n",
       "    <tr>\n",
       "      <th>3</th>\n",
       "      <td>10000004</td>\n",
       "      <td>16,000</td>\n",
       "      <td>&lt; 1 year</td>\n",
       "      <td>NaN</td>\n",
       "      <td>56160.0</td>\n",
       "      <td>VERIFIED - income source</td>\n",
       "      <td>debt_consolidation</td>\n",
       "      <td>14.34</td>\n",
       "      <td>3</td>\n",
       "      <td>NaN</td>\n",
       "      <td>16</td>\n",
       "      <td>22</td>\n",
       "      <td>Male</td>\n",
       "      <td>3</td>\n",
       "    </tr>\n",
       "    <tr>\n",
       "      <th>4</th>\n",
       "      <td>10000005</td>\n",
       "      <td>17,000</td>\n",
       "      <td>8 years</td>\n",
       "      <td>Own</td>\n",
       "      <td>96000.0</td>\n",
       "      <td>VERIFIED - income source</td>\n",
       "      <td>debt_consolidation</td>\n",
       "      <td>22.17</td>\n",
       "      <td>1</td>\n",
       "      <td>NaN</td>\n",
       "      <td>19</td>\n",
       "      <td>30</td>\n",
       "      <td>Female</td>\n",
       "      <td>1</td>\n",
       "    </tr>\n",
       "  </tbody>\n",
       "</table>\n",
       "</div>"
      ],
      "text/plain": [
       "    Loan_ID Loan_Amount_Requested Length_Employed Home_Owner  Annual_Income  \\\n",
       "0  10000001                 7,000        < 1 year       Rent        68000.0   \n",
       "1  10000002                30,000         4 years   Mortgage            NaN   \n",
       "2  10000003                24,725         7 years   Mortgage        75566.4   \n",
       "3  10000004                16,000        < 1 year        NaN        56160.0   \n",
       "4  10000005                17,000         8 years        Own        96000.0   \n",
       "\n",
       "            Income_Verified     Purpose_Of_Loan  Debt_To_Income  \\\n",
       "0              not verified                 car           18.37   \n",
       "1         VERIFIED - income  debt_consolidation           14.93   \n",
       "2  VERIFIED - income source  debt_consolidation           15.88   \n",
       "3  VERIFIED - income source  debt_consolidation           14.34   \n",
       "4  VERIFIED - income source  debt_consolidation           22.17   \n",
       "\n",
       "   Inquiries_Last_6Mo  Months_Since_Deliquency  Number_Open_Accounts  \\\n",
       "0                   0                      NaN                     9   \n",
       "1                   0                     17.0                    12   \n",
       "2                   0                      NaN                    12   \n",
       "3                   3                      NaN                    16   \n",
       "4                   1                      NaN                    19   \n",
       "\n",
       "   Total_Accounts  Gender  Interest_Rate  \n",
       "0              14  Female              1  \n",
       "1              24  Female              3  \n",
       "2              16    Male              3  \n",
       "3              22    Male              3  \n",
       "4              30  Female              1  "
      ]
     },
     "execution_count": 3,
     "metadata": {},
     "output_type": "execute_result"
    }
   ],
   "source": [
    "data = pd.read_csv('Dataset (5).csv')\n",
    "data.head()"
   ]
  },
  {
   "cell_type": "markdown",
   "id": "03ac4bdf",
   "metadata": {},
   "source": [
    "### Exploratory Data Analysis"
   ]
  },
  {
   "cell_type": "raw",
   "id": "39bb7b2a",
   "metadata": {},
   "source": []
  },
  {
   "cell_type": "code",
   "execution_count": 4,
   "id": "9b66694e",
   "metadata": {},
   "outputs": [
    {
     "name": "stdout",
     "output_type": "stream",
     "text": [
      "Shape of data ---> (164309, 14)\n",
      "There are 14 features and 164309 rows in data.\n"
     ]
    }
   ],
   "source": [
    "# Shape of data\n",
    "print('Shape of data --->' , data.shape)\n",
    "print('There are {} features and {} rows in data.'.format(data.shape[1], data.shape[0]))"
   ]
  },
  {
   "cell_type": "code",
   "execution_count": 5,
   "id": "3b70cb92",
   "metadata": {},
   "outputs": [
    {
     "data": {
      "text/plain": [
       "Index(['Loan_ID', 'Loan_Amount_Requested', 'Length_Employed', 'Home_Owner',\n",
       "       'Annual_Income', 'Income_Verified', 'Purpose_Of_Loan', 'Debt_To_Income',\n",
       "       'Inquiries_Last_6Mo', 'Months_Since_Deliquency', 'Number_Open_Accounts',\n",
       "       'Total_Accounts', 'Gender', 'Interest_Rate'],\n",
       "      dtype='object')"
      ]
     },
     "execution_count": 5,
     "metadata": {},
     "output_type": "execute_result"
    }
   ],
   "source": [
    "data.columns"
   ]
  },
  {
   "cell_type": "code",
   "execution_count": 6,
   "id": "2fb51f16",
   "metadata": {},
   "outputs": [],
   "source": [
    "columns = ['Loan_ID', 'Loan_Amount_Requested', 'Employment_experience_in_years', 'Ownership_of_home',\n",
    "       'Annual_Income', 'Income_verification', 'Purpose_Of_Loan', 'Debt_To_Income',\n",
    "       'Inquiries_in_Last_6_Months', 'Days_since_deliquency', 'Number_of_Open_Accounts',\n",
    "       'Total_Accounts', 'Gender', 'Interest_Rate']"
   ]
  },
  {
   "cell_type": "code",
   "execution_count": 7,
   "id": "3350ab61",
   "metadata": {},
   "outputs": [],
   "source": [
    "data.columns = columns"
   ]
  },
  {
   "cell_type": "code",
   "execution_count": 8,
   "id": "c0451921",
   "metadata": {},
   "outputs": [],
   "source": [
    "# Remove unwanted columns\n",
    "data.drop(['Loan_ID'], axis =1, inplace=True)"
   ]
  },
  {
   "cell_type": "code",
   "execution_count": 9,
   "id": "66409f61",
   "metadata": {},
   "outputs": [
    {
     "name": "stdout",
     "output_type": "stream",
     "text": [
      "Shape of data ---> (164309, 13)\n",
      "Now we have 13 features and 164309 rows.\n"
     ]
    }
   ],
   "source": [
    "print('Shape of data --->' , data.shape)\n",
    "print('Now we have {} features and {} rows.'.format(data.shape[1], data.shape[0]))"
   ]
  },
  {
   "cell_type": "code",
   "execution_count": 10,
   "id": "f436560f",
   "metadata": {},
   "outputs": [
    {
     "name": "stdout",
     "output_type": "stream",
     "text": [
      "<class 'pandas.core.frame.DataFrame'>\n",
      "RangeIndex: 164309 entries, 0 to 164308\n",
      "Data columns (total 13 columns):\n",
      " #   Column                          Non-Null Count   Dtype  \n",
      "---  ------                          --------------   -----  \n",
      " 0   Loan_Amount_Requested           164309 non-null  object \n",
      " 1   Employment_experience_in_years  156938 non-null  object \n",
      " 2   Ownership_of_home               138960 non-null  object \n",
      " 3   Annual_Income                   139207 non-null  float64\n",
      " 4   Income_verification             164309 non-null  object \n",
      " 5   Purpose_Of_Loan                 164309 non-null  object \n",
      " 6   Debt_To_Income                  164309 non-null  float64\n",
      " 7   Inquiries_in_Last_6_Months      164309 non-null  int64  \n",
      " 8   Days_since_deliquency           75930 non-null   float64\n",
      " 9   Number_of_Open_Accounts         164309 non-null  int64  \n",
      " 10  Total_Accounts                  164309 non-null  int64  \n",
      " 11  Gender                          164309 non-null  object \n",
      " 12  Interest_Rate                   164309 non-null  int64  \n",
      "dtypes: float64(3), int64(4), object(6)\n",
      "memory usage: 16.3+ MB\n"
     ]
    }
   ],
   "source": [
    "# Summary of the data\n",
    "data.info()"
   ]
  },
  {
   "cell_type": "raw",
   "id": "afd2355a",
   "metadata": {},
   "source": [
    "* We observed that, there are 7 numerical and 6 object type values\n",
    "* Loan_Amount_Requested is in incorrect format as object.\n",
    "* There are missing values in data"
   ]
  },
  {
   "cell_type": "code",
   "execution_count": 11,
   "id": "d0a7a242",
   "metadata": {},
   "outputs": [],
   "source": [
    "# Removing special sequences\n",
    "data['Loan_Amount_Requested'] = data['Loan_Amount_Requested'].str.replace(r'\\D', '', regex=True)"
   ]
  },
  {
   "cell_type": "raw",
   "id": "443bcfe5",
   "metadata": {},
   "source": [
    "\\D --> Returns a match where the string DOES NOT contain digits"
   ]
  },
  {
   "cell_type": "code",
   "execution_count": 12,
   "id": "5d5fba24",
   "metadata": {},
   "outputs": [
    {
     "data": {
      "text/plain": [
       "dtype('O')"
      ]
     },
     "execution_count": 12,
     "metadata": {},
     "output_type": "execute_result"
    }
   ],
   "source": [
    "data['Loan_Amount_Requested'].dtype"
   ]
  },
  {
   "cell_type": "code",
   "execution_count": 13,
   "id": "5cb988a6",
   "metadata": {},
   "outputs": [],
   "source": [
    "# Coverting feature which is read in incorrect format to correct format, i.e from object to integer\n",
    "data['Loan_Amount_Requested'] = pd.to_numeric(data['Loan_Amount_Requested'], downcast='integer')"
   ]
  },
  {
   "cell_type": "code",
   "execution_count": 14,
   "id": "0e82c2a9",
   "metadata": {},
   "outputs": [
    {
     "data": {
      "text/plain": [
       "dtype('int32')"
      ]
     },
     "execution_count": 14,
     "metadata": {},
     "output_type": "execute_result"
    }
   ],
   "source": [
    "data['Loan_Amount_Requested'].dtype"
   ]
  },
  {
   "cell_type": "markdown",
   "id": "967ed0f5",
   "metadata": {},
   "source": [
    "### Categorical features"
   ]
  },
  {
   "cell_type": "code",
   "execution_count": 15,
   "id": "fee0f46a",
   "metadata": {},
   "outputs": [
    {
     "data": {
      "text/plain": [
       "Index(['Employment_experience_in_years', 'Ownership_of_home',\n",
       "       'Income_verification', 'Purpose_Of_Loan', 'Gender'],\n",
       "      dtype='object')"
      ]
     },
     "execution_count": 15,
     "metadata": {},
     "output_type": "execute_result"
    }
   ],
   "source": [
    "cat_feat = data.select_dtypes(include='O')\n",
    "cat_feat.columns"
   ]
  },
  {
   "cell_type": "code",
   "execution_count": 16,
   "id": "2c4f0fe0",
   "metadata": {},
   "outputs": [
    {
     "name": "stdout",
     "output_type": "stream",
     "text": [
      "Employment_experience_in_years \n",
      " ['< 1 year' '4 years' '7 years' '8 years' '2 years' '10+ years' '1 year'\n",
      " nan '6 years' '9 years' '3 years' '5 years']\n",
      "Ownership_of_home \n",
      " ['Rent' 'Mortgage' nan 'Own' 'Other' 'None']\n",
      "Income_verification \n",
      " ['not verified' 'VERIFIED - income' 'VERIFIED - income source']\n",
      "Purpose_Of_Loan \n",
      " ['car' 'debt_consolidation' 'credit_card' 'home_improvement'\n",
      " 'major_purchase' 'other' 'medical' 'small_business' 'moving' 'wedding'\n",
      " 'vacation' 'house' 'educational' 'renewable_energy']\n",
      "Gender \n",
      " ['Female' 'Male']\n"
     ]
    }
   ],
   "source": [
    "for i in cat_feat.columns:\n",
    "    print(i, '\\n', data[i].unique())"
   ]
  },
  {
   "cell_type": "code",
   "execution_count": 17,
   "id": "2108fa9b",
   "metadata": {},
   "outputs": [
    {
     "data": {
      "image/png": "[encoded data removed]",
      "text/plain": [
       "<Figure size 1296x504 with 5 Axes>"
      ]
     },
     "metadata": {},
     "output_type": "display_data"
    }
   ],
   "source": [
    "fig, ax = plt.subplots(nrows=3, ncols=2)\n",
    "sns.countplot(data['Employment_experience_in_years'], ax=ax[0][0])\n",
    "sns.countplot(data['Ownership_of_home'], ax=ax[0][1])\n",
    "sns.countplot(data['Income_verification'], ax=ax[1][0],)\n",
    "sns.countplot(data['Gender'], ax=ax[1][1])\n",
    "sns.countplot(data['Purpose_Of_Loan'], ax=ax[2][0])\n",
    "fig.delaxes(ax[2][1])\n",
    "plt.tight_layout()\n",
    "plt.show()"
   ]
  },
  {
   "cell_type": "code",
   "execution_count": 18,
   "id": "8a788e77",
   "metadata": {},
   "outputs": [
    {
     "data": {
      "image/png": "[encoded data removed]",
      "text/plain": [
       "<Figure size 1296x504 with 1 Axes>"
      ]
     },
     "metadata": {},
     "output_type": "display_data"
    }
   ],
   "source": [
    "sns.countplot(data['Purpose_Of_Loan'], data=data);"
   ]
  },
  {
   "cell_type": "raw",
   "id": "ca3b46d0",
   "metadata": {},
   "source": []
  },
  {
   "cell_type": "code",
   "execution_count": 19,
   "id": "c23f3801",
   "metadata": {},
   "outputs": [],
   "source": [
    "# Length employed\n",
    "# Converting Length employed into different categories based on years of experience."
   ]
  },
  {
   "cell_type": "code",
   "execution_count": 20,
   "id": "7707fe1c",
   "metadata": {},
   "outputs": [
    {
     "data": {
      "text/plain": [
       "array(['< 1 year', '4 years', '7 years', '8 years', '2 years',\n",
       "       '10+ years', '1 year', nan, '6 years', '9 years', '3 years',\n",
       "       '5 years'], dtype=object)"
      ]
     },
     "execution_count": 20,
     "metadata": {},
     "output_type": "execute_result"
    }
   ],
   "source": [
    "data.Employment_experience_in_years.unique()"
   ]
  },
  {
   "cell_type": "code",
   "execution_count": 21,
   "id": "17574685",
   "metadata": {},
   "outputs": [
    {
     "data": {
      "text/plain": [
       "10+ years    52915\n",
       "2 years      14620\n",
       "3 years      12974\n",
       "< 1 year     12805\n",
       "5 years      10814\n",
       "1 year       10422\n",
       "4 years       9784\n",
       "7 years       9308\n",
       "6 years       9094\n",
       "8 years       7917\n",
       "9 years       6285\n",
       "Name: Employment_experience_in_years, dtype: int64"
      ]
     },
     "execution_count": 21,
     "metadata": {},
     "output_type": "execute_result"
    }
   ],
   "source": [
    "data.Employment_experience_in_years.value_counts()"
   ]
  },
  {
   "cell_type": "raw",
   "id": "d0b016a3",
   "metadata": {},
   "source": [
    "A --> More than 10 years of experience\n",
    "B --> 6 to 9 years of experience\n",
    "C --> 3 to 5 years of experience\n",
    "D --> less than 3 years of experience"
   ]
  },
  {
   "cell_type": "raw",
   "id": "a9ce55c2",
   "metadata": {},
   "source": [
    "data['Length_Employed'] = data['Length_Employed'].replace(to_replace=['10+ years',] ,value='A')\n",
    "data['Length_Employed'] = data['Length_Employed'].replace(to_replace=['6 years', '7 years', '8 years','9 years'] ,value='B')\n",
    "data['Length_Employed'] = data['Length_Employed'].replace(to_replace=['3 years', '4 years', '5 years'] ,value='C')\n",
    "data['Length_Employed'] = data['Length_Employed'].replace(to_replace=['2 years', '1 year', '< 1 year'] ,value='D')"
   ]
  },
  {
   "cell_type": "code",
   "execution_count": 22,
   "id": "3513ae35",
   "metadata": {},
   "outputs": [],
   "source": [
    "data['Employment_experience_in_years'] = data['Employment_experience_in_years'].replace(to_replace=['< 1 year', '4 years', '7 years', '8 years', '2 years','10+ years', '1 year','6 years', '9 years', '3 years','5 years'],\n",
    "                                                               value=['0', '4', '7', '8', '2', '10+', '1', '6', '9', '3', '5'])"
   ]
  },
  {
   "cell_type": "code",
   "execution_count": 23,
   "id": "5d32f51d",
   "metadata": {},
   "outputs": [
    {
     "data": {
      "text/plain": [
       "10+    52915\n",
       "2      14620\n",
       "3      12974\n",
       "0      12805\n",
       "5      10814\n",
       "1      10422\n",
       "4       9784\n",
       "7       9308\n",
       "6       9094\n",
       "8       7917\n",
       "9       6285\n",
       "Name: Employment_experience_in_years, dtype: int64"
      ]
     },
     "execution_count": 23,
     "metadata": {},
     "output_type": "execute_result"
    }
   ],
   "source": [
    "data['Employment_experience_in_years'].value_counts()"
   ]
  },
  {
   "cell_type": "raw",
   "id": "c9e054b4",
   "metadata": {},
   "source": []
  },
  {
   "cell_type": "code",
   "execution_count": 24,
   "id": "06ab270f",
   "metadata": {},
   "outputs": [
    {
     "data": {
      "text/plain": [
       "array(['Rent', 'Mortgage', nan, 'Own', 'Other', 'None'], dtype=object)"
      ]
     },
     "execution_count": 24,
     "metadata": {},
     "output_type": "execute_result"
    }
   ],
   "source": [
    "# Home_Owner\n",
    "data.Ownership_of_home.unique()"
   ]
  },
  {
   "cell_type": "code",
   "execution_count": 25,
   "id": "3bfe170a",
   "metadata": {},
   "outputs": [
    {
     "data": {
      "text/plain": [
       "Mortgage    70345\n",
       "Rent        56031\n",
       "Own         12525\n",
       "Other          49\n",
       "None           10\n",
       "Name: Ownership_of_home, dtype: int64"
      ]
     },
     "execution_count": 25,
     "metadata": {},
     "output_type": "execute_result"
    }
   ],
   "source": [
    "data.Ownership_of_home.value_counts()"
   ]
  },
  {
   "cell_type": "code",
   "execution_count": 26,
   "id": "0721ae8f",
   "metadata": {},
   "outputs": [],
   "source": [
    "data['Ownership_of_home'] = np.where(data['Ownership_of_home']=='Other', 'None', data['Ownership_of_home'])"
   ]
  },
  {
   "cell_type": "code",
   "execution_count": 27,
   "id": "4e020dec",
   "metadata": {},
   "outputs": [
    {
     "data": {
      "text/plain": [
       "Mortgage    70345\n",
       "Rent        56031\n",
       "Own         12525\n",
       "None           59\n",
       "Name: Ownership_of_home, dtype: int64"
      ]
     },
     "execution_count": 27,
     "metadata": {},
     "output_type": "execute_result"
    }
   ],
   "source": [
    "data.Ownership_of_home.value_counts()"
   ]
  },
  {
   "cell_type": "code",
   "execution_count": 28,
   "id": "83ae046b",
   "metadata": {},
   "outputs": [
    {
     "data": {
      "text/plain": [
       "Mortgage    0.506225\n",
       "Rent        0.403217\n",
       "Own         0.090134\n",
       "None        0.000425\n",
       "Name: Ownership_of_home, dtype: float64"
      ]
     },
     "execution_count": 28,
     "metadata": {},
     "output_type": "execute_result"
    }
   ],
   "source": [
    "data.Ownership_of_home.value_counts(normalize=True)"
   ]
  },
  {
   "cell_type": "code",
   "execution_count": 29,
   "id": "5dec9a11",
   "metadata": {},
   "outputs": [
    {
     "data": {
      "text/plain": [
       "count       138960\n",
       "unique           4\n",
       "top       Mortgage\n",
       "freq         70345\n",
       "Name: Ownership_of_home, dtype: object"
      ]
     },
     "execution_count": 29,
     "metadata": {},
     "output_type": "execute_result"
    }
   ],
   "source": [
    "data.Ownership_of_home.describe()"
   ]
  },
  {
   "cell_type": "raw",
   "id": "8e6100c7",
   "metadata": {},
   "source": []
  },
  {
   "cell_type": "code",
   "execution_count": 30,
   "id": "5c98b529",
   "metadata": {},
   "outputs": [
    {
     "data": {
      "text/plain": [
       "array(['not verified', 'VERIFIED - income', 'VERIFIED - income source'],\n",
       "      dtype=object)"
      ]
     },
     "execution_count": 30,
     "metadata": {},
     "output_type": "execute_result"
    }
   ],
   "source": [
    "# Income_Verified \n",
    "data.Income_verification.unique()"
   ]
  },
  {
   "cell_type": "code",
   "execution_count": 31,
   "id": "f38253f3",
   "metadata": {},
   "outputs": [
    {
     "data": {
      "text/plain": [
       "VERIFIED - income           0.361642\n",
       "VERIFIED - income source    0.322654\n",
       "not verified                0.315704\n",
       "Name: Income_verification, dtype: float64"
      ]
     },
     "execution_count": 31,
     "metadata": {},
     "output_type": "execute_result"
    }
   ],
   "source": [
    "data.Income_verification.value_counts(normalize=True)"
   ]
  },
  {
   "cell_type": "code",
   "execution_count": 32,
   "id": "957a1b11",
   "metadata": {},
   "outputs": [],
   "source": [
    "data['Income_verification'] = data['Income_verification'].replace(to_replace=['VERIFIED - income', 'VERIFIED - income source'], value='verified')"
   ]
  },
  {
   "cell_type": "code",
   "execution_count": 33,
   "id": "a74e4d20",
   "metadata": {},
   "outputs": [
    {
     "data": {
      "text/plain": [
       "verified        0.684296\n",
       "not verified    0.315704\n",
       "Name: Income_verification, dtype: float64"
      ]
     },
     "execution_count": 33,
     "metadata": {},
     "output_type": "execute_result"
    }
   ],
   "source": [
    "data.Income_verification.value_counts(normalize=True)"
   ]
  },
  {
   "cell_type": "code",
   "execution_count": 34,
   "id": "db8e27ff",
   "metadata": {},
   "outputs": [
    {
     "data": {
      "text/plain": [
       "array(['car', 'debt_consolidation', 'credit_card', 'home_improvement',\n",
       "       'major_purchase', 'other', 'medical', 'small_business', 'moving',\n",
       "       'wedding', 'vacation', 'house', 'educational', 'renewable_energy'],\n",
       "      dtype=object)"
      ]
     },
     "execution_count": 34,
     "metadata": {},
     "output_type": "execute_result"
    }
   ],
   "source": [
    "# Purpose_Of_Loan \n",
    "data.Purpose_Of_Loan.unique()"
   ]
  },
  {
   "cell_type": "code",
   "execution_count": 35,
   "id": "2672d2de",
   "metadata": {},
   "outputs": [
    {
     "data": {
      "text/plain": [
       "debt_consolidation    97101\n",
       "credit_card           36684\n",
       "home_improvement       9269\n",
       "other                  8346\n",
       "major_purchase         3435\n",
       "small_business         2392\n",
       "car                    1885\n",
       "medical                1541\n",
       "moving                  974\n",
       "vacation                837\n",
       "wedding                 828\n",
       "house                   773\n",
       "renewable_energy        123\n",
       "educational             121\n",
       "Name: Purpose_Of_Loan, dtype: int64"
      ]
     },
     "execution_count": 35,
     "metadata": {},
     "output_type": "execute_result"
    }
   ],
   "source": [
    "data.Purpose_Of_Loan.value_counts()"
   ]
  },
  {
   "cell_type": "raw",
   "id": "13401726",
   "metadata": {},
   "source": []
  },
  {
   "cell_type": "raw",
   "id": "64a8f142",
   "metadata": {},
   "source": [
    "data['Interest_Rate'] = data['Interest_Rate'].astype('category')"
   ]
  },
  {
   "cell_type": "code",
   "execution_count": 36,
   "id": "867afe34",
   "metadata": {},
   "outputs": [
    {
     "data": {
      "text/plain": [
       "2    70580\n",
       "3    59923\n",
       "1    33806\n",
       "Name: Interest_Rate, dtype: int64"
      ]
     },
     "execution_count": 36,
     "metadata": {},
     "output_type": "execute_result"
    }
   ],
   "source": [
    "data.Interest_Rate.value_counts()"
   ]
  },
  {
   "cell_type": "code",
   "execution_count": 37,
   "id": "d19b1d92",
   "metadata": {},
   "outputs": [
    {
     "data": {
      "text/plain": [
       "count    164309.000000\n",
       "mean          2.158951\n",
       "std           0.738364\n",
       "min           1.000000\n",
       "25%           2.000000\n",
       "50%           2.000000\n",
       "75%           3.000000\n",
       "max           3.000000\n",
       "Name: Interest_Rate, dtype: float64"
      ]
     },
     "execution_count": 37,
     "metadata": {},
     "output_type": "execute_result"
    }
   ],
   "source": [
    "data.Interest_Rate.describe()"
   ]
  },
  {
   "cell_type": "markdown",
   "id": "abdb2d35",
   "metadata": {},
   "source": [
    "### Numerical features"
   ]
  },
  {
   "cell_type": "code",
   "execution_count": 38,
   "id": "eef1e9b1",
   "metadata": {},
   "outputs": [
    {
     "data": {
      "text/plain": [
       "Index(['Loan_Amount_Requested', 'Annual_Income', 'Debt_To_Income',\n",
       "       'Inquiries_in_Last_6_Months', 'Days_since_deliquency',\n",
       "       'Number_of_Open_Accounts', 'Total_Accounts', 'Interest_Rate'],\n",
       "      dtype='object')"
      ]
     },
     "execution_count": 38,
     "metadata": {},
     "output_type": "execute_result"
    }
   ],
   "source": [
    "num_feat = data.select_dtypes(include='number')\n",
    "num_feat.columns"
   ]
  },
  {
   "cell_type": "code",
   "execution_count": 39,
   "id": "6f381ef8",
   "metadata": {},
   "outputs": [
    {
     "data": {
      "text/html": [
       "<div>\n",
       "<style scoped>\n",
       "    .dataframe tbody tr th:only-of-type {\n",
       "        vertical-align: middle;\n",
       "    }\n",
       "\n",
       "    .dataframe tbody tr th {\n",
       "        vertical-align: top;\n",
       "    }\n",
       "\n",
       "    .dataframe thead th {\n",
       "        text-align: right;\n",
       "    }\n",
       "</style>\n",
       "<table border=\"1\" class=\"dataframe\">\n",
       "  <thead>\n",
       "    <tr style=\"text-align: right;\">\n",
       "      <th></th>\n",
       "      <th>Loan_Amount_Requested</th>\n",
       "      <th>Annual_Income</th>\n",
       "      <th>Debt_To_Income</th>\n",
       "      <th>Inquiries_in_Last_6_Months</th>\n",
       "      <th>Days_since_deliquency</th>\n",
       "      <th>Number_of_Open_Accounts</th>\n",
       "      <th>Total_Accounts</th>\n",
       "      <th>Interest_Rate</th>\n",
       "    </tr>\n",
       "  </thead>\n",
       "  <tbody>\n",
       "    <tr>\n",
       "      <th>count</th>\n",
       "      <td>164309.00</td>\n",
       "      <td>139207.00</td>\n",
       "      <td>164309.00</td>\n",
       "      <td>164309.00</td>\n",
       "      <td>75930.00</td>\n",
       "      <td>164309.00</td>\n",
       "      <td>164309.00</td>\n",
       "      <td>164309.00</td>\n",
       "    </tr>\n",
       "    <tr>\n",
       "      <th>mean</th>\n",
       "      <td>14349.34</td>\n",
       "      <td>73331.16</td>\n",
       "      <td>17.21</td>\n",
       "      <td>0.78</td>\n",
       "      <td>34.23</td>\n",
       "      <td>11.19</td>\n",
       "      <td>25.07</td>\n",
       "      <td>2.16</td>\n",
       "    </tr>\n",
       "    <tr>\n",
       "      <th>std</th>\n",
       "      <td>8281.87</td>\n",
       "      <td>60377.50</td>\n",
       "      <td>7.85</td>\n",
       "      <td>1.03</td>\n",
       "      <td>21.76</td>\n",
       "      <td>4.99</td>\n",
       "      <td>11.58</td>\n",
       "      <td>0.74</td>\n",
       "    </tr>\n",
       "    <tr>\n",
       "      <th>min</th>\n",
       "      <td>500.00</td>\n",
       "      <td>4000.00</td>\n",
       "      <td>0.00</td>\n",
       "      <td>0.00</td>\n",
       "      <td>0.00</td>\n",
       "      <td>0.00</td>\n",
       "      <td>2.00</td>\n",
       "      <td>1.00</td>\n",
       "    </tr>\n",
       "    <tr>\n",
       "      <th>25%</th>\n",
       "      <td>8000.00</td>\n",
       "      <td>45000.00</td>\n",
       "      <td>11.37</td>\n",
       "      <td>0.00</td>\n",
       "      <td>16.00</td>\n",
       "      <td>8.00</td>\n",
       "      <td>17.00</td>\n",
       "      <td>2.00</td>\n",
       "    </tr>\n",
       "    <tr>\n",
       "      <th>50%</th>\n",
       "      <td>12075.00</td>\n",
       "      <td>63000.00</td>\n",
       "      <td>16.84</td>\n",
       "      <td>0.00</td>\n",
       "      <td>31.00</td>\n",
       "      <td>10.00</td>\n",
       "      <td>23.00</td>\n",
       "      <td>2.00</td>\n",
       "    </tr>\n",
       "    <tr>\n",
       "      <th>75%</th>\n",
       "      <td>20000.00</td>\n",
       "      <td>88697.50</td>\n",
       "      <td>22.78</td>\n",
       "      <td>1.00</td>\n",
       "      <td>50.00</td>\n",
       "      <td>14.00</td>\n",
       "      <td>32.00</td>\n",
       "      <td>3.00</td>\n",
       "    </tr>\n",
       "    <tr>\n",
       "      <th>max</th>\n",
       "      <td>35000.00</td>\n",
       "      <td>7500000.00</td>\n",
       "      <td>39.99</td>\n",
       "      <td>8.00</td>\n",
       "      <td>180.00</td>\n",
       "      <td>76.00</td>\n",
       "      <td>156.00</td>\n",
       "      <td>3.00</td>\n",
       "    </tr>\n",
       "  </tbody>\n",
       "</table>\n",
       "</div>"
      ],
      "text/plain": [
       "       Loan_Amount_Requested  Annual_Income  Debt_To_Income  \\\n",
       "count              164309.00      139207.00       164309.00   \n",
       "mean                14349.34       73331.16           17.21   \n",
       "std                  8281.87       60377.50            7.85   \n",
       "min                   500.00        4000.00            0.00   \n",
       "25%                  8000.00       45000.00           11.37   \n",
       "50%                 12075.00       63000.00           16.84   \n",
       "75%                 20000.00       88697.50           22.78   \n",
       "max                 35000.00     7500000.00           39.99   \n",
       "\n",
       "       Inquiries_in_Last_6_Months  Days_since_deliquency  \\\n",
       "count                   164309.00               75930.00   \n",
       "mean                         0.78                  34.23   \n",
       "std                          1.03                  21.76   \n",
       "min                          0.00                   0.00   \n",
       "25%                          0.00                  16.00   \n",
       "50%                          0.00                  31.00   \n",
       "75%                          1.00                  50.00   \n",
       "max                          8.00                 180.00   \n",
       "\n",
       "       Number_of_Open_Accounts  Total_Accounts  Interest_Rate  \n",
       "count                164309.00       164309.00      164309.00  \n",
       "mean                     11.19           25.07           2.16  \n",
       "std                       4.99           11.58           0.74  \n",
       "min                       0.00            2.00           1.00  \n",
       "25%                       8.00           17.00           2.00  \n",
       "50%                      10.00           23.00           2.00  \n",
       "75%                      14.00           32.00           3.00  \n",
       "max                      76.00          156.00           3.00  "
      ]
     },
     "execution_count": 39,
     "metadata": {},
     "output_type": "execute_result"
    }
   ],
   "source": [
    "num_feat.describe().round(2)"
   ]
  },
  {
   "cell_type": "code",
   "execution_count": 40,
   "id": "1d78a4b8",
   "metadata": {},
   "outputs": [
    {
     "data": {
      "image/png": "[encoded data removed]",
      "text/plain": [
       "<Figure size 1296x504 with 9 Axes>"
      ]
     },
     "metadata": {},
     "output_type": "display_data"
    }
   ],
   "source": [
    "# Distribution of data\n",
    "data.hist()\n",
    "plt.show()"
   ]
  },
  {
   "cell_type": "raw",
   "id": "38d047f9",
   "metadata": {},
   "source": []
  },
  {
   "cell_type": "markdown",
   "id": "0793f286",
   "metadata": {},
   "source": [
    "### Duplicated Records"
   ]
  },
  {
   "cell_type": "code",
   "execution_count": 41,
   "id": "9503b6c0",
   "metadata": {},
   "outputs": [
    {
     "data": {
      "text/plain": [
       "0"
      ]
     },
     "execution_count": 41,
     "metadata": {},
     "output_type": "execute_result"
    }
   ],
   "source": [
    "data.duplicated().sum()"
   ]
  },
  {
   "cell_type": "markdown",
   "id": "365b06a5",
   "metadata": {},
   "source": [
    "### Null values"
   ]
  },
  {
   "cell_type": "code",
   "execution_count": 42,
   "id": "256cddee",
   "metadata": {},
   "outputs": [
    {
     "data": {
      "text/plain": [
       "Loan_Amount_Requested                 0\n",
       "Employment_experience_in_years     7371\n",
       "Ownership_of_home                 25349\n",
       "Annual_Income                     25102\n",
       "Income_verification                   0\n",
       "Purpose_Of_Loan                       0\n",
       "Debt_To_Income                        0\n",
       "Inquiries_in_Last_6_Months            0\n",
       "Days_since_deliquency             88379\n",
       "Number_of_Open_Accounts               0\n",
       "Total_Accounts                        0\n",
       "Gender                                0\n",
       "Interest_Rate                         0\n",
       "dtype: int64"
      ]
     },
     "execution_count": 42,
     "metadata": {},
     "output_type": "execute_result"
    }
   ],
   "source": [
    "\n",
    "data.isnull().sum()"
   ]
  },
  {
   "cell_type": "code",
   "execution_count": 43,
   "id": "73560bb9",
   "metadata": {},
   "outputs": [
    {
     "data": {
      "text/plain": [
       "0.04486059801958505"
      ]
     },
     "execution_count": 43,
     "metadata": {},
     "output_type": "execute_result"
    }
   ],
   "source": [
    "data['Employment_experience_in_years'].isnull().sum()/data.shape[0]"
   ]
  },
  {
   "cell_type": "code",
   "execution_count": null,
   "id": "328cbcc7",
   "metadata": {},
   "outputs": [],
   "source": []
  },
  {
   "cell_type": "code",
   "execution_count": 44,
   "id": "3e73f239",
   "metadata": {},
   "outputs": [
    {
     "data": {
      "image/png": "[encoded data removed]",
      "text/plain": [
       "<Figure size 1296x504 with 2 Axes>"
      ]
     },
     "metadata": {},
     "output_type": "display_data"
    }
   ],
   "source": [
    "# Visualization of null values\n",
    "sns.heatmap(data.isnull(), yticklabels=False);"
   ]
  },
  {
   "cell_type": "code",
   "execution_count": 45,
   "id": "f63b972c",
   "metadata": {},
   "outputs": [],
   "source": [
    "# Replacing null values in categorical features\n",
    "data['Ownership_of_home'] = data['Ownership_of_home'].fillna(data['Ownership_of_home'].mode()[0])\n",
    "data['Employment_experience_in_years'] = data['Employment_experience_in_years'].fillna(data['Employment_experience_in_years'].mode()[0])"
   ]
  },
  {
   "cell_type": "markdown",
   "id": "41a1ddcd",
   "metadata": {},
   "source": [
    "    * Null values in categorical features are replaced with mode value (most frequent value)"
   ]
  },
  {
   "cell_type": "code",
   "execution_count": 46,
   "id": "6e4e90e2",
   "metadata": {},
   "outputs": [],
   "source": [
    "# Replacing null values in numerical features\n",
    "data['Annual_Income'] = data['Annual_Income'].fillna(data['Annual_Income'].mean())\n",
    "data['Days_since_deliquency'] = data['Days_since_deliquency'].fillna(data['Days_since_deliquency'].mode()[0])"
   ]
  },
  {
   "cell_type": "markdown",
   "id": "a0b9b7ac",
   "metadata": {},
   "source": [
    "    * Null values in numerical features are replaced with mean and mode values"
   ]
  },
  {
   "cell_type": "code",
   "execution_count": 47,
   "id": "1a0dfbd3",
   "metadata": {},
   "outputs": [
    {
     "data": {
      "text/plain": [
       "Loan_Amount_Requested             0\n",
       "Employment_experience_in_years    0\n",
       "Ownership_of_home                 0\n",
       "Annual_Income                     0\n",
       "Income_verification               0\n",
       "Purpose_Of_Loan                   0\n",
       "Debt_To_Income                    0\n",
       "Inquiries_in_Last_6_Months        0\n",
       "Days_since_deliquency             0\n",
       "Number_of_Open_Accounts           0\n",
       "Total_Accounts                    0\n",
       "Gender                            0\n",
       "Interest_Rate                     0\n",
       "dtype: int64"
      ]
     },
     "execution_count": 47,
     "metadata": {},
     "output_type": "execute_result"
    }
   ],
   "source": [
    "data.isnull().sum()"
   ]
  },
  {
   "cell_type": "markdown",
   "id": "5617b31e",
   "metadata": {},
   "source": [
    "    * Now there is no null values in our data"
   ]
  },
  {
   "cell_type": "code",
   "execution_count": 48,
   "id": "1ebcbd27",
   "metadata": {},
   "outputs": [
    {
     "data": {
      "image/png": "[encoded data removed]",
      "text/plain": [
       "<Figure size 1296x504 with 2 Axes>"
      ]
     },
     "metadata": {},
     "output_type": "display_data"
    }
   ],
   "source": [
    "sns.heatmap(data.isnull(), yticklabels=False);"
   ]
  },
  {
   "cell_type": "markdown",
   "id": "d6eb5fd8",
   "metadata": {},
   "source": [
    "### Outliers"
   ]
  },
  {
   "cell_type": "code",
   "execution_count": 49,
   "id": "2ca3f04f",
   "metadata": {},
   "outputs": [
    {
     "data": {
      "text/html": [
       "<div>\n",
       "<style scoped>\n",
       "    .dataframe tbody tr th:only-of-type {\n",
       "        vertical-align: middle;\n",
       "    }\n",
       "\n",
       "    .dataframe tbody tr th {\n",
       "        vertical-align: top;\n",
       "    }\n",
       "\n",
       "    .dataframe thead th {\n",
       "        text-align: right;\n",
       "    }\n",
       "</style>\n",
       "<table border=\"1\" class=\"dataframe\">\n",
       "  <thead>\n",
       "    <tr style=\"text-align: right;\">\n",
       "      <th></th>\n",
       "      <th>Loan_Amount_Requested</th>\n",
       "      <th>Annual_Income</th>\n",
       "      <th>Debt_To_Income</th>\n",
       "      <th>Inquiries_in_Last_6_Months</th>\n",
       "      <th>Days_since_deliquency</th>\n",
       "      <th>Number_of_Open_Accounts</th>\n",
       "      <th>Total_Accounts</th>\n",
       "      <th>Interest_Rate</th>\n",
       "    </tr>\n",
       "  </thead>\n",
       "  <tbody>\n",
       "    <tr>\n",
       "      <th>count</th>\n",
       "      <td>164309.00</td>\n",
       "      <td>164309.00</td>\n",
       "      <td>164309.00</td>\n",
       "      <td>164309.00</td>\n",
       "      <td>164309.00</td>\n",
       "      <td>164309.00</td>\n",
       "      <td>164309.00</td>\n",
       "      <td>164309.00</td>\n",
       "    </tr>\n",
       "    <tr>\n",
       "      <th>mean</th>\n",
       "      <td>14349.34</td>\n",
       "      <td>73331.16</td>\n",
       "      <td>17.21</td>\n",
       "      <td>0.78</td>\n",
       "      <td>20.66</td>\n",
       "      <td>11.19</td>\n",
       "      <td>25.07</td>\n",
       "      <td>2.16</td>\n",
       "    </tr>\n",
       "    <tr>\n",
       "      <th>std</th>\n",
       "      <td>8281.87</td>\n",
       "      <td>55574.39</td>\n",
       "      <td>7.85</td>\n",
       "      <td>1.03</td>\n",
       "      <td>19.42</td>\n",
       "      <td>4.99</td>\n",
       "      <td>11.58</td>\n",
       "      <td>0.74</td>\n",
       "    </tr>\n",
       "    <tr>\n",
       "      <th>min</th>\n",
       "      <td>500.00</td>\n",
       "      <td>4000.00</td>\n",
       "      <td>0.00</td>\n",
       "      <td>0.00</td>\n",
       "      <td>0.00</td>\n",
       "      <td>0.00</td>\n",
       "      <td>2.00</td>\n",
       "      <td>1.00</td>\n",
       "    </tr>\n",
       "    <tr>\n",
       "      <th>1%</th>\n",
       "      <td>1800.00</td>\n",
       "      <td>20000.00</td>\n",
       "      <td>1.67</td>\n",
       "      <td>0.00</td>\n",
       "      <td>3.00</td>\n",
       "      <td>3.00</td>\n",
       "      <td>6.00</td>\n",
       "      <td>1.00</td>\n",
       "    </tr>\n",
       "    <tr>\n",
       "      <th>5%</th>\n",
       "      <td>3500.00</td>\n",
       "      <td>29643.40</td>\n",
       "      <td>4.84</td>\n",
       "      <td>0.00</td>\n",
       "      <td>8.00</td>\n",
       "      <td>5.00</td>\n",
       "      <td>9.00</td>\n",
       "      <td>1.00</td>\n",
       "    </tr>\n",
       "    <tr>\n",
       "      <th>10%</th>\n",
       "      <td>5000.00</td>\n",
       "      <td>35000.00</td>\n",
       "      <td>7.04</td>\n",
       "      <td>0.00</td>\n",
       "      <td>9.00</td>\n",
       "      <td>6.00</td>\n",
       "      <td>12.00</td>\n",
       "      <td>1.00</td>\n",
       "    </tr>\n",
       "    <tr>\n",
       "      <th>25%</th>\n",
       "      <td>8000.00</td>\n",
       "      <td>48600.00</td>\n",
       "      <td>11.37</td>\n",
       "      <td>0.00</td>\n",
       "      <td>9.00</td>\n",
       "      <td>8.00</td>\n",
       "      <td>17.00</td>\n",
       "      <td>2.00</td>\n",
       "    </tr>\n",
       "    <tr>\n",
       "      <th>50%</th>\n",
       "      <td>12075.00</td>\n",
       "      <td>70000.00</td>\n",
       "      <td>16.84</td>\n",
       "      <td>0.00</td>\n",
       "      <td>9.00</td>\n",
       "      <td>10.00</td>\n",
       "      <td>23.00</td>\n",
       "      <td>2.00</td>\n",
       "    </tr>\n",
       "    <tr>\n",
       "      <th>75%</th>\n",
       "      <td>20000.00</td>\n",
       "      <td>82000.00</td>\n",
       "      <td>22.78</td>\n",
       "      <td>1.00</td>\n",
       "      <td>28.00</td>\n",
       "      <td>14.00</td>\n",
       "      <td>32.00</td>\n",
       "      <td>3.00</td>\n",
       "    </tr>\n",
       "    <tr>\n",
       "      <th>90%</th>\n",
       "      <td>26375.00</td>\n",
       "      <td>115000.00</td>\n",
       "      <td>27.99</td>\n",
       "      <td>2.00</td>\n",
       "      <td>53.00</td>\n",
       "      <td>18.00</td>\n",
       "      <td>41.00</td>\n",
       "      <td>3.00</td>\n",
       "    </tr>\n",
       "    <tr>\n",
       "      <th>95%</th>\n",
       "      <td>30000.00</td>\n",
       "      <td>140000.00</td>\n",
       "      <td>30.76</td>\n",
       "      <td>3.00</td>\n",
       "      <td>67.00</td>\n",
       "      <td>20.00</td>\n",
       "      <td>47.00</td>\n",
       "      <td>3.00</td>\n",
       "    </tr>\n",
       "    <tr>\n",
       "      <th>99%</th>\n",
       "      <td>35000.00</td>\n",
       "      <td>225000.00</td>\n",
       "      <td>34.67</td>\n",
       "      <td>4.00</td>\n",
       "      <td>79.00</td>\n",
       "      <td>27.00</td>\n",
       "      <td>59.00</td>\n",
       "      <td>3.00</td>\n",
       "    </tr>\n",
       "    <tr>\n",
       "      <th>max</th>\n",
       "      <td>35000.00</td>\n",
       "      <td>7500000.00</td>\n",
       "      <td>39.99</td>\n",
       "      <td>8.00</td>\n",
       "      <td>180.00</td>\n",
       "      <td>76.00</td>\n",
       "      <td>156.00</td>\n",
       "      <td>3.00</td>\n",
       "    </tr>\n",
       "  </tbody>\n",
       "</table>\n",
       "</div>"
      ],
      "text/plain": [
       "       Loan_Amount_Requested  Annual_Income  Debt_To_Income  \\\n",
       "count              164309.00      164309.00       164309.00   \n",
       "mean                14349.34       73331.16           17.21   \n",
       "std                  8281.87       55574.39            7.85   \n",
       "min                   500.00        4000.00            0.00   \n",
       "1%                   1800.00       20000.00            1.67   \n",
       "5%                   3500.00       29643.40            4.84   \n",
       "10%                  5000.00       35000.00            7.04   \n",
       "25%                  8000.00       48600.00           11.37   \n",
       "50%                 12075.00       70000.00           16.84   \n",
       "75%                 20000.00       82000.00           22.78   \n",
       "90%                 26375.00      115000.00           27.99   \n",
       "95%                 30000.00      140000.00           30.76   \n",
       "99%                 35000.00      225000.00           34.67   \n",
       "max                 35000.00     7500000.00           39.99   \n",
       "\n",
       "       Inquiries_in_Last_6_Months  Days_since_deliquency  \\\n",
       "count                   164309.00              164309.00   \n",
       "mean                         0.78                  20.66   \n",
       "std                          1.03                  19.42   \n",
       "min                          0.00                   0.00   \n",
       "1%                           0.00                   3.00   \n",
       "5%                           0.00                   8.00   \n",
       "10%                          0.00                   9.00   \n",
       "25%                          0.00                   9.00   \n",
       "50%                          0.00                   9.00   \n",
       "75%                          1.00                  28.00   \n",
       "90%                          2.00                  53.00   \n",
       "95%                          3.00                  67.00   \n",
       "99%                          4.00                  79.00   \n",
       "max                          8.00                 180.00   \n",
       "\n",
       "       Number_of_Open_Accounts  Total_Accounts  Interest_Rate  \n",
       "count                164309.00       164309.00      164309.00  \n",
       "mean                     11.19           25.07           2.16  \n",
       "std                       4.99           11.58           0.74  \n",
       "min                       0.00            2.00           1.00  \n",
       "1%                        3.00            6.00           1.00  \n",
       "5%                        5.00            9.00           1.00  \n",
       "10%                       6.00           12.00           1.00  \n",
       "25%                       8.00           17.00           2.00  \n",
       "50%                      10.00           23.00           2.00  \n",
       "75%                      14.00           32.00           3.00  \n",
       "90%                      18.00           41.00           3.00  \n",
       "95%                      20.00           47.00           3.00  \n",
       "99%                      27.00           59.00           3.00  \n",
       "max                      76.00          156.00           3.00  "
      ]
     },
     "execution_count": 49,
     "metadata": {},
     "output_type": "execute_result"
    }
   ],
   "source": [
    "data.describe(percentiles=[0.01, 0.05, 0.1, 0.25, 0.5, 0.75, 0.9,0.95, 0.99]).round(2)"
   ]
  },
  {
   "cell_type": "markdown",
   "id": "6866f591",
   "metadata": {},
   "source": [
    "    From describe method we observed that, \n",
    "        * Outliers are present in Annual_income, Days_since_deliquency, Number_of_Open_Accounts, Total_Accounts"
   ]
  },
  {
   "cell_type": "code",
   "execution_count": 50,
   "id": "51eecd60",
   "metadata": {},
   "outputs": [
    {
     "data": {
      "image/png": "[encoded data removed]",
      "text/plain": [
       "<Figure size 1296x504 with 1 Axes>"
      ]
     },
     "metadata": {},
     "output_type": "display_data"
    }
   ],
   "source": [
    "# Annual Income\n",
    "sns.boxplot(data=data, x='Annual_Income');"
   ]
  },
  {
   "cell_type": "code",
   "execution_count": 51,
   "id": "3ec01b48",
   "metadata": {},
   "outputs": [],
   "source": [
    "Q1 = data.Annual_Income.quantile(0.25)\n",
    "Q3 = data.Annual_Income.quantile(0.75)\n",
    "IQR = Q3-Q1"
   ]
  },
  {
   "cell_type": "code",
   "execution_count": 52,
   "id": "835aa3ef",
   "metadata": {},
   "outputs": [
    {
     "name": "stdout",
     "output_type": "stream",
     "text": [
      "Lower limit = -1500.0\n",
      "Upper limit = 132100.0\n"
     ]
    }
   ],
   "source": [
    "lower_limit = Q1-(1.5*IQR)\n",
    "upper_limit = Q3+(1.5*IQR)\n",
    "print('Lower limit = {}'.format(lower_limit))\n",
    "print('Upper limit = {}'.format(upper_limit))"
   ]
  },
  {
   "cell_type": "code",
   "execution_count": 53,
   "id": "abb1e7b4",
   "metadata": {},
   "outputs": [],
   "source": [
    "# Capping upper outliers in annual income\n",
    "data['Annual_Income'] = np.where(data['Annual_Income']>=225000, 225000, data['Annual_Income'])"
   ]
  },
  {
   "cell_type": "raw",
   "id": "e8d4f841",
   "metadata": {},
   "source": []
  },
  {
   "cell_type": "code",
   "execution_count": 54,
   "id": "383d7e31",
   "metadata": {},
   "outputs": [
    {
     "data": {
      "image/png": "[encoded data removed]",
      "text/plain": [
       "<Figure size 1296x504 with 1 Axes>"
      ]
     },
     "metadata": {},
     "output_type": "display_data"
    }
   ],
   "source": [
    "# Days_since_deliquency\n",
    "sns.boxplot(data=data, x='Days_since_deliquency');"
   ]
  },
  {
   "cell_type": "code",
   "execution_count": 55,
   "id": "0e349cf6",
   "metadata": {},
   "outputs": [],
   "source": [
    "Q1 = data.Days_since_deliquency.quantile(0.25)\n",
    "Q3 = data.Days_since_deliquency.quantile(0.75)\n",
    "IQR = Q3-Q1"
   ]
  },
  {
   "cell_type": "code",
   "execution_count": 56,
   "id": "b4cb6a2a",
   "metadata": {},
   "outputs": [
    {
     "name": "stdout",
     "output_type": "stream",
     "text": [
      "Lower limit = -19.5\n",
      "Upper limit = 56.5\n"
     ]
    }
   ],
   "source": [
    "lower_limit = Q1-(1.5*IQR)\n",
    "upper_limit = Q3+(1.5*IQR)\n",
    "print('Lower limit = {}'.format(lower_limit))\n",
    "print('Upper limit = {}'.format(upper_limit))"
   ]
  },
  {
   "cell_type": "code",
   "execution_count": 57,
   "id": "0bc2a5bd",
   "metadata": {},
   "outputs": [],
   "source": [
    "data['Days_since_deliquency'] = np.where(data['Days_since_deliquency']>=80, 80,data['Days_since_deliquency'])"
   ]
  },
  {
   "cell_type": "raw",
   "id": "da96d7d8",
   "metadata": {},
   "source": []
  },
  {
   "cell_type": "code",
   "execution_count": 58,
   "id": "9094ca32",
   "metadata": {},
   "outputs": [
    {
     "data": {
      "image/png": "[encoded data removed]",
      "text/plain": [
       "<Figure size 1296x504 with 1 Axes>"
      ]
     },
     "metadata": {},
     "output_type": "display_data"
    }
   ],
   "source": [
    "# Number_of_Open_Accounts\n",
    "sns.boxplot(data=data, x='Number_of_Open_Accounts');"
   ]
  },
  {
   "cell_type": "code",
   "execution_count": 59,
   "id": "2d7b6222",
   "metadata": {},
   "outputs": [],
   "source": [
    "Q1 = data.Number_of_Open_Accounts.quantile(0.25)\n",
    "Q3 = data.Number_of_Open_Accounts.quantile(0.75)\n",
    "IQR = Q3-Q1"
   ]
  },
  {
   "cell_type": "code",
   "execution_count": 60,
   "id": "eec02f9d",
   "metadata": {},
   "outputs": [
    {
     "name": "stdout",
     "output_type": "stream",
     "text": [
      "Lower limit = -1.0\n",
      "Upper limit = 23.0\n"
     ]
    }
   ],
   "source": [
    "lower_limit = Q1-(1.5*IQR)\n",
    "upper_limit = Q3+(1.5*IQR)\n",
    "print('Lower limit = {}'.format(lower_limit))\n",
    "print('Upper limit = {}'.format(upper_limit))"
   ]
  },
  {
   "cell_type": "code",
   "execution_count": 61,
   "id": "2f0ca580",
   "metadata": {},
   "outputs": [],
   "source": [
    "# Capping upper outliers\n",
    "data['Number_of_Open_Accounts'] = np.where(data['Number_of_Open_Accounts']>=30, 30, data['Number_of_Open_Accounts'])"
   ]
  },
  {
   "cell_type": "raw",
   "id": "9d1e43b1",
   "metadata": {},
   "source": []
  },
  {
   "cell_type": "code",
   "execution_count": 62,
   "id": "3dcb9966",
   "metadata": {},
   "outputs": [
    {
     "data": {
      "image/png": "[encoded data removed]",
      "text/plain": [
       "<Figure size 1296x504 with 1 Axes>"
      ]
     },
     "metadata": {},
     "output_type": "display_data"
    }
   ],
   "source": [
    "# Total_Accounts\n",
    "sns.boxplot(data=data, x='Total_Accounts');"
   ]
  },
  {
   "cell_type": "code",
   "execution_count": 63,
   "id": "a91a79d2",
   "metadata": {},
   "outputs": [],
   "source": [
    "Q1 = data.Total_Accounts.quantile(0.25)\n",
    "Q3 = data.Total_Accounts.quantile(0.75)\n",
    "IQR = Q3-Q1"
   ]
  },
  {
   "cell_type": "code",
   "execution_count": 64,
   "id": "47288cce",
   "metadata": {},
   "outputs": [
    {
     "name": "stdout",
     "output_type": "stream",
     "text": [
      "Lower limit = -5.5\n",
      "Upper limit = 54.5\n"
     ]
    }
   ],
   "source": [
    "lower_limit = Q1-(1.5*IQR)\n",
    "upper_limit = Q3+(1.5*IQR)\n",
    "print('Lower limit = {}'.format(lower_limit))\n",
    "print('Upper limit = {}'.format(upper_limit))"
   ]
  },
  {
   "cell_type": "code",
   "execution_count": 65,
   "id": "3bbe2c0f",
   "metadata": {},
   "outputs": [],
   "source": [
    "# Capping upper outliers\n",
    "data['Total_Accounts'] = np.where(data['Total_Accounts']>=60, 60, data['Total_Accounts'])"
   ]
  },
  {
   "cell_type": "code",
   "execution_count": 66,
   "id": "56e7853e",
   "metadata": {},
   "outputs": [
    {
     "data": {
      "text/html": [
       "<div>\n",
       "<style scoped>\n",
       "    .dataframe tbody tr th:only-of-type {\n",
       "        vertical-align: middle;\n",
       "    }\n",
       "\n",
       "    .dataframe tbody tr th {\n",
       "        vertical-align: top;\n",
       "    }\n",
       "\n",
       "    .dataframe thead th {\n",
       "        text-align: right;\n",
       "    }\n",
       "</style>\n",
       "<table border=\"1\" class=\"dataframe\">\n",
       "  <thead>\n",
       "    <tr style=\"text-align: right;\">\n",
       "      <th></th>\n",
       "      <th>Loan_Amount_Requested</th>\n",
       "      <th>Annual_Income</th>\n",
       "      <th>Debt_To_Income</th>\n",
       "      <th>Inquiries_in_Last_6_Months</th>\n",
       "      <th>Days_since_deliquency</th>\n",
       "      <th>Number_of_Open_Accounts</th>\n",
       "      <th>Total_Accounts</th>\n",
       "      <th>Interest_Rate</th>\n",
       "    </tr>\n",
       "  </thead>\n",
       "  <tbody>\n",
       "    <tr>\n",
       "      <th>count</th>\n",
       "      <td>164309.00</td>\n",
       "      <td>164309.00</td>\n",
       "      <td>164309.00</td>\n",
       "      <td>164309.00</td>\n",
       "      <td>164309.00</td>\n",
       "      <td>164309.00</td>\n",
       "      <td>164309.00</td>\n",
       "      <td>164309.00</td>\n",
       "    </tr>\n",
       "    <tr>\n",
       "      <th>mean</th>\n",
       "      <td>14349.34</td>\n",
       "      <td>72079.57</td>\n",
       "      <td>17.21</td>\n",
       "      <td>0.78</td>\n",
       "      <td>20.64</td>\n",
       "      <td>11.18</td>\n",
       "      <td>25.02</td>\n",
       "      <td>2.16</td>\n",
       "    </tr>\n",
       "    <tr>\n",
       "      <th>std</th>\n",
       "      <td>8281.87</td>\n",
       "      <td>35649.73</td>\n",
       "      <td>7.85</td>\n",
       "      <td>1.03</td>\n",
       "      <td>19.36</td>\n",
       "      <td>4.90</td>\n",
       "      <td>11.42</td>\n",
       "      <td>0.74</td>\n",
       "    </tr>\n",
       "    <tr>\n",
       "      <th>min</th>\n",
       "      <td>500.00</td>\n",
       "      <td>4000.00</td>\n",
       "      <td>0.00</td>\n",
       "      <td>0.00</td>\n",
       "      <td>0.00</td>\n",
       "      <td>0.00</td>\n",
       "      <td>2.00</td>\n",
       "      <td>1.00</td>\n",
       "    </tr>\n",
       "    <tr>\n",
       "      <th>1%</th>\n",
       "      <td>1800.00</td>\n",
       "      <td>20000.00</td>\n",
       "      <td>1.67</td>\n",
       "      <td>0.00</td>\n",
       "      <td>3.00</td>\n",
       "      <td>3.00</td>\n",
       "      <td>6.00</td>\n",
       "      <td>1.00</td>\n",
       "    </tr>\n",
       "    <tr>\n",
       "      <th>5%</th>\n",
       "      <td>3500.00</td>\n",
       "      <td>29643.40</td>\n",
       "      <td>4.84</td>\n",
       "      <td>0.00</td>\n",
       "      <td>8.00</td>\n",
       "      <td>5.00</td>\n",
       "      <td>9.00</td>\n",
       "      <td>1.00</td>\n",
       "    </tr>\n",
       "    <tr>\n",
       "      <th>10%</th>\n",
       "      <td>5000.00</td>\n",
       "      <td>35000.00</td>\n",
       "      <td>7.04</td>\n",
       "      <td>0.00</td>\n",
       "      <td>9.00</td>\n",
       "      <td>6.00</td>\n",
       "      <td>12.00</td>\n",
       "      <td>1.00</td>\n",
       "    </tr>\n",
       "    <tr>\n",
       "      <th>25%</th>\n",
       "      <td>8000.00</td>\n",
       "      <td>48600.00</td>\n",
       "      <td>11.37</td>\n",
       "      <td>0.00</td>\n",
       "      <td>9.00</td>\n",
       "      <td>8.00</td>\n",
       "      <td>17.00</td>\n",
       "      <td>2.00</td>\n",
       "    </tr>\n",
       "    <tr>\n",
       "      <th>50%</th>\n",
       "      <td>12075.00</td>\n",
       "      <td>70000.00</td>\n",
       "      <td>16.84</td>\n",
       "      <td>0.00</td>\n",
       "      <td>9.00</td>\n",
       "      <td>10.00</td>\n",
       "      <td>23.00</td>\n",
       "      <td>2.00</td>\n",
       "    </tr>\n",
       "    <tr>\n",
       "      <th>75%</th>\n",
       "      <td>20000.00</td>\n",
       "      <td>82000.00</td>\n",
       "      <td>22.78</td>\n",
       "      <td>1.00</td>\n",
       "      <td>28.00</td>\n",
       "      <td>14.00</td>\n",
       "      <td>32.00</td>\n",
       "      <td>3.00</td>\n",
       "    </tr>\n",
       "    <tr>\n",
       "      <th>90%</th>\n",
       "      <td>26375.00</td>\n",
       "      <td>115000.00</td>\n",
       "      <td>27.99</td>\n",
       "      <td>2.00</td>\n",
       "      <td>53.00</td>\n",
       "      <td>18.00</td>\n",
       "      <td>41.00</td>\n",
       "      <td>3.00</td>\n",
       "    </tr>\n",
       "    <tr>\n",
       "      <th>95%</th>\n",
       "      <td>30000.00</td>\n",
       "      <td>140000.00</td>\n",
       "      <td>30.76</td>\n",
       "      <td>3.00</td>\n",
       "      <td>67.00</td>\n",
       "      <td>20.00</td>\n",
       "      <td>47.00</td>\n",
       "      <td>3.00</td>\n",
       "    </tr>\n",
       "    <tr>\n",
       "      <th>99%</th>\n",
       "      <td>35000.00</td>\n",
       "      <td>225000.00</td>\n",
       "      <td>34.67</td>\n",
       "      <td>4.00</td>\n",
       "      <td>79.00</td>\n",
       "      <td>27.00</td>\n",
       "      <td>59.00</td>\n",
       "      <td>3.00</td>\n",
       "    </tr>\n",
       "    <tr>\n",
       "      <th>max</th>\n",
       "      <td>35000.00</td>\n",
       "      <td>225000.00</td>\n",
       "      <td>39.99</td>\n",
       "      <td>8.00</td>\n",
       "      <td>80.00</td>\n",
       "      <td>30.00</td>\n",
       "      <td>60.00</td>\n",
       "      <td>3.00</td>\n",
       "    </tr>\n",
       "  </tbody>\n",
       "</table>\n",
       "</div>"
      ],
      "text/plain": [
       "       Loan_Amount_Requested  Annual_Income  Debt_To_Income  \\\n",
       "count              164309.00      164309.00       164309.00   \n",
       "mean                14349.34       72079.57           17.21   \n",
       "std                  8281.87       35649.73            7.85   \n",
       "min                   500.00        4000.00            0.00   \n",
       "1%                   1800.00       20000.00            1.67   \n",
       "5%                   3500.00       29643.40            4.84   \n",
       "10%                  5000.00       35000.00            7.04   \n",
       "25%                  8000.00       48600.00           11.37   \n",
       "50%                 12075.00       70000.00           16.84   \n",
       "75%                 20000.00       82000.00           22.78   \n",
       "90%                 26375.00      115000.00           27.99   \n",
       "95%                 30000.00      140000.00           30.76   \n",
       "99%                 35000.00      225000.00           34.67   \n",
       "max                 35000.00      225000.00           39.99   \n",
       "\n",
       "       Inquiries_in_Last_6_Months  Days_since_deliquency  \\\n",
       "count                   164309.00              164309.00   \n",
       "mean                         0.78                  20.64   \n",
       "std                          1.03                  19.36   \n",
       "min                          0.00                   0.00   \n",
       "1%                           0.00                   3.00   \n",
       "5%                           0.00                   8.00   \n",
       "10%                          0.00                   9.00   \n",
       "25%                          0.00                   9.00   \n",
       "50%                          0.00                   9.00   \n",
       "75%                          1.00                  28.00   \n",
       "90%                          2.00                  53.00   \n",
       "95%                          3.00                  67.00   \n",
       "99%                          4.00                  79.00   \n",
       "max                          8.00                  80.00   \n",
       "\n",
       "       Number_of_Open_Accounts  Total_Accounts  Interest_Rate  \n",
       "count                164309.00       164309.00      164309.00  \n",
       "mean                     11.18           25.02           2.16  \n",
       "std                       4.90           11.42           0.74  \n",
       "min                       0.00            2.00           1.00  \n",
       "1%                        3.00            6.00           1.00  \n",
       "5%                        5.00            9.00           1.00  \n",
       "10%                       6.00           12.00           1.00  \n",
       "25%                       8.00           17.00           2.00  \n",
       "50%                      10.00           23.00           2.00  \n",
       "75%                      14.00           32.00           3.00  \n",
       "90%                      18.00           41.00           3.00  \n",
       "95%                      20.00           47.00           3.00  \n",
       "99%                      27.00           59.00           3.00  \n",
       "max                      30.00           60.00           3.00  "
      ]
     },
     "execution_count": 66,
     "metadata": {},
     "output_type": "execute_result"
    }
   ],
   "source": [
    "data.describe(percentiles=[0.01, 0.05, 0.1, 0.25, 0.5, 0.75, 0.9,0.95, 0.99]).round(2)"
   ]
  },
  {
   "cell_type": "raw",
   "id": "df4f8da7",
   "metadata": {},
   "source": []
  },
  {
   "cell_type": "code",
   "execution_count": 67,
   "id": "0df25adf",
   "metadata": {},
   "outputs": [
    {
     "data": {
      "text/html": [
       "<div>\n",
       "<style scoped>\n",
       "    .dataframe tbody tr th:only-of-type {\n",
       "        vertical-align: middle;\n",
       "    }\n",
       "\n",
       "    .dataframe tbody tr th {\n",
       "        vertical-align: top;\n",
       "    }\n",
       "\n",
       "    .dataframe thead th {\n",
       "        text-align: right;\n",
       "    }\n",
       "</style>\n",
       "<table border=\"1\" class=\"dataframe\">\n",
       "  <thead>\n",
       "    <tr style=\"text-align: right;\">\n",
       "      <th></th>\n",
       "      <th>Loan_Amount_Requested</th>\n",
       "      <th>Employment_experience_in_years</th>\n",
       "      <th>Ownership_of_home</th>\n",
       "      <th>Annual_Income</th>\n",
       "      <th>Income_verification</th>\n",
       "      <th>Purpose_Of_Loan</th>\n",
       "      <th>Debt_To_Income</th>\n",
       "      <th>Inquiries_in_Last_6_Months</th>\n",
       "      <th>Days_since_deliquency</th>\n",
       "      <th>Number_of_Open_Accounts</th>\n",
       "      <th>Total_Accounts</th>\n",
       "      <th>Gender</th>\n",
       "      <th>Interest_Rate</th>\n",
       "    </tr>\n",
       "  </thead>\n",
       "  <tbody>\n",
       "    <tr>\n",
       "      <th>0</th>\n",
       "      <td>7000</td>\n",
       "      <td>0</td>\n",
       "      <td>Rent</td>\n",
       "      <td>68000.000000</td>\n",
       "      <td>not verified</td>\n",
       "      <td>car</td>\n",
       "      <td>18.37</td>\n",
       "      <td>0</td>\n",
       "      <td>9.0</td>\n",
       "      <td>9</td>\n",
       "      <td>14</td>\n",
       "      <td>Female</td>\n",
       "      <td>1</td>\n",
       "    </tr>\n",
       "    <tr>\n",
       "      <th>1</th>\n",
       "      <td>30000</td>\n",
       "      <td>4</td>\n",
       "      <td>Mortgage</td>\n",
       "      <td>73331.159434</td>\n",
       "      <td>verified</td>\n",
       "      <td>debt_consolidation</td>\n",
       "      <td>14.93</td>\n",
       "      <td>0</td>\n",
       "      <td>17.0</td>\n",
       "      <td>12</td>\n",
       "      <td>24</td>\n",
       "      <td>Female</td>\n",
       "      <td>3</td>\n",
       "    </tr>\n",
       "    <tr>\n",
       "      <th>2</th>\n",
       "      <td>24725</td>\n",
       "      <td>7</td>\n",
       "      <td>Mortgage</td>\n",
       "      <td>75566.400000</td>\n",
       "      <td>verified</td>\n",
       "      <td>debt_consolidation</td>\n",
       "      <td>15.88</td>\n",
       "      <td>0</td>\n",
       "      <td>9.0</td>\n",
       "      <td>12</td>\n",
       "      <td>16</td>\n",
       "      <td>Male</td>\n",
       "      <td>3</td>\n",
       "    </tr>\n",
       "    <tr>\n",
       "      <th>3</th>\n",
       "      <td>16000</td>\n",
       "      <td>0</td>\n",
       "      <td>Mortgage</td>\n",
       "      <td>56160.000000</td>\n",
       "      <td>verified</td>\n",
       "      <td>debt_consolidation</td>\n",
       "      <td>14.34</td>\n",
       "      <td>3</td>\n",
       "      <td>9.0</td>\n",
       "      <td>16</td>\n",
       "      <td>22</td>\n",
       "      <td>Male</td>\n",
       "      <td>3</td>\n",
       "    </tr>\n",
       "    <tr>\n",
       "      <th>4</th>\n",
       "      <td>17000</td>\n",
       "      <td>8</td>\n",
       "      <td>Own</td>\n",
       "      <td>96000.000000</td>\n",
       "      <td>verified</td>\n",
       "      <td>debt_consolidation</td>\n",
       "      <td>22.17</td>\n",
       "      <td>1</td>\n",
       "      <td>9.0</td>\n",
       "      <td>19</td>\n",
       "      <td>30</td>\n",
       "      <td>Female</td>\n",
       "      <td>1</td>\n",
       "    </tr>\n",
       "  </tbody>\n",
       "</table>\n",
       "</div>"
      ],
      "text/plain": [
       "   Loan_Amount_Requested Employment_experience_in_years Ownership_of_home  \\\n",
       "0                   7000                              0              Rent   \n",
       "1                  30000                              4          Mortgage   \n",
       "2                  24725                              7          Mortgage   \n",
       "3                  16000                              0          Mortgage   \n",
       "4                  17000                              8               Own   \n",
       "\n",
       "   Annual_Income Income_verification     Purpose_Of_Loan  Debt_To_Income  \\\n",
       "0   68000.000000        not verified                 car           18.37   \n",
       "1   73331.159434            verified  debt_consolidation           14.93   \n",
       "2   75566.400000            verified  debt_consolidation           15.88   \n",
       "3   56160.000000            verified  debt_consolidation           14.34   \n",
       "4   96000.000000            verified  debt_consolidation           22.17   \n",
       "\n",
       "   Inquiries_in_Last_6_Months  Days_since_deliquency  Number_of_Open_Accounts  \\\n",
       "0                           0                    9.0                        9   \n",
       "1                           0                   17.0                       12   \n",
       "2                           0                    9.0                       12   \n",
       "3                           3                    9.0                       16   \n",
       "4                           1                    9.0                       19   \n",
       "\n",
       "   Total_Accounts  Gender  Interest_Rate  \n",
       "0              14  Female              1  \n",
       "1              24  Female              3  \n",
       "2              16    Male              3  \n",
       "3              22    Male              3  \n",
       "4              30  Female              1  "
      ]
     },
     "execution_count": 67,
     "metadata": {},
     "output_type": "execute_result"
    }
   ],
   "source": [
    "data.head()"
   ]
  },
  {
   "cell_type": "raw",
   "id": "8fc324af",
   "metadata": {},
   "source": [
    "data['Monthly_income']=data['Annual_Income']/12\n",
    "data['Total_debts'] = data['Monthly_income']*data['Debt_To_Income']"
   ]
  },
  {
   "cell_type": "code",
   "execution_count": 68,
   "id": "62c12a01",
   "metadata": {
    "scrolled": true
   },
   "outputs": [
    {
     "data": {
      "text/plain": [
       "Index(['Loan_Amount_Requested', 'Employment_experience_in_years',\n",
       "       'Ownership_of_home', 'Annual_Income', 'Income_verification',\n",
       "       'Purpose_Of_Loan', 'Debt_To_Income', 'Inquiries_in_Last_6_Months',\n",
       "       'Days_since_deliquency', 'Number_of_Open_Accounts', 'Total_Accounts',\n",
       "       'Gender', 'Interest_Rate'],\n",
       "      dtype='object')"
      ]
     },
     "execution_count": 68,
     "metadata": {},
     "output_type": "execute_result"
    }
   ],
   "source": [
    "data.columns"
   ]
  },
  {
   "cell_type": "raw",
   "id": "c0309383",
   "metadata": {},
   "source": [
    "sns.pairplot(data, hue='Interest_Rate', corner=True,  markers=[\"o\", \"s\", \"D\"])\n",
    "plt.show()"
   ]
  },
  {
   "cell_type": "code",
   "execution_count": 69,
   "id": "952fe4ce",
   "metadata": {},
   "outputs": [
    {
     "data": {
      "image/png": "[encoded data removed]",
      "text/plain": [
       "<Figure size 1296x504 with 2 Axes>"
      ]
     },
     "metadata": {},
     "output_type": "display_data"
    }
   ],
   "source": [
    "corr = data.corr()\n",
    "plt.figure(figsize=(18, 7))\n",
    "mask = np.triu(np.ones_like(corr, dtype=bool))\n",
    "sns.heatmap(corr, annot=True, fmt='g', mask=mask);"
   ]
  },
  {
   "cell_type": "markdown",
   "id": "ee0e4760",
   "metadata": {},
   "source": [
    "    * Number of open accounts and total accounts are corelated (0.6)\n",
    "    * we can remove either one of the feature."
   ]
  },
  {
   "cell_type": "code",
   "execution_count": 70,
   "id": "9ad2c7d5",
   "metadata": {},
   "outputs": [
    {
     "data": {
      "text/plain": [
       "Index(['Loan_Amount_Requested', 'Employment_experience_in_years',\n",
       "       'Ownership_of_home', 'Annual_Income', 'Income_verification',\n",
       "       'Purpose_Of_Loan', 'Debt_To_Income', 'Inquiries_in_Last_6_Months',\n",
       "       'Days_since_deliquency', 'Number_of_Open_Accounts', 'Total_Accounts',\n",
       "       'Gender', 'Interest_Rate'],\n",
       "      dtype='object')"
      ]
     },
     "execution_count": 70,
     "metadata": {},
     "output_type": "execute_result"
    }
   ],
   "source": [
    "data.columns"
   ]
  },
  {
   "cell_type": "code",
   "execution_count": 71,
   "id": "36505502",
   "metadata": {},
   "outputs": [
    {
     "data": {
      "text/plain": [
       "Text(0.5, 1.0, 'Income_verification vs Interest_Rate')"
      ]
     },
     "execution_count": 71,
     "metadata": {},
     "output_type": "execute_result"
    },
    {
     "data": {
      "image/png": "[encoded data removed]",
      "text/plain": [
       "<Figure size 1296x504 with 1 Axes>"
      ]
     },
     "metadata": {},
     "output_type": "display_data"
    }
   ],
   "source": [
    "sns.barplot(data=data, x='Income_verification', y='Interest_Rate')\n",
    "plt.title('Income_verification vs Interest_Rate')"
   ]
  },
  {
   "cell_type": "code",
   "execution_count": 72,
   "id": "e408f1a0",
   "metadata": {},
   "outputs": [
    {
     "data": {
      "text/plain": [
       "Text(0.5, 1.0, 'Purpose_Of_Loan vs Interest_Rate')"
      ]
     },
     "execution_count": 72,
     "metadata": {},
     "output_type": "execute_result"
    },
    {
     "data": {
      "image/png": "[encoded data removed]",
      "text/plain": [
       "<Figure size 1800x504 with 1 Axes>"
      ]
     },
     "metadata": {},
     "output_type": "display_data"
    }
   ],
   "source": [
    "plt.figure(figsize=(25, 7))\n",
    "sns.barplot(data=data, x='Purpose_Of_Loan', y='Interest_Rate', ci=None)\n",
    "plt.title('Purpose_Of_Loan vs Interest_Rate')"
   ]
  },
  {
   "cell_type": "code",
   "execution_count": 73,
   "id": "5b4ff4f6",
   "metadata": {},
   "outputs": [
    {
     "data": {
      "text/plain": [
       "Text(0.5, 1.0, 'Inquiries_in_Last_6_Months vs Interest_Rate')"
      ]
     },
     "execution_count": 73,
     "metadata": {},
     "output_type": "execute_result"
    },
    {
     "data": {
      "image/png": "[encoded data removed]",
      "text/plain": [
       "<Figure size 1800x504 with 1 Axes>"
      ]
     },
     "metadata": {},
     "output_type": "display_data"
    }
   ],
   "source": [
    "plt.figure(figsize=(25, 7))\n",
    "sns.barplot(data=data, x='Inquiries_in_Last_6_Months', y='Interest_Rate', ci=None)\n",
    "plt.title('Inquiries_in_Last_6_Months vs Interest_Rate')"
   ]
  },
  {
   "cell_type": "code",
   "execution_count": 74,
   "id": "602c6706",
   "metadata": {},
   "outputs": [
    {
     "data": {
      "text/plain": [
       "Text(0.5, 1.0, 'Debt_To_Income vs Interest_Rate')"
      ]
     },
     "execution_count": 74,
     "metadata": {},
     "output_type": "execute_result"
    },
    {
     "data": {
      "image/png": "[encoded data removed]",
      "text/plain": [
       "<Figure size 1296x504 with 1 Axes>"
      ]
     },
     "metadata": {},
     "output_type": "display_data"
    }
   ],
   "source": [
    "sns.histplot(data=data, x = 'Debt_To_Income', bins=6, hue='Interest_Rate')\n",
    "plt.title('Debt_To_Income vs Interest_Rate')"
   ]
  },
  {
   "cell_type": "code",
   "execution_count": 75,
   "id": "3fee80b4",
   "metadata": {},
   "outputs": [
    {
     "data": {
      "text/plain": [
       "Text(0.5, 1.0, 'Loan_Amount_Requested vs Interest_Rate')"
      ]
     },
     "execution_count": 75,
     "metadata": {},
     "output_type": "execute_result"
    },
    {
     "data": {
      "image/png": "[encoded data removed]",
      "text/plain": [
       "<Figure size 1296x504 with 1 Axes>"
      ]
     },
     "metadata": {},
     "output_type": "display_data"
    }
   ],
   "source": [
    "sns.histplot(data=data, x = 'Loan_Amount_Requested', bins=6, hue='Interest_Rate')\n",
    "plt.title('Loan_Amount_Requested vs Interest_Rate')"
   ]
  },
  {
   "cell_type": "code",
   "execution_count": null,
   "id": "32b788fa",
   "metadata": {},
   "outputs": [],
   "source": []
  },
  {
   "cell_type": "code",
   "execution_count": 76,
   "id": "3809f5d5",
   "metadata": {},
   "outputs": [],
   "source": [
    "data.drop(['Number_of_Open_Accounts'], axis=1, inplace=True)"
   ]
  },
  {
   "cell_type": "raw",
   "id": "1acb0a1e",
   "metadata": {},
   "source": []
  },
  {
   "cell_type": "markdown",
   "id": "19dcfd22",
   "metadata": {},
   "source": [
    "### Encoding categorical variables"
   ]
  },
  {
   "cell_type": "code",
   "execution_count": 77,
   "id": "f04703c9",
   "metadata": {},
   "outputs": [],
   "source": [
    "encoded_data = data.copy()"
   ]
  },
  {
   "cell_type": "code",
   "execution_count": 78,
   "id": "9dc92aa9",
   "metadata": {},
   "outputs": [
    {
     "data": {
      "text/plain": [
       "10+    60286\n",
       "2      14620\n",
       "3      12974\n",
       "0      12805\n",
       "5      10814\n",
       "1      10422\n",
       "4       9784\n",
       "7       9308\n",
       "6       9094\n",
       "8       7917\n",
       "9       6285\n",
       "Name: Employment_experience_in_years, dtype: int64"
      ]
     },
     "execution_count": 78,
     "metadata": {},
     "output_type": "execute_result"
    }
   ],
   "source": [
    "encoded_data.Employment_experience_in_years.value_counts()"
   ]
  },
  {
   "cell_type": "code",
   "execution_count": 79,
   "id": "dde87ccf",
   "metadata": {},
   "outputs": [],
   "source": [
    "# Encoding employment experience based on their order of experinece(Label encoding)\n",
    "encoded_data['Employment_experience_in_years'] = encoded_data['Employment_experience_in_years'].replace(to_replace=['0', '1', '2', '3', '4', '5', '6', '7', '8', '9', '10+'],\n",
    "                                                                                  value=[0, 1, 2, 3, 4, 5, 6, 7, 8, 9, 10])"
   ]
  },
  {
   "cell_type": "code",
   "execution_count": 80,
   "id": "8a5d1678",
   "metadata": {},
   "outputs": [
    {
     "data": {
      "text/html": [
       "<div>\n",
       "<style scoped>\n",
       "    .dataframe tbody tr th:only-of-type {\n",
       "        vertical-align: middle;\n",
       "    }\n",
       "\n",
       "    .dataframe tbody tr th {\n",
       "        vertical-align: top;\n",
       "    }\n",
       "\n",
       "    .dataframe thead th {\n",
       "        text-align: right;\n",
       "    }\n",
       "</style>\n",
       "<table border=\"1\" class=\"dataframe\">\n",
       "  <thead>\n",
       "    <tr style=\"text-align: right;\">\n",
       "      <th></th>\n",
       "      <th>Loan_Amount_Requested</th>\n",
       "      <th>Employment_experience_in_years</th>\n",
       "      <th>Ownership_of_home</th>\n",
       "      <th>Annual_Income</th>\n",
       "      <th>Income_verification</th>\n",
       "      <th>Purpose_Of_Loan</th>\n",
       "      <th>Debt_To_Income</th>\n",
       "      <th>Inquiries_in_Last_6_Months</th>\n",
       "      <th>Days_since_deliquency</th>\n",
       "      <th>Total_Accounts</th>\n",
       "      <th>Gender</th>\n",
       "      <th>Interest_Rate</th>\n",
       "    </tr>\n",
       "  </thead>\n",
       "  <tbody>\n",
       "    <tr>\n",
       "      <th>0</th>\n",
       "      <td>7000</td>\n",
       "      <td>0</td>\n",
       "      <td>Rent</td>\n",
       "      <td>68000.000000</td>\n",
       "      <td>not verified</td>\n",
       "      <td>car</td>\n",
       "      <td>18.37</td>\n",
       "      <td>0</td>\n",
       "      <td>9.0</td>\n",
       "      <td>14</td>\n",
       "      <td>Female</td>\n",
       "      <td>1</td>\n",
       "    </tr>\n",
       "    <tr>\n",
       "      <th>1</th>\n",
       "      <td>30000</td>\n",
       "      <td>4</td>\n",
       "      <td>Mortgage</td>\n",
       "      <td>73331.159434</td>\n",
       "      <td>verified</td>\n",
       "      <td>debt_consolidation</td>\n",
       "      <td>14.93</td>\n",
       "      <td>0</td>\n",
       "      <td>17.0</td>\n",
       "      <td>24</td>\n",
       "      <td>Female</td>\n",
       "      <td>3</td>\n",
       "    </tr>\n",
       "    <tr>\n",
       "      <th>2</th>\n",
       "      <td>24725</td>\n",
       "      <td>7</td>\n",
       "      <td>Mortgage</td>\n",
       "      <td>75566.400000</td>\n",
       "      <td>verified</td>\n",
       "      <td>debt_consolidation</td>\n",
       "      <td>15.88</td>\n",
       "      <td>0</td>\n",
       "      <td>9.0</td>\n",
       "      <td>16</td>\n",
       "      <td>Male</td>\n",
       "      <td>3</td>\n",
       "    </tr>\n",
       "    <tr>\n",
       "      <th>3</th>\n",
       "      <td>16000</td>\n",
       "      <td>0</td>\n",
       "      <td>Mortgage</td>\n",
       "      <td>56160.000000</td>\n",
       "      <td>verified</td>\n",
       "      <td>debt_consolidation</td>\n",
       "      <td>14.34</td>\n",
       "      <td>3</td>\n",
       "      <td>9.0</td>\n",
       "      <td>22</td>\n",
       "      <td>Male</td>\n",
       "      <td>3</td>\n",
       "    </tr>\n",
       "    <tr>\n",
       "      <th>4</th>\n",
       "      <td>17000</td>\n",
       "      <td>8</td>\n",
       "      <td>Own</td>\n",
       "      <td>96000.000000</td>\n",
       "      <td>verified</td>\n",
       "      <td>debt_consolidation</td>\n",
       "      <td>22.17</td>\n",
       "      <td>1</td>\n",
       "      <td>9.0</td>\n",
       "      <td>30</td>\n",
       "      <td>Female</td>\n",
       "      <td>1</td>\n",
       "    </tr>\n",
       "  </tbody>\n",
       "</table>\n",
       "</div>"
      ],
      "text/plain": [
       "   Loan_Amount_Requested  Employment_experience_in_years Ownership_of_home  \\\n",
       "0                   7000                               0              Rent   \n",
       "1                  30000                               4          Mortgage   \n",
       "2                  24725                               7          Mortgage   \n",
       "3                  16000                               0          Mortgage   \n",
       "4                  17000                               8               Own   \n",
       "\n",
       "   Annual_Income Income_verification     Purpose_Of_Loan  Debt_To_Income  \\\n",
       "0   68000.000000        not verified                 car           18.37   \n",
       "1   73331.159434            verified  debt_consolidation           14.93   \n",
       "2   75566.400000            verified  debt_consolidation           15.88   \n",
       "3   56160.000000            verified  debt_consolidation           14.34   \n",
       "4   96000.000000            verified  debt_consolidation           22.17   \n",
       "\n",
       "   Inquiries_in_Last_6_Months  Days_since_deliquency  Total_Accounts  Gender  \\\n",
       "0                           0                    9.0              14  Female   \n",
       "1                           0                   17.0              24  Female   \n",
       "2                           0                    9.0              16    Male   \n",
       "3                           3                    9.0              22    Male   \n",
       "4                           1                    9.0              30  Female   \n",
       "\n",
       "   Interest_Rate  \n",
       "0              1  \n",
       "1              3  \n",
       "2              3  \n",
       "3              3  \n",
       "4              1  "
      ]
     },
     "execution_count": 80,
     "metadata": {},
     "output_type": "execute_result"
    }
   ],
   "source": [
    "encoded_data.head()"
   ]
  },
  {
   "cell_type": "code",
   "execution_count": 81,
   "id": "cdd37064",
   "metadata": {},
   "outputs": [],
   "source": [
    "# Dummy trap to create dummy variables for remaining categorical features\n",
    "hm = pd.get_dummies(encoded_data['Ownership_of_home'], drop_first=True)\n",
    "pl = pd.get_dummies(encoded_data['Purpose_Of_Loan'], drop_first=True)\n",
    "iv = pd.get_dummies(encoded_data['Income_verification'], drop_first=True)\n",
    "g = pd.get_dummies(encoded_data['Gender'], drop_first=True)"
   ]
  },
  {
   "cell_type": "code",
   "execution_count": 82,
   "id": "efec4a33",
   "metadata": {},
   "outputs": [],
   "source": [
    "# Concatenate dummy varaibles to the data \n",
    "encoded_data = pd.concat([encoded_data, hm, pl, iv, g], axis=1)"
   ]
  },
  {
   "cell_type": "code",
   "execution_count": 83,
   "id": "6390331d",
   "metadata": {},
   "outputs": [
    {
     "data": {
      "text/html": [
       "<div>\n",
       "<style scoped>\n",
       "    .dataframe tbody tr th:only-of-type {\n",
       "        vertical-align: middle;\n",
       "    }\n",
       "\n",
       "    .dataframe tbody tr th {\n",
       "        vertical-align: top;\n",
       "    }\n",
       "\n",
       "    .dataframe thead th {\n",
       "        text-align: right;\n",
       "    }\n",
       "</style>\n",
       "<table border=\"1\" class=\"dataframe\">\n",
       "  <thead>\n",
       "    <tr style=\"text-align: right;\">\n",
       "      <th></th>\n",
       "      <th>Loan_Amount_Requested</th>\n",
       "      <th>Employment_experience_in_years</th>\n",
       "      <th>Ownership_of_home</th>\n",
       "      <th>Annual_Income</th>\n",
       "      <th>Income_verification</th>\n",
       "      <th>Purpose_Of_Loan</th>\n",
       "      <th>Debt_To_Income</th>\n",
       "      <th>Inquiries_in_Last_6_Months</th>\n",
       "      <th>Days_since_deliquency</th>\n",
       "      <th>Total_Accounts</th>\n",
       "      <th>Gender</th>\n",
       "      <th>Interest_Rate</th>\n",
       "      <th>None</th>\n",
       "      <th>Own</th>\n",
       "      <th>Rent</th>\n",
       "      <th>credit_card</th>\n",
       "      <th>debt_consolidation</th>\n",
       "      <th>educational</th>\n",
       "      <th>home_improvement</th>\n",
       "      <th>house</th>\n",
       "      <th>major_purchase</th>\n",
       "      <th>medical</th>\n",
       "      <th>moving</th>\n",
       "      <th>other</th>\n",
       "      <th>renewable_energy</th>\n",
       "      <th>small_business</th>\n",
       "      <th>vacation</th>\n",
       "      <th>wedding</th>\n",
       "      <th>verified</th>\n",
       "      <th>Male</th>\n",
       "    </tr>\n",
       "  </thead>\n",
       "  <tbody>\n",
       "    <tr>\n",
       "      <th>0</th>\n",
       "      <td>7000</td>\n",
       "      <td>0</td>\n",
       "      <td>Rent</td>\n",
       "      <td>68000.000000</td>\n",
       "      <td>not verified</td>\n",
       "      <td>car</td>\n",
       "      <td>18.37</td>\n",
       "      <td>0</td>\n",
       "      <td>9.0</td>\n",
       "      <td>14</td>\n",
       "      <td>Female</td>\n",
       "      <td>1</td>\n",
       "      <td>0</td>\n",
       "      <td>0</td>\n",
       "      <td>1</td>\n",
       "      <td>0</td>\n",
       "      <td>0</td>\n",
       "      <td>0</td>\n",
       "      <td>0</td>\n",
       "      <td>0</td>\n",
       "      <td>0</td>\n",
       "      <td>0</td>\n",
       "      <td>0</td>\n",
       "      <td>0</td>\n",
       "      <td>0</td>\n",
       "      <td>0</td>\n",
       "      <td>0</td>\n",
       "      <td>0</td>\n",
       "      <td>0</td>\n",
       "      <td>0</td>\n",
       "    </tr>\n",
       "    <tr>\n",
       "      <th>1</th>\n",
       "      <td>30000</td>\n",
       "      <td>4</td>\n",
       "      <td>Mortgage</td>\n",
       "      <td>73331.159434</td>\n",
       "      <td>verified</td>\n",
       "      <td>debt_consolidation</td>\n",
       "      <td>14.93</td>\n",
       "      <td>0</td>\n",
       "      <td>17.0</td>\n",
       "      <td>24</td>\n",
       "      <td>Female</td>\n",
       "      <td>3</td>\n",
       "      <td>0</td>\n",
       "      <td>0</td>\n",
       "      <td>0</td>\n",
       "      <td>0</td>\n",
       "      <td>1</td>\n",
       "      <td>0</td>\n",
       "      <td>0</td>\n",
       "      <td>0</td>\n",
       "      <td>0</td>\n",
       "      <td>0</td>\n",
       "      <td>0</td>\n",
       "      <td>0</td>\n",
       "      <td>0</td>\n",
       "      <td>0</td>\n",
       "      <td>0</td>\n",
       "      <td>0</td>\n",
       "      <td>1</td>\n",
       "      <td>0</td>\n",
       "    </tr>\n",
       "    <tr>\n",
       "      <th>2</th>\n",
       "      <td>24725</td>\n",
       "      <td>7</td>\n",
       "      <td>Mortgage</td>\n",
       "      <td>75566.400000</td>\n",
       "      <td>verified</td>\n",
       "      <td>debt_consolidation</td>\n",
       "      <td>15.88</td>\n",
       "      <td>0</td>\n",
       "      <td>9.0</td>\n",
       "      <td>16</td>\n",
       "      <td>Male</td>\n",
       "      <td>3</td>\n",
       "      <td>0</td>\n",
       "      <td>0</td>\n",
       "      <td>0</td>\n",
       "      <td>0</td>\n",
       "      <td>1</td>\n",
       "      <td>0</td>\n",
       "      <td>0</td>\n",
       "      <td>0</td>\n",
       "      <td>0</td>\n",
       "      <td>0</td>\n",
       "      <td>0</td>\n",
       "      <td>0</td>\n",
       "      <td>0</td>\n",
       "      <td>0</td>\n",
       "      <td>0</td>\n",
       "      <td>0</td>\n",
       "      <td>1</td>\n",
       "      <td>1</td>\n",
       "    </tr>\n",
       "    <tr>\n",
       "      <th>3</th>\n",
       "      <td>16000</td>\n",
       "      <td>0</td>\n",
       "      <td>Mortgage</td>\n",
       "      <td>56160.000000</td>\n",
       "      <td>verified</td>\n",
       "      <td>debt_consolidation</td>\n",
       "      <td>14.34</td>\n",
       "      <td>3</td>\n",
       "      <td>9.0</td>\n",
       "      <td>22</td>\n",
       "      <td>Male</td>\n",
       "      <td>3</td>\n",
       "      <td>0</td>\n",
       "      <td>0</td>\n",
       "      <td>0</td>\n",
       "      <td>0</td>\n",
       "      <td>1</td>\n",
       "      <td>0</td>\n",
       "      <td>0</td>\n",
       "      <td>0</td>\n",
       "      <td>0</td>\n",
       "      <td>0</td>\n",
       "      <td>0</td>\n",
       "      <td>0</td>\n",
       "      <td>0</td>\n",
       "      <td>0</td>\n",
       "      <td>0</td>\n",
       "      <td>0</td>\n",
       "      <td>1</td>\n",
       "      <td>1</td>\n",
       "    </tr>\n",
       "    <tr>\n",
       "      <th>4</th>\n",
       "      <td>17000</td>\n",
       "      <td>8</td>\n",
       "      <td>Own</td>\n",
       "      <td>96000.000000</td>\n",
       "      <td>verified</td>\n",
       "      <td>debt_consolidation</td>\n",
       "      <td>22.17</td>\n",
       "      <td>1</td>\n",
       "      <td>9.0</td>\n",
       "      <td>30</td>\n",
       "      <td>Female</td>\n",
       "      <td>1</td>\n",
       "      <td>0</td>\n",
       "      <td>1</td>\n",
       "      <td>0</td>\n",
       "      <td>0</td>\n",
       "      <td>1</td>\n",
       "      <td>0</td>\n",
       "      <td>0</td>\n",
       "      <td>0</td>\n",
       "      <td>0</td>\n",
       "      <td>0</td>\n",
       "      <td>0</td>\n",
       "      <td>0</td>\n",
       "      <td>0</td>\n",
       "      <td>0</td>\n",
       "      <td>0</td>\n",
       "      <td>0</td>\n",
       "      <td>1</td>\n",
       "      <td>0</td>\n",
       "    </tr>\n",
       "  </tbody>\n",
       "</table>\n",
       "</div>"
      ],
      "text/plain": [
       "   Loan_Amount_Requested  Employment_experience_in_years Ownership_of_home  \\\n",
       "0                   7000                               0              Rent   \n",
       "1                  30000                               4          Mortgage   \n",
       "2                  24725                               7          Mortgage   \n",
       "3                  16000                               0          Mortgage   \n",
       "4                  17000                               8               Own   \n",
       "\n",
       "   Annual_Income Income_verification     Purpose_Of_Loan  Debt_To_Income  \\\n",
       "0   68000.000000        not verified                 car           18.37   \n",
       "1   73331.159434            verified  debt_consolidation           14.93   \n",
       "2   75566.400000            verified  debt_consolidation           15.88   \n",
       "3   56160.000000            verified  debt_consolidation           14.34   \n",
       "4   96000.000000            verified  debt_consolidation           22.17   \n",
       "\n",
       "   Inquiries_in_Last_6_Months  Days_since_deliquency  Total_Accounts  Gender  \\\n",
       "0                           0                    9.0              14  Female   \n",
       "1                           0                   17.0              24  Female   \n",
       "2                           0                    9.0              16    Male   \n",
       "3                           3                    9.0              22    Male   \n",
       "4                           1                    9.0              30  Female   \n",
       "\n",
       "   Interest_Rate  None  Own  Rent  credit_card  debt_consolidation  \\\n",
       "0              1     0    0     1            0                   0   \n",
       "1              3     0    0     0            0                   1   \n",
       "2              3     0    0     0            0                   1   \n",
       "3              3     0    0     0            0                   1   \n",
       "4              1     0    1     0            0                   1   \n",
       "\n",
       "   educational  home_improvement  house  major_purchase  medical  moving  \\\n",
       "0            0                 0      0               0        0       0   \n",
       "1            0                 0      0               0        0       0   \n",
       "2            0                 0      0               0        0       0   \n",
       "3            0                 0      0               0        0       0   \n",
       "4            0                 0      0               0        0       0   \n",
       "\n",
       "   other  renewable_energy  small_business  vacation  wedding  verified  Male  \n",
       "0      0                 0               0         0        0         0     0  \n",
       "1      0                 0               0         0        0         1     0  \n",
       "2      0                 0               0         0        0         1     1  \n",
       "3      0                 0               0         0        0         1     1  \n",
       "4      0                 0               0         0        0         1     0  "
      ]
     },
     "execution_count": 83,
     "metadata": {},
     "output_type": "execute_result"
    }
   ],
   "source": [
    "pd.set_option('display.max_columns', None)\n",
    "# Displays all columns in the data\n",
    "encoded_data.head()"
   ]
  },
  {
   "cell_type": "code",
   "execution_count": 84,
   "id": "d5e545ac",
   "metadata": {},
   "outputs": [],
   "source": [
    "encoded_data.drop(labels=['Ownership_of_home', 'Purpose_Of_Loan', 'Income_verification', 'Gender'], axis=1, inplace=True)"
   ]
  },
  {
   "cell_type": "code",
   "execution_count": 85,
   "id": "35d2579b",
   "metadata": {},
   "outputs": [
    {
     "data": {
      "text/html": [
       "<div>\n",
       "<style scoped>\n",
       "    .dataframe tbody tr th:only-of-type {\n",
       "        vertical-align: middle;\n",
       "    }\n",
       "\n",
       "    .dataframe tbody tr th {\n",
       "        vertical-align: top;\n",
       "    }\n",
       "\n",
       "    .dataframe thead th {\n",
       "        text-align: right;\n",
       "    }\n",
       "</style>\n",
       "<table border=\"1\" class=\"dataframe\">\n",
       "  <thead>\n",
       "    <tr style=\"text-align: right;\">\n",
       "      <th></th>\n",
       "      <th>Loan_Amount_Requested</th>\n",
       "      <th>Employment_experience_in_years</th>\n",
       "      <th>Annual_Income</th>\n",
       "      <th>Debt_To_Income</th>\n",
       "      <th>Inquiries_in_Last_6_Months</th>\n",
       "      <th>Days_since_deliquency</th>\n",
       "      <th>Total_Accounts</th>\n",
       "      <th>Interest_Rate</th>\n",
       "      <th>None</th>\n",
       "      <th>Own</th>\n",
       "      <th>Rent</th>\n",
       "      <th>credit_card</th>\n",
       "      <th>debt_consolidation</th>\n",
       "      <th>educational</th>\n",
       "      <th>home_improvement</th>\n",
       "      <th>house</th>\n",
       "      <th>major_purchase</th>\n",
       "      <th>medical</th>\n",
       "      <th>moving</th>\n",
       "      <th>other</th>\n",
       "      <th>renewable_energy</th>\n",
       "      <th>small_business</th>\n",
       "      <th>vacation</th>\n",
       "      <th>wedding</th>\n",
       "      <th>verified</th>\n",
       "      <th>Male</th>\n",
       "    </tr>\n",
       "  </thead>\n",
       "  <tbody>\n",
       "    <tr>\n",
       "      <th>0</th>\n",
       "      <td>7000</td>\n",
       "      <td>0</td>\n",
       "      <td>68000.000000</td>\n",
       "      <td>18.37</td>\n",
       "      <td>0</td>\n",
       "      <td>9.0</td>\n",
       "      <td>14</td>\n",
       "      <td>1</td>\n",
       "      <td>0</td>\n",
       "      <td>0</td>\n",
       "      <td>1</td>\n",
       "      <td>0</td>\n",
       "      <td>0</td>\n",
       "      <td>0</td>\n",
       "      <td>0</td>\n",
       "      <td>0</td>\n",
       "      <td>0</td>\n",
       "      <td>0</td>\n",
       "      <td>0</td>\n",
       "      <td>0</td>\n",
       "      <td>0</td>\n",
       "      <td>0</td>\n",
       "      <td>0</td>\n",
       "      <td>0</td>\n",
       "      <td>0</td>\n",
       "      <td>0</td>\n",
       "    </tr>\n",
       "    <tr>\n",
       "      <th>1</th>\n",
       "      <td>30000</td>\n",
       "      <td>4</td>\n",
       "      <td>73331.159434</td>\n",
       "      <td>14.93</td>\n",
       "      <td>0</td>\n",
       "      <td>17.0</td>\n",
       "      <td>24</td>\n",
       "      <td>3</td>\n",
       "      <td>0</td>\n",
       "      <td>0</td>\n",
       "      <td>0</td>\n",
       "      <td>0</td>\n",
       "      <td>1</td>\n",
       "      <td>0</td>\n",
       "      <td>0</td>\n",
       "      <td>0</td>\n",
       "      <td>0</td>\n",
       "      <td>0</td>\n",
       "      <td>0</td>\n",
       "      <td>0</td>\n",
       "      <td>0</td>\n",
       "      <td>0</td>\n",
       "      <td>0</td>\n",
       "      <td>0</td>\n",
       "      <td>1</td>\n",
       "      <td>0</td>\n",
       "    </tr>\n",
       "    <tr>\n",
       "      <th>2</th>\n",
       "      <td>24725</td>\n",
       "      <td>7</td>\n",
       "      <td>75566.400000</td>\n",
       "      <td>15.88</td>\n",
       "      <td>0</td>\n",
       "      <td>9.0</td>\n",
       "      <td>16</td>\n",
       "      <td>3</td>\n",
       "      <td>0</td>\n",
       "      <td>0</td>\n",
       "      <td>0</td>\n",
       "      <td>0</td>\n",
       "      <td>1</td>\n",
       "      <td>0</td>\n",
       "      <td>0</td>\n",
       "      <td>0</td>\n",
       "      <td>0</td>\n",
       "      <td>0</td>\n",
       "      <td>0</td>\n",
       "      <td>0</td>\n",
       "      <td>0</td>\n",
       "      <td>0</td>\n",
       "      <td>0</td>\n",
       "      <td>0</td>\n",
       "      <td>1</td>\n",
       "      <td>1</td>\n",
       "    </tr>\n",
       "    <tr>\n",
       "      <th>3</th>\n",
       "      <td>16000</td>\n",
       "      <td>0</td>\n",
       "      <td>56160.000000</td>\n",
       "      <td>14.34</td>\n",
       "      <td>3</td>\n",
       "      <td>9.0</td>\n",
       "      <td>22</td>\n",
       "      <td>3</td>\n",
       "      <td>0</td>\n",
       "      <td>0</td>\n",
       "      <td>0</td>\n",
       "      <td>0</td>\n",
       "      <td>1</td>\n",
       "      <td>0</td>\n",
       "      <td>0</td>\n",
       "      <td>0</td>\n",
       "      <td>0</td>\n",
       "      <td>0</td>\n",
       "      <td>0</td>\n",
       "      <td>0</td>\n",
       "      <td>0</td>\n",
       "      <td>0</td>\n",
       "      <td>0</td>\n",
       "      <td>0</td>\n",
       "      <td>1</td>\n",
       "      <td>1</td>\n",
       "    </tr>\n",
       "    <tr>\n",
       "      <th>4</th>\n",
       "      <td>17000</td>\n",
       "      <td>8</td>\n",
       "      <td>96000.000000</td>\n",
       "      <td>22.17</td>\n",
       "      <td>1</td>\n",
       "      <td>9.0</td>\n",
       "      <td>30</td>\n",
       "      <td>1</td>\n",
       "      <td>0</td>\n",
       "      <td>1</td>\n",
       "      <td>0</td>\n",
       "      <td>0</td>\n",
       "      <td>1</td>\n",
       "      <td>0</td>\n",
       "      <td>0</td>\n",
       "      <td>0</td>\n",
       "      <td>0</td>\n",
       "      <td>0</td>\n",
       "      <td>0</td>\n",
       "      <td>0</td>\n",
       "      <td>0</td>\n",
       "      <td>0</td>\n",
       "      <td>0</td>\n",
       "      <td>0</td>\n",
       "      <td>1</td>\n",
       "      <td>0</td>\n",
       "    </tr>\n",
       "  </tbody>\n",
       "</table>\n",
       "</div>"
      ],
      "text/plain": [
       "   Loan_Amount_Requested  Employment_experience_in_years  Annual_Income  \\\n",
       "0                   7000                               0   68000.000000   \n",
       "1                  30000                               4   73331.159434   \n",
       "2                  24725                               7   75566.400000   \n",
       "3                  16000                               0   56160.000000   \n",
       "4                  17000                               8   96000.000000   \n",
       "\n",
       "   Debt_To_Income  Inquiries_in_Last_6_Months  Days_since_deliquency  \\\n",
       "0           18.37                           0                    9.0   \n",
       "1           14.93                           0                   17.0   \n",
       "2           15.88                           0                    9.0   \n",
       "3           14.34                           3                    9.0   \n",
       "4           22.17                           1                    9.0   \n",
       "\n",
       "   Total_Accounts  Interest_Rate  None  Own  Rent  credit_card  \\\n",
       "0              14              1     0    0     1            0   \n",
       "1              24              3     0    0     0            0   \n",
       "2              16              3     0    0     0            0   \n",
       "3              22              3     0    0     0            0   \n",
       "4              30              1     0    1     0            0   \n",
       "\n",
       "   debt_consolidation  educational  home_improvement  house  major_purchase  \\\n",
       "0                   0            0                 0      0               0   \n",
       "1                   1            0                 0      0               0   \n",
       "2                   1            0                 0      0               0   \n",
       "3                   1            0                 0      0               0   \n",
       "4                   1            0                 0      0               0   \n",
       "\n",
       "   medical  moving  other  renewable_energy  small_business  vacation  \\\n",
       "0        0       0      0                 0               0         0   \n",
       "1        0       0      0                 0               0         0   \n",
       "2        0       0      0                 0               0         0   \n",
       "3        0       0      0                 0               0         0   \n",
       "4        0       0      0                 0               0         0   \n",
       "\n",
       "   wedding  verified  Male  \n",
       "0        0         0     0  \n",
       "1        0         1     0  \n",
       "2        0         1     1  \n",
       "3        0         1     1  \n",
       "4        0         1     0  "
      ]
     },
     "execution_count": 85,
     "metadata": {},
     "output_type": "execute_result"
    }
   ],
   "source": [
    "pd.set_option('display.max_columns', None)\n",
    "encoded_data.head()"
   ]
  },
  {
   "cell_type": "raw",
   "id": "57421c81",
   "metadata": {},
   "source": [
    "We can also use\n",
    "from sklearn.preprocessing import LabelEncoder\n",
    "from sklearn.preprocessing import OneHotEncoder\n",
    "from category_encoders import OneHotEncoder"
   ]
  },
  {
   "cell_type": "raw",
   "id": "c2f81166",
   "metadata": {},
   "source": []
  },
  {
   "cell_type": "raw",
   "id": "3b0fc21a",
   "metadata": {},
   "source": [
    "Featuer scaling\n",
    "--\n",
    "\n",
    "        * Decision trees do not require feature scaling.\n",
    "        * Because they are not sensitive to the the variance in the data."
   ]
  },
  {
   "cell_type": "raw",
   "id": "d9d92e27",
   "metadata": {},
   "source": []
  },
  {
   "cell_type": "markdown",
   "id": "1d3d1777",
   "metadata": {},
   "source": [
    "### Declare dependent and independent features"
   ]
  },
  {
   "cell_type": "code",
   "execution_count": 185,
   "id": "2c8ad2cd",
   "metadata": {},
   "outputs": [],
   "source": [
    "X = encoded_data.drop('Interest_Rate',axis=1) # Independent features\n",
    "y = encoded_data['Interest_Rate'] # Dependent feauture"
   ]
  },
  {
   "cell_type": "code",
   "execution_count": 186,
   "id": "e493cbcc",
   "metadata": {},
   "outputs": [],
   "source": [
    "from sklearn.model_selection import train_test_split\n",
    "from sklearn.tree import DecisionTreeClassifier\n",
    "X_train, X_test, y_train, y_test = train_test_split(gini_x, y, test_size=0.2, random_state=42)"
   ]
  },
  {
   "cell_type": "code",
   "execution_count": 209,
   "id": "a5626709",
   "metadata": {},
   "outputs": [
    {
     "data": {
      "text/plain": [
       "LogisticRegression()"
      ]
     },
     "execution_count": 209,
     "metadata": {},
     "output_type": "execute_result"
    }
   ],
   "source": [
    "from sklearn.linear_model import LogisticRegression\n",
    "reg = LogisticRegression()\n",
    "reg.fit(X_train, y_train)"
   ]
  },
  {
   "cell_type": "code",
   "execution_count": 210,
   "id": "79288463",
   "metadata": {},
   "outputs": [],
   "source": [
    "def compare_model_train_test(model):\n",
    "    test_pred = model.predict(X_test)\n",
    "    train_pred = model.predict(X_train)\n",
    "    train_accuracy = accuracy_score(y_train, train_pred)\n",
    "    test_accuracy = accuracy_score(y_test, test_pred)\n",
    "    train_clf_report = classification_report(y_train, train_pred)\n",
    "    test_clf_report = classification_report(y_test, test_pred)\n",
    "    print('Training accuracy is :', train_accuracy, '\\n', train_clf_report, '\\n',\n",
    "         'Testing accuracy is :', round(test_accuracy,2), '\\n', test_clf_report, '\\n',)"
   ]
  },
  {
   "cell_type": "code",
   "execution_count": 211,
   "id": "697fe899",
   "metadata": {},
   "outputs": [
    {
     "name": "stdout",
     "output_type": "stream",
     "text": [
      "Training accuracy is : 0.4678615715839844 \n",
      "               precision    recall  f1-score   support\n",
      "\n",
      "           1       0.49      0.02      0.03     27085\n",
      "           2       0.47      0.55      0.50     56562\n",
      "           3       0.47      0.63      0.54     47800\n",
      "\n",
      "    accuracy                           0.47    131447\n",
      "   macro avg       0.47      0.40      0.36    131447\n",
      "weighted avg       0.47      0.47      0.42    131447\n",
      " \n",
      " Testing accuracy is : 0.47 \n",
      "               precision    recall  f1-score   support\n",
      "\n",
      "           1       0.46      0.02      0.03      6721\n",
      "           2       0.46      0.55      0.50     14018\n",
      "           3       0.47      0.62      0.54     12123\n",
      "\n",
      "    accuracy                           0.47     32862\n",
      "   macro avg       0.46      0.40      0.36     32862\n",
      "weighted avg       0.47      0.47      0.42     32862\n",
      " \n",
      "\n"
     ]
    }
   ],
   "source": [
    "compare_model_train_test(reg)"
   ]
  },
  {
   "cell_type": "markdown",
   "id": "a458abd2",
   "metadata": {},
   "source": []
  },
  {
   "cell_type": "code",
   "execution_count": 214,
   "id": "88ff38e2",
   "metadata": {},
   "outputs": [
    {
     "data": {
      "application/javascript": [
       "\n",
       "        if (window._pyforest_update_imports_cell) { window._pyforest_update_imports_cell('from sklearn.ensemble import RandomForestClassifier'); }\n",
       "    "
      ],
      "text/plain": [
       "<IPython.core.display.Javascript object>"
      ]
     },
     "metadata": {},
     "output_type": "display_data"
    },
    {
     "data": {
      "text/plain": [
       "RandomForestClassifier()"
      ]
     },
     "execution_count": 214,
     "metadata": {},
     "output_type": "execute_result"
    }
   ],
   "source": [
    "clf = RandomForestClassifier()\n",
    "clf.fit(X_train, y_train)"
   ]
  },
  {
   "cell_type": "code",
   "execution_count": 215,
   "id": "738514ca",
   "metadata": {},
   "outputs": [
    {
     "name": "stdout",
     "output_type": "stream",
     "text": [
      "Training accuracy is : 0.4705166340806561 \n",
      "               precision    recall  f1-score   support\n",
      "\n",
      "           1       0.49      0.02      0.04     27085\n",
      "           2       0.48      0.51      0.49     56562\n",
      "           3       0.46      0.68      0.55     47800\n",
      "\n",
      "    accuracy                           0.47    131447\n",
      "   macro avg       0.48      0.40      0.36    131447\n",
      "weighted avg       0.48      0.47      0.42    131447\n",
      " \n",
      " Testing accuracy is : 0.47 \n",
      "               precision    recall  f1-score   support\n",
      "\n",
      "           1       0.44      0.02      0.04      6721\n",
      "           2       0.47      0.50      0.49     14018\n",
      "           3       0.47      0.68      0.55     12123\n",
      "\n",
      "    accuracy                           0.47     32862\n",
      "   macro avg       0.46      0.40      0.36     32862\n",
      "weighted avg       0.46      0.47      0.42     32862\n",
      " \n",
      "\n"
     ]
    }
   ],
   "source": [
    "compare_model_train_test(clf)"
   ]
  },
  {
   "cell_type": "raw",
   "id": "f6af2c11",
   "metadata": {},
   "source": []
  },
  {
   "cell_type": "code",
   "execution_count": 216,
   "id": "86bf6683",
   "metadata": {},
   "outputs": [
    {
     "data": {
      "text/plain": [
       "KNeighborsClassifier()"
      ]
     },
     "execution_count": 216,
     "metadata": {},
     "output_type": "execute_result"
    }
   ],
   "source": [
    "from sklearn.neighbors import KNeighborsClassifier\n",
    "knn = KNeighborsClassifier()\n",
    "knn.fit(X_train, y_train)"
   ]
  },
  {
   "cell_type": "code",
   "execution_count": 217,
   "id": "8d9e75b9",
   "metadata": {},
   "outputs": [
    {
     "name": "stdout",
     "output_type": "stream",
     "text": [
      "Training accuracy is : 0.3718152563390568 \n",
      "               precision    recall  f1-score   support\n",
      "\n",
      "           1       0.23      0.38      0.28     27085\n",
      "           2       0.46      0.35      0.40     56562\n",
      "           3       0.44      0.39      0.41     47800\n",
      "\n",
      "    accuracy                           0.37    131447\n",
      "   macro avg       0.37      0.37      0.37    131447\n",
      "weighted avg       0.40      0.37      0.38    131447\n",
      " \n",
      " Testing accuracy is : 0.37 \n",
      "               precision    recall  f1-score   support\n",
      "\n",
      "           1       0.22      0.38      0.28      6721\n",
      "           2       0.46      0.36      0.40     14018\n",
      "           3       0.44      0.39      0.41     12123\n",
      "\n",
      "    accuracy                           0.37     32862\n",
      "   macro avg       0.38      0.38      0.37     32862\n",
      "weighted avg       0.41      0.37      0.38     32862\n",
      " \n",
      "\n"
     ]
    }
   ],
   "source": [
    "compare_model_train_test(knn)"
   ]
  },
  {
   "cell_type": "code",
   "execution_count": null,
   "id": "2f4c693c",
   "metadata": {},
   "outputs": [],
   "source": []
  },
  {
   "cell_type": "code",
   "execution_count": null,
   "id": "54572d13",
   "metadata": {},
   "outputs": [],
   "source": []
  },
  {
   "cell_type": "code",
   "execution_count": null,
   "id": "fff54768",
   "metadata": {},
   "outputs": [],
   "source": []
  },
  {
   "cell_type": "code",
   "execution_count": null,
   "id": "50f6a8c2",
   "metadata": {},
   "outputs": [],
   "source": []
  },
  {
   "cell_type": "code",
   "execution_count": null,
   "id": "53a47ba0",
   "metadata": {},
   "outputs": [],
   "source": []
  },
  {
   "cell_type": "code",
   "execution_count": null,
   "id": "66413a34",
   "metadata": {},
   "outputs": [],
   "source": []
  },
  {
   "cell_type": "code",
   "execution_count": null,
   "id": "28aaf249",
   "metadata": {},
   "outputs": [],
   "source": []
  },
  {
   "cell_type": "code",
   "execution_count": 87,
   "id": "9b53a4e4",
   "metadata": {},
   "outputs": [
    {
     "data": {
      "text/html": [
       "<div>\n",
       "<style scoped>\n",
       "    .dataframe tbody tr th:only-of-type {\n",
       "        vertical-align: middle;\n",
       "    }\n",
       "\n",
       "    .dataframe tbody tr th {\n",
       "        vertical-align: top;\n",
       "    }\n",
       "\n",
       "    .dataframe thead th {\n",
       "        text-align: right;\n",
       "    }\n",
       "</style>\n",
       "<table border=\"1\" class=\"dataframe\">\n",
       "  <thead>\n",
       "    <tr style=\"text-align: right;\">\n",
       "      <th></th>\n",
       "      <th>Loan_Amount_Requested</th>\n",
       "      <th>Employment_experience_in_years</th>\n",
       "      <th>Annual_Income</th>\n",
       "      <th>Debt_To_Income</th>\n",
       "      <th>Inquiries_in_Last_6_Months</th>\n",
       "      <th>Days_since_deliquency</th>\n",
       "      <th>Total_Accounts</th>\n",
       "      <th>None</th>\n",
       "      <th>Own</th>\n",
       "      <th>Rent</th>\n",
       "      <th>credit_card</th>\n",
       "      <th>debt_consolidation</th>\n",
       "      <th>educational</th>\n",
       "      <th>home_improvement</th>\n",
       "      <th>house</th>\n",
       "      <th>major_purchase</th>\n",
       "      <th>medical</th>\n",
       "      <th>moving</th>\n",
       "      <th>other</th>\n",
       "      <th>renewable_energy</th>\n",
       "      <th>small_business</th>\n",
       "      <th>vacation</th>\n",
       "      <th>wedding</th>\n",
       "      <th>verified</th>\n",
       "      <th>Male</th>\n",
       "    </tr>\n",
       "  </thead>\n",
       "  <tbody>\n",
       "    <tr>\n",
       "      <th>0</th>\n",
       "      <td>7000</td>\n",
       "      <td>0</td>\n",
       "      <td>68000.000000</td>\n",
       "      <td>18.37</td>\n",
       "      <td>0</td>\n",
       "      <td>9.0</td>\n",
       "      <td>14</td>\n",
       "      <td>0</td>\n",
       "      <td>0</td>\n",
       "      <td>1</td>\n",
       "      <td>0</td>\n",
       "      <td>0</td>\n",
       "      <td>0</td>\n",
       "      <td>0</td>\n",
       "      <td>0</td>\n",
       "      <td>0</td>\n",
       "      <td>0</td>\n",
       "      <td>0</td>\n",
       "      <td>0</td>\n",
       "      <td>0</td>\n",
       "      <td>0</td>\n",
       "      <td>0</td>\n",
       "      <td>0</td>\n",
       "      <td>0</td>\n",
       "      <td>0</td>\n",
       "    </tr>\n",
       "    <tr>\n",
       "      <th>1</th>\n",
       "      <td>30000</td>\n",
       "      <td>4</td>\n",
       "      <td>73331.159434</td>\n",
       "      <td>14.93</td>\n",
       "      <td>0</td>\n",
       "      <td>17.0</td>\n",
       "      <td>24</td>\n",
       "      <td>0</td>\n",
       "      <td>0</td>\n",
       "      <td>0</td>\n",
       "      <td>0</td>\n",
       "      <td>1</td>\n",
       "      <td>0</td>\n",
       "      <td>0</td>\n",
       "      <td>0</td>\n",
       "      <td>0</td>\n",
       "      <td>0</td>\n",
       "      <td>0</td>\n",
       "      <td>0</td>\n",
       "      <td>0</td>\n",
       "      <td>0</td>\n",
       "      <td>0</td>\n",
       "      <td>0</td>\n",
       "      <td>1</td>\n",
       "      <td>0</td>\n",
       "    </tr>\n",
       "    <tr>\n",
       "      <th>2</th>\n",
       "      <td>24725</td>\n",
       "      <td>7</td>\n",
       "      <td>75566.400000</td>\n",
       "      <td>15.88</td>\n",
       "      <td>0</td>\n",
       "      <td>9.0</td>\n",
       "      <td>16</td>\n",
       "      <td>0</td>\n",
       "      <td>0</td>\n",
       "      <td>0</td>\n",
       "      <td>0</td>\n",
       "      <td>1</td>\n",
       "      <td>0</td>\n",
       "      <td>0</td>\n",
       "      <td>0</td>\n",
       "      <td>0</td>\n",
       "      <td>0</td>\n",
       "      <td>0</td>\n",
       "      <td>0</td>\n",
       "      <td>0</td>\n",
       "      <td>0</td>\n",
       "      <td>0</td>\n",
       "      <td>0</td>\n",
       "      <td>1</td>\n",
       "      <td>1</td>\n",
       "    </tr>\n",
       "    <tr>\n",
       "      <th>3</th>\n",
       "      <td>16000</td>\n",
       "      <td>0</td>\n",
       "      <td>56160.000000</td>\n",
       "      <td>14.34</td>\n",
       "      <td>3</td>\n",
       "      <td>9.0</td>\n",
       "      <td>22</td>\n",
       "      <td>0</td>\n",
       "      <td>0</td>\n",
       "      <td>0</td>\n",
       "      <td>0</td>\n",
       "      <td>1</td>\n",
       "      <td>0</td>\n",
       "      <td>0</td>\n",
       "      <td>0</td>\n",
       "      <td>0</td>\n",
       "      <td>0</td>\n",
       "      <td>0</td>\n",
       "      <td>0</td>\n",
       "      <td>0</td>\n",
       "      <td>0</td>\n",
       "      <td>0</td>\n",
       "      <td>0</td>\n",
       "      <td>1</td>\n",
       "      <td>1</td>\n",
       "    </tr>\n",
       "    <tr>\n",
       "      <th>4</th>\n",
       "      <td>17000</td>\n",
       "      <td>8</td>\n",
       "      <td>96000.000000</td>\n",
       "      <td>22.17</td>\n",
       "      <td>1</td>\n",
       "      <td>9.0</td>\n",
       "      <td>30</td>\n",
       "      <td>0</td>\n",
       "      <td>1</td>\n",
       "      <td>0</td>\n",
       "      <td>0</td>\n",
       "      <td>1</td>\n",
       "      <td>0</td>\n",
       "      <td>0</td>\n",
       "      <td>0</td>\n",
       "      <td>0</td>\n",
       "      <td>0</td>\n",
       "      <td>0</td>\n",
       "      <td>0</td>\n",
       "      <td>0</td>\n",
       "      <td>0</td>\n",
       "      <td>0</td>\n",
       "      <td>0</td>\n",
       "      <td>1</td>\n",
       "      <td>0</td>\n",
       "    </tr>\n",
       "  </tbody>\n",
       "</table>\n",
       "</div>"
      ],
      "text/plain": [
       "   Loan_Amount_Requested  Employment_experience_in_years  Annual_Income  \\\n",
       "0                   7000                               0   68000.000000   \n",
       "1                  30000                               4   73331.159434   \n",
       "2                  24725                               7   75566.400000   \n",
       "3                  16000                               0   56160.000000   \n",
       "4                  17000                               8   96000.000000   \n",
       "\n",
       "   Debt_To_Income  Inquiries_in_Last_6_Months  Days_since_deliquency  \\\n",
       "0           18.37                           0                    9.0   \n",
       "1           14.93                           0                   17.0   \n",
       "2           15.88                           0                    9.0   \n",
       "3           14.34                           3                    9.0   \n",
       "4           22.17                           1                    9.0   \n",
       "\n",
       "   Total_Accounts  None  Own  Rent  credit_card  debt_consolidation  \\\n",
       "0              14     0    0     1            0                   0   \n",
       "1              24     0    0     0            0                   1   \n",
       "2              16     0    0     0            0                   1   \n",
       "3              22     0    0     0            0                   1   \n",
       "4              30     0    1     0            0                   1   \n",
       "\n",
       "   educational  home_improvement  house  major_purchase  medical  moving  \\\n",
       "0            0                 0      0               0        0       0   \n",
       "1            0                 0      0               0        0       0   \n",
       "2            0                 0      0               0        0       0   \n",
       "3            0                 0      0               0        0       0   \n",
       "4            0                 0      0               0        0       0   \n",
       "\n",
       "   other  renewable_energy  small_business  vacation  wedding  verified  Male  \n",
       "0      0                 0               0         0        0         0     0  \n",
       "1      0                 0               0         0        0         1     0  \n",
       "2      0                 0               0         0        0         1     1  \n",
       "3      0                 0               0         0        0         1     1  \n",
       "4      0                 0               0         0        0         1     0  "
      ]
     },
     "execution_count": 87,
     "metadata": {},
     "output_type": "execute_result"
    }
   ],
   "source": [
    "X.head()"
   ]
  },
  {
   "cell_type": "code",
   "execution_count": 88,
   "id": "383ec87d",
   "metadata": {},
   "outputs": [],
   "source": [
    "gini_x = X.loc[:, 'None':]"
   ]
  },
  {
   "cell_type": "code",
   "execution_count": 89,
   "id": "e2412536",
   "metadata": {},
   "outputs": [
    {
     "data": {
      "text/html": [
       "<div>\n",
       "<style scoped>\n",
       "    .dataframe tbody tr th:only-of-type {\n",
       "        vertical-align: middle;\n",
       "    }\n",
       "\n",
       "    .dataframe tbody tr th {\n",
       "        vertical-align: top;\n",
       "    }\n",
       "\n",
       "    .dataframe thead th {\n",
       "        text-align: right;\n",
       "    }\n",
       "</style>\n",
       "<table border=\"1\" class=\"dataframe\">\n",
       "  <thead>\n",
       "    <tr style=\"text-align: right;\">\n",
       "      <th></th>\n",
       "      <th>None</th>\n",
       "      <th>Own</th>\n",
       "      <th>Rent</th>\n",
       "      <th>credit_card</th>\n",
       "      <th>debt_consolidation</th>\n",
       "      <th>educational</th>\n",
       "      <th>home_improvement</th>\n",
       "      <th>house</th>\n",
       "      <th>major_purchase</th>\n",
       "      <th>medical</th>\n",
       "      <th>moving</th>\n",
       "      <th>other</th>\n",
       "      <th>renewable_energy</th>\n",
       "      <th>small_business</th>\n",
       "      <th>vacation</th>\n",
       "      <th>wedding</th>\n",
       "      <th>verified</th>\n",
       "      <th>Male</th>\n",
       "    </tr>\n",
       "  </thead>\n",
       "  <tbody>\n",
       "    <tr>\n",
       "      <th>0</th>\n",
       "      <td>0</td>\n",
       "      <td>0</td>\n",
       "      <td>1</td>\n",
       "      <td>0</td>\n",
       "      <td>0</td>\n",
       "      <td>0</td>\n",
       "      <td>0</td>\n",
       "      <td>0</td>\n",
       "      <td>0</td>\n",
       "      <td>0</td>\n",
       "      <td>0</td>\n",
       "      <td>0</td>\n",
       "      <td>0</td>\n",
       "      <td>0</td>\n",
       "      <td>0</td>\n",
       "      <td>0</td>\n",
       "      <td>0</td>\n",
       "      <td>0</td>\n",
       "    </tr>\n",
       "    <tr>\n",
       "      <th>1</th>\n",
       "      <td>0</td>\n",
       "      <td>0</td>\n",
       "      <td>0</td>\n",
       "      <td>0</td>\n",
       "      <td>1</td>\n",
       "      <td>0</td>\n",
       "      <td>0</td>\n",
       "      <td>0</td>\n",
       "      <td>0</td>\n",
       "      <td>0</td>\n",
       "      <td>0</td>\n",
       "      <td>0</td>\n",
       "      <td>0</td>\n",
       "      <td>0</td>\n",
       "      <td>0</td>\n",
       "      <td>0</td>\n",
       "      <td>1</td>\n",
       "      <td>0</td>\n",
       "    </tr>\n",
       "    <tr>\n",
       "      <th>2</th>\n",
       "      <td>0</td>\n",
       "      <td>0</td>\n",
       "      <td>0</td>\n",
       "      <td>0</td>\n",
       "      <td>1</td>\n",
       "      <td>0</td>\n",
       "      <td>0</td>\n",
       "      <td>0</td>\n",
       "      <td>0</td>\n",
       "      <td>0</td>\n",
       "      <td>0</td>\n",
       "      <td>0</td>\n",
       "      <td>0</td>\n",
       "      <td>0</td>\n",
       "      <td>0</td>\n",
       "      <td>0</td>\n",
       "      <td>1</td>\n",
       "      <td>1</td>\n",
       "    </tr>\n",
       "    <tr>\n",
       "      <th>3</th>\n",
       "      <td>0</td>\n",
       "      <td>0</td>\n",
       "      <td>0</td>\n",
       "      <td>0</td>\n",
       "      <td>1</td>\n",
       "      <td>0</td>\n",
       "      <td>0</td>\n",
       "      <td>0</td>\n",
       "      <td>0</td>\n",
       "      <td>0</td>\n",
       "      <td>0</td>\n",
       "      <td>0</td>\n",
       "      <td>0</td>\n",
       "      <td>0</td>\n",
       "      <td>0</td>\n",
       "      <td>0</td>\n",
       "      <td>1</td>\n",
       "      <td>1</td>\n",
       "    </tr>\n",
       "    <tr>\n",
       "      <th>4</th>\n",
       "      <td>0</td>\n",
       "      <td>1</td>\n",
       "      <td>0</td>\n",
       "      <td>0</td>\n",
       "      <td>1</td>\n",
       "      <td>0</td>\n",
       "      <td>0</td>\n",
       "      <td>0</td>\n",
       "      <td>0</td>\n",
       "      <td>0</td>\n",
       "      <td>0</td>\n",
       "      <td>0</td>\n",
       "      <td>0</td>\n",
       "      <td>0</td>\n",
       "      <td>0</td>\n",
       "      <td>0</td>\n",
       "      <td>1</td>\n",
       "      <td>0</td>\n",
       "    </tr>\n",
       "  </tbody>\n",
       "</table>\n",
       "</div>"
      ],
      "text/plain": [
       "   None  Own  Rent  credit_card  debt_consolidation  educational  \\\n",
       "0     0    0     1            0                   0            0   \n",
       "1     0    0     0            0                   1            0   \n",
       "2     0    0     0            0                   1            0   \n",
       "3     0    0     0            0                   1            0   \n",
       "4     0    1     0            0                   1            0   \n",
       "\n",
       "   home_improvement  house  major_purchase  medical  moving  other  \\\n",
       "0                 0      0               0        0       0      0   \n",
       "1                 0      0               0        0       0      0   \n",
       "2                 0      0               0        0       0      0   \n",
       "3                 0      0               0        0       0      0   \n",
       "4                 0      0               0        0       0      0   \n",
       "\n",
       "   renewable_energy  small_business  vacation  wedding  verified  Male  \n",
       "0                 0               0         0        0         0     0  \n",
       "1                 0               0         0        0         1     0  \n",
       "2                 0               0         0        0         1     1  \n",
       "3                 0               0         0        0         1     1  \n",
       "4                 0               0         0        0         1     0  "
      ]
     },
     "execution_count": 89,
     "metadata": {},
     "output_type": "execute_result"
    }
   ],
   "source": [
    "gini_x.head()"
   ]
  },
  {
   "cell_type": "code",
   "execution_count": 90,
   "id": "bef1cc14",
   "metadata": {},
   "outputs": [
    {
     "data": {
      "text/plain": [
       "0    1\n",
       "1    3\n",
       "2    3\n",
       "3    3\n",
       "4    1\n",
       "Name: Interest_Rate, dtype: int64"
      ]
     },
     "execution_count": 90,
     "metadata": {},
     "output_type": "execute_result"
    }
   ],
   "source": [
    "y.head()"
   ]
  },
  {
   "cell_type": "code",
   "execution_count": 91,
   "id": "26247fcb",
   "metadata": {},
   "outputs": [],
   "source": [
    "from sklearn.model_selection import train_test_split\n",
    "from sklearn.tree import DecisionTreeClassifier\n",
    "X_train, X_test, y_train, y_test = train_test_split(gini_x, y, test_size=0.2, random_state=42)"
   ]
  },
  {
   "cell_type": "code",
   "execution_count": 92,
   "id": "31f8898f",
   "metadata": {},
   "outputs": [
    {
     "data": {
      "text/plain": [
       "DecisionTreeClassifier()"
      ]
     },
     "execution_count": 92,
     "metadata": {},
     "output_type": "execute_result"
    }
   ],
   "source": [
    "clf = DecisionTreeClassifier()\n",
    "clf.fit(X_train, y_train)"
   ]
  },
  {
   "cell_type": "code",
   "execution_count": 93,
   "id": "047949ad",
   "metadata": {},
   "outputs": [],
   "source": [
    "prediction = clf.predict(X_test)"
   ]
  },
  {
   "cell_type": "raw",
   "id": "139ea4b1",
   "metadata": {},
   "source": [
    "from sklearn import tree\n",
    "plt.figure(figsize=(20,12))\n",
    "tree.plot_tree(clf, filled=True,feature_names = gini_x.columns,class_names=['1','2','3']);\n",
    "plt.show()"
   ]
  },
  {
   "cell_type": "markdown",
   "id": "cfb69ed8",
   "metadata": {},
   "source": [
    "### Split data into training and testing"
   ]
  },
  {
   "cell_type": "code",
   "execution_count": 94,
   "id": "f56368fa",
   "metadata": {},
   "outputs": [],
   "source": [
    "from sklearn.model_selection import train_test_split\n",
    "X_train, X_test, y_train, y_test = train_test_split(X, y, test_size=0.2, random_state=42)"
   ]
  },
  {
   "cell_type": "markdown",
   "id": "f84dc44a",
   "metadata": {},
   "source": [
    "### Create model"
   ]
  },
  {
   "cell_type": "code",
   "execution_count": 95,
   "id": "967244d8",
   "metadata": {},
   "outputs": [],
   "source": [
    "from sklearn.tree import DecisionTreeClassifier\n",
    "clf = DecisionTreeClassifier()"
   ]
  },
  {
   "cell_type": "markdown",
   "id": "9c78cc29",
   "metadata": {},
   "source": [
    "### Train the model"
   ]
  },
  {
   "cell_type": "code",
   "execution_count": 96,
   "id": "563379dc",
   "metadata": {},
   "outputs": [
    {
     "data": {
      "text/plain": [
       "DecisionTreeClassifier()"
      ]
     },
     "execution_count": 96,
     "metadata": {},
     "output_type": "execute_result"
    }
   ],
   "source": [
    "clf.fit(X_train, y_train)"
   ]
  },
  {
   "cell_type": "code",
   "execution_count": 97,
   "id": "cf8cc738",
   "metadata": {},
   "outputs": [
    {
     "data": {
      "text/plain": [
       "{'ccp_alpha': 0.0,\n",
       " 'class_weight': None,\n",
       " 'criterion': 'gini',\n",
       " 'max_depth': None,\n",
       " 'max_features': None,\n",
       " 'max_leaf_nodes': None,\n",
       " 'min_impurity_decrease': 0.0,\n",
       " 'min_samples_leaf': 1,\n",
       " 'min_samples_split': 2,\n",
       " 'min_weight_fraction_leaf': 0.0,\n",
       " 'random_state': None,\n",
       " 'splitter': 'best'}"
      ]
     },
     "execution_count": 97,
     "metadata": {},
     "output_type": "execute_result"
    }
   ],
   "source": [
    "clf.get_params()"
   ]
  },
  {
   "cell_type": "markdown",
   "id": "7a9a995e",
   "metadata": {},
   "source": [
    "### Predictions"
   ]
  },
  {
   "cell_type": "code",
   "execution_count": 98,
   "id": "e3770217",
   "metadata": {},
   "outputs": [],
   "source": [
    "test_pred = clf.predict(X_test)\n",
    "train_pred  =clf.predict(X_train)"
   ]
  },
  {
   "cell_type": "markdown",
   "id": "b4acd822",
   "metadata": {},
   "source": [
    "### Model evaluation"
   ]
  },
  {
   "cell_type": "code",
   "execution_count": 99,
   "id": "61708a02",
   "metadata": {},
   "outputs": [],
   "source": [
    "from sklearn.metrics import accuracy_score, confusion_matrix, classification_report"
   ]
  },
  {
   "cell_type": "code",
   "execution_count": 100,
   "id": "63ee0594",
   "metadata": {},
   "outputs": [
    {
     "name": "stdout",
     "output_type": "stream",
     "text": [
      "Training accuracy is : 1.0 \n",
      " Testing accuracy is : 0.43\n"
     ]
    }
   ],
   "source": [
    "test_accuracy = accuracy_score(y_test, test_pred)\n",
    "train_accuracy = accuracy_score(y_train, train_pred)\n",
    "print('Training accuracy is :', train_accuracy, '\\n','Testing accuracy is :',round(test_accuracy,2))"
   ]
  },
  {
   "cell_type": "code",
   "execution_count": 101,
   "id": "f23712bd",
   "metadata": {},
   "outputs": [
    {
     "data": {
      "text/plain": [
       "array([[2159, 2944, 1618],\n",
       "       [2998, 6318, 4702],\n",
       "       [1787, 4778, 5558]], dtype=int64)"
      ]
     },
     "execution_count": 101,
     "metadata": {},
     "output_type": "execute_result"
    }
   ],
   "source": [
    "# Confusion matrix\n",
    "cm = confusion_matrix(y_test, test_pred)\n",
    "cm"
   ]
  },
  {
   "cell_type": "code",
   "execution_count": 102,
   "id": "a695fd18",
   "metadata": {},
   "outputs": [
    {
     "data": {
      "text/plain": [
       "Text(0.5, 1.0, 'Confusion matrix (Imbalance data)')"
      ]
     },
     "execution_count": 102,
     "metadata": {},
     "output_type": "execute_result"
    },
    {
     "data": {
      "image/png": "[encoded data removed]",
      "text/plain": [
       "<Figure size 504x360 with 1 Axes>"
      ]
     },
     "metadata": {},
     "output_type": "display_data"
    }
   ],
   "source": [
    "plt.figure(figsize=(7, 5))\n",
    "sns.heatmap(cm, annot=True, fmt='g', cbar=False)\n",
    "plt.xlabel('Predicted values')\n",
    "plt.ylabel('Actual values')\n",
    "plt.title('Confusion matrix (Imbalance data)')"
   ]
  },
  {
   "cell_type": "code",
   "execution_count": 103,
   "id": "74e0e1eb",
   "metadata": {},
   "outputs": [
    {
     "name": "stdout",
     "output_type": "stream",
     "text": [
      "              precision    recall  f1-score   support\n",
      "\n",
      "           1       1.00      1.00      1.00     27085\n",
      "           2       1.00      1.00      1.00     56562\n",
      "           3       1.00      1.00      1.00     47800\n",
      "\n",
      "    accuracy                           1.00    131447\n",
      "   macro avg       1.00      1.00      1.00    131447\n",
      "weighted avg       1.00      1.00      1.00    131447\n",
      "\n"
     ]
    }
   ],
   "source": [
    "print(classification_report(y_train, train_pred))"
   ]
  },
  {
   "cell_type": "code",
   "execution_count": 104,
   "id": "29c29a75",
   "metadata": {},
   "outputs": [
    {
     "name": "stdout",
     "output_type": "stream",
     "text": [
      "              precision    recall  f1-score   support\n",
      "\n",
      "           1       0.31      0.32      0.32      6721\n",
      "           2       0.45      0.45      0.45     14018\n",
      "           3       0.47      0.46      0.46     12123\n",
      "\n",
      "    accuracy                           0.43     32862\n",
      "   macro avg       0.41      0.41      0.41     32862\n",
      "weighted avg       0.43      0.43      0.43     32862\n",
      "\n"
     ]
    }
   ],
   "source": [
    "print(classification_report(y_test, test_pred))"
   ]
  },
  {
   "cell_type": "code",
   "execution_count": 105,
   "id": "917e1cb3",
   "metadata": {},
   "outputs": [],
   "source": [
    "def compare_model_train_test(model):\n",
    "    train_accuracy = accuracy_score(y_train, train_pred)\n",
    "    test_accuracy = accuracy_score(y_test, test_pred)\n",
    "    train_clf_report = classification_report(y_train, train_pred)\n",
    "    test_clf_report = classification_report(y_test, test_pred)\n",
    "    print('Training accuracy is :', train_accuracy, '\\n', train_clf_report, '\\n',\n",
    "         'Testing accuracy is :', round(test_accuracy,2), '\\n', test_clf_report, '\\n',)"
   ]
  },
  {
   "cell_type": "code",
   "execution_count": 106,
   "id": "a8433d72",
   "metadata": {},
   "outputs": [
    {
     "name": "stdout",
     "output_type": "stream",
     "text": [
      "Training accuracy is : 1.0 \n",
      "               precision    recall  f1-score   support\n",
      "\n",
      "           1       1.00      1.00      1.00     27085\n",
      "           2       1.00      1.00      1.00     56562\n",
      "           3       1.00      1.00      1.00     47800\n",
      "\n",
      "    accuracy                           1.00    131447\n",
      "   macro avg       1.00      1.00      1.00    131447\n",
      "weighted avg       1.00      1.00      1.00    131447\n",
      " \n",
      " Testing accuracy is : 0.43 \n",
      "               precision    recall  f1-score   support\n",
      "\n",
      "           1       0.31      0.32      0.32      6721\n",
      "           2       0.45      0.45      0.45     14018\n",
      "           3       0.47      0.46      0.46     12123\n",
      "\n",
      "    accuracy                           0.43     32862\n",
      "   macro avg       0.41      0.41      0.41     32862\n",
      "weighted avg       0.43      0.43      0.43     32862\n",
      " \n",
      "\n"
     ]
    }
   ],
   "source": [
    "compare_model_train_test(clf)"
   ]
  },
  {
   "cell_type": "raw",
   "id": "d0cbac1a",
   "metadata": {},
   "source": []
  },
  {
   "cell_type": "markdown",
   "id": "d72a37d7",
   "metadata": {},
   "source": [
    "### Cross validation"
   ]
  },
  {
   "cell_type": "code",
   "execution_count": 107,
   "id": "de353a80",
   "metadata": {},
   "outputs": [
    {
     "name": "stdout",
     "output_type": "stream",
     "text": [
      "[0.42730205 0.43174487 0.42961475 0.4327795  0.42985819 0.43125799\n",
      " 0.42803238 0.42608484 0.42511107 0.42860621]\n",
      "Average cross valid score is 0.4290391857233775\n"
     ]
    }
   ],
   "source": [
    "from sklearn.model_selection import cross_val_score, StratifiedKFold\n",
    "skf = StratifiedKFold(n_splits=10, shuffle=True, random_state=42)\n",
    "cv_score = cross_val_score(clf, X, y, cv=skf)\n",
    "print(cv_score)\n",
    "print('Average cross valid score is {}'.format(np.mean(cv_score)))"
   ]
  },
  {
   "cell_type": "markdown",
   "id": "6742d4f9",
   "metadata": {},
   "source": [
    "### Sampling"
   ]
  },
  {
   "cell_type": "code",
   "execution_count": 108,
   "id": "a7bc24d0",
   "metadata": {},
   "outputs": [
    {
     "data": {
      "text/plain": [
       "Counter({1: 27085, 2: 56562, 3: 47800})"
      ]
     },
     "execution_count": 108,
     "metadata": {},
     "output_type": "execute_result"
    }
   ],
   "source": [
    "# Before resampling\n",
    "from collections import Counter\n",
    "Counter(y_train)"
   ]
  },
  {
   "cell_type": "code",
   "execution_count": 109,
   "id": "9ca7e944",
   "metadata": {},
   "outputs": [],
   "source": [
    "# over sampling by random over sampler\n",
    "from imblearn.under_sampling import RandomUnderSampler\n",
    "rus = RandomUnderSampler()\n",
    "X_train_res, y_train_res = rus.fit_resample(X_train, y_train)"
   ]
  },
  {
   "cell_type": "code",
   "execution_count": 110,
   "id": "93f5be5c",
   "metadata": {},
   "outputs": [
    {
     "data": {
      "text/plain": [
       "Counter({1: 27085, 2: 27085, 3: 27085})"
      ]
     },
     "execution_count": 110,
     "metadata": {},
     "output_type": "execute_result"
    }
   ],
   "source": [
    "# After resampling\n",
    "Counter(y_train_res)"
   ]
  },
  {
   "cell_type": "code",
   "execution_count": 111,
   "id": "4b0f069a",
   "metadata": {},
   "outputs": [
    {
     "data": {
      "text/plain": [
       "DecisionTreeClassifier()"
      ]
     },
     "execution_count": 111,
     "metadata": {},
     "output_type": "execute_result"
    }
   ],
   "source": [
    "# Train the model\n",
    "clf.fit(X_train_res, y_train_res)"
   ]
  },
  {
   "cell_type": "code",
   "execution_count": 112,
   "id": "8f8158a4",
   "metadata": {},
   "outputs": [],
   "source": [
    "# Predictions\n",
    "test_pred = clf.predict(X_test)\n",
    "train_pred  =clf.predict(X_train_res)"
   ]
  },
  {
   "cell_type": "code",
   "execution_count": 113,
   "id": "37241972",
   "metadata": {},
   "outputs": [],
   "source": [
    "def compare_model_train_test(model):\n",
    "    train_accuracy = accuracy_score(y_train_res, train_pred)\n",
    "    test_accuracy = accuracy_score(y_test, test_pred)\n",
    "    train_clf_report = classification_report(y_train_res, train_pred)\n",
    "    test_clf_report = classification_report(y_test, test_pred)\n",
    "    print('Training accuracy is :', train_accuracy, '\\n', train_clf_report, '\\n',\n",
    "         'Testing accuracy is :', round(test_accuracy,2), '\\n', test_clf_report, '\\n',)"
   ]
  },
  {
   "cell_type": "code",
   "execution_count": 114,
   "id": "c4584000",
   "metadata": {},
   "outputs": [
    {
     "name": "stdout",
     "output_type": "stream",
     "text": [
      "Training accuracy is : 1.0 \n",
      "               precision    recall  f1-score   support\n",
      "\n",
      "           1       1.00      1.00      1.00     27085\n",
      "           2       1.00      1.00      1.00     27085\n",
      "           3       1.00      1.00      1.00     27085\n",
      "\n",
      "    accuracy                           1.00     81255\n",
      "   macro avg       1.00      1.00      1.00     81255\n",
      "weighted avg       1.00      1.00      1.00     81255\n",
      " \n",
      " Testing accuracy is : 0.41 \n",
      "               precision    recall  f1-score   support\n",
      "\n",
      "           1       0.29      0.43      0.35      6721\n",
      "           2       0.45      0.36      0.40     14018\n",
      "           3       0.48      0.45      0.46     12123\n",
      "\n",
      "    accuracy                           0.41     32862\n",
      "   macro avg       0.40      0.41      0.40     32862\n",
      "weighted avg       0.43      0.41      0.41     32862\n",
      " \n",
      "\n"
     ]
    }
   ],
   "source": [
    "compare_model_train_test(clf)"
   ]
  },
  {
   "cell_type": "code",
   "execution_count": 115,
   "id": "7e797053",
   "metadata": {},
   "outputs": [
    {
     "data": {
      "text/plain": [
       "Text(0.5, 1.0, 'Confusion matrix(after re-sampling by random over sampler)')"
      ]
     },
     "execution_count": 115,
     "metadata": {},
     "output_type": "execute_result"
    },
    {
     "data": {
      "image/png": "[encoded data removed]",
      "text/plain": [
       "<Figure size 504x360 with 1 Axes>"
      ]
     },
     "metadata": {},
     "output_type": "display_data"
    }
   ],
   "source": [
    "plt.figure(figsize=(7, 5))\n",
    "cm = confusion_matrix(y_test, test_pred)\n",
    "sns.heatmap(cm, annot=True, fmt='g', cbar=False)\n",
    "plt.xlabel('Predicted values')\n",
    "plt.ylabel('Actual values')\n",
    "plt.title('Confusion matrix(after re-sampling by random over sampler)')"
   ]
  },
  {
   "cell_type": "raw",
   "id": "780d9fb9",
   "metadata": {},
   "source": []
  },
  {
   "cell_type": "markdown",
   "id": "1f4d114c",
   "metadata": {},
   "source": [
    "### Over sampling by SMOTE"
   ]
  },
  {
   "cell_type": "code",
   "execution_count": 116,
   "id": "fc547522",
   "metadata": {},
   "outputs": [
    {
     "data": {
      "text/plain": [
       "Counter({1: 27085, 2: 56562, 3: 47800})"
      ]
     },
     "execution_count": 116,
     "metadata": {},
     "output_type": "execute_result"
    }
   ],
   "source": [
    "Counter(y_train)"
   ]
  },
  {
   "cell_type": "code",
   "execution_count": 117,
   "id": "da96b9d1",
   "metadata": {},
   "outputs": [],
   "source": [
    "from imblearn.over_sampling import SMOTE\n",
    "smote = SMOTE()"
   ]
  },
  {
   "cell_type": "code",
   "execution_count": 118,
   "id": "d42de202",
   "metadata": {},
   "outputs": [],
   "source": [
    "X_train_smote, y_train_smote = smote.fit_resample(X_train, y_train)"
   ]
  },
  {
   "cell_type": "code",
   "execution_count": 119,
   "id": "d408f547",
   "metadata": {},
   "outputs": [
    {
     "data": {
      "text/plain": [
       "Counter({1: 56562, 2: 56562, 3: 56562})"
      ]
     },
     "execution_count": 119,
     "metadata": {},
     "output_type": "execute_result"
    }
   ],
   "source": [
    "Counter(y_train_smote)"
   ]
  },
  {
   "cell_type": "code",
   "execution_count": 120,
   "id": "598960d3",
   "metadata": {},
   "outputs": [
    {
     "data": {
      "text/plain": [
       "DecisionTreeClassifier()"
      ]
     },
     "execution_count": 120,
     "metadata": {},
     "output_type": "execute_result"
    }
   ],
   "source": [
    "clf.fit(X_train_smote, y_train_smote)"
   ]
  },
  {
   "cell_type": "code",
   "execution_count": 121,
   "id": "c7021997",
   "metadata": {},
   "outputs": [],
   "source": [
    "# Predictions\n",
    "test_pred = clf.predict(X_test)\n",
    "train_pred  =clf.predict(X_train_smote)"
   ]
  },
  {
   "cell_type": "code",
   "execution_count": 122,
   "id": "e67d4a77",
   "metadata": {},
   "outputs": [],
   "source": [
    "def compare_model_train_test(model):\n",
    "    train_accuracy = accuracy_score(y_train_smote, train_pred)\n",
    "    test_accuracy = accuracy_score(y_test, test_pred)\n",
    "    train_clf_report = classification_report(y_train_smote, train_pred)\n",
    "    test_clf_report = classification_report(y_test, test_pred)\n",
    "    print('Training accuracy is :', train_accuracy, '\\n', train_clf_report, '\\n',\n",
    "         'Testing accuracy is :', round(test_accuracy,2), '\\n', test_clf_report, '\\n',)"
   ]
  },
  {
   "cell_type": "code",
   "execution_count": 123,
   "id": "884d74bc",
   "metadata": {},
   "outputs": [
    {
     "name": "stdout",
     "output_type": "stream",
     "text": [
      "Training accuracy is : 1.0 \n",
      "               precision    recall  f1-score   support\n",
      "\n",
      "           1       1.00      1.00      1.00     56562\n",
      "           2       1.00      1.00      1.00     56562\n",
      "           3       1.00      1.00      1.00     56562\n",
      "\n",
      "    accuracy                           1.00    169686\n",
      "   macro avg       1.00      1.00      1.00    169686\n",
      "weighted avg       1.00      1.00      1.00    169686\n",
      " \n",
      " Testing accuracy is : 0.42 \n",
      "               precision    recall  f1-score   support\n",
      "\n",
      "           1       0.30      0.35      0.32      6721\n",
      "           2       0.44      0.42      0.43     14018\n",
      "           3       0.47      0.46      0.46     12123\n",
      "\n",
      "    accuracy                           0.42     32862\n",
      "   macro avg       0.40      0.41      0.41     32862\n",
      "weighted avg       0.42      0.42      0.42     32862\n",
      " \n",
      "\n"
     ]
    }
   ],
   "source": [
    "compare_model_train_test(clf)"
   ]
  },
  {
   "cell_type": "code",
   "execution_count": 124,
   "id": "11c53fbf",
   "metadata": {},
   "outputs": [
    {
     "data": {
      "text/plain": [
       "Text(0.5, 1.0, 'Confusion matrix (after resampling by SMOTE)')"
      ]
     },
     "execution_count": 124,
     "metadata": {},
     "output_type": "execute_result"
    },
    {
     "data": {
      "image/png": "[encoded data removed]",
      "text/plain": [
       "<Figure size 504x360 with 1 Axes>"
      ]
     },
     "metadata": {},
     "output_type": "display_data"
    }
   ],
   "source": [
    "plt.figure(figsize=(7, 5))\n",
    "cm = confusion_matrix(y_test, test_pred)\n",
    "sns.heatmap(cm, annot=True, cbar=False, fmt='g')\n",
    "plt.xlabel('Predicted values')\n",
    "plt.ylabel('Actual values')\n",
    "plt.title('Confusion matrix (after resampling by SMOTE)')"
   ]
  },
  {
   "cell_type": "code",
   "execution_count": 125,
   "id": "da2e8dbe",
   "metadata": {},
   "outputs": [
    {
     "data": {
      "text/plain": [
       "DecisionTreeClassifier()"
      ]
     },
     "execution_count": 125,
     "metadata": {},
     "output_type": "execute_result"
    }
   ],
   "source": [
    "clf = DecisionTreeClassifier()\n",
    "clf.fit(X_train_smote, y_train_smote)"
   ]
  },
  {
   "cell_type": "code",
   "execution_count": 126,
   "id": "d9f9da52",
   "metadata": {},
   "outputs": [
    {
     "data": {
      "image/png": "[encoded data removed]",
      "text/plain": [
       "<Figure size 576x396 with 1 Axes>"
      ]
     },
     "metadata": {},
     "output_type": "display_data"
    }
   ],
   "source": [
    "from yellowbrick.classifier import ROCAUC\n",
    "\n",
    "visualizer = ROCAUC(clf)\n",
    "\n",
    "visualizer.fit(X_train_smote, y_train_smote) # Fit the training data to the visualizer\n",
    "visualizer.score(X_test, y_test) # Evaluate the model on the test data\n",
    "visualizer.show();"
   ]
  },
  {
   "cell_type": "code",
   "execution_count": null,
   "id": "14c871f6",
   "metadata": {},
   "outputs": [],
   "source": []
  },
  {
   "cell_type": "raw",
   "id": "0bb0a583",
   "metadata": {},
   "source": []
  },
  {
   "cell_type": "markdown",
   "id": "67745dc5",
   "metadata": {},
   "source": [
    "### Under sampling"
   ]
  },
  {
   "cell_type": "code",
   "execution_count": 127,
   "id": "bdae90ef",
   "metadata": {},
   "outputs": [],
   "source": [
    "from imblearn.under_sampling import NearMiss\n",
    "us = NearMiss()\n",
    "X_train_us, y_train_us = us.fit_resample(X_train, y_train)"
   ]
  },
  {
   "cell_type": "code",
   "execution_count": 128,
   "id": "84618c0e",
   "metadata": {},
   "outputs": [
    {
     "data": {
      "text/plain": [
       "DecisionTreeClassifier()"
      ]
     },
     "execution_count": 128,
     "metadata": {},
     "output_type": "execute_result"
    }
   ],
   "source": [
    "clf = DecisionTreeClassifier()\n",
    "clf.fit(X_train_us, y_train_us)"
   ]
  },
  {
   "cell_type": "code",
   "execution_count": 129,
   "id": "ddd75bd4",
   "metadata": {},
   "outputs": [],
   "source": [
    "# Predictions\n",
    "test_pred = clf.predict(X_test)\n",
    "train_pred  =clf.predict(X_train_us)"
   ]
  },
  {
   "cell_type": "code",
   "execution_count": 130,
   "id": "f739c825",
   "metadata": {},
   "outputs": [],
   "source": [
    "def compare_model_train_test(model):\n",
    "    train_accuracy = accuracy_score(y_train_us, train_pred)\n",
    "    test_accuracy = accuracy_score(y_test, test_pred)\n",
    "    train_clf_report = classification_report(y_train_us, train_pred)\n",
    "    test_clf_report = classification_report(y_test, test_pred)\n",
    "    print('Training accuracy is :', train_accuracy, '\\n', train_clf_report, '\\n',\n",
    "         'Testing accuracy is :', round(test_accuracy,2), '\\n', test_clf_report, '\\n',)"
   ]
  },
  {
   "cell_type": "code",
   "execution_count": 131,
   "id": "5ccae0af",
   "metadata": {},
   "outputs": [
    {
     "name": "stdout",
     "output_type": "stream",
     "text": [
      "Training accuracy is : 1.0 \n",
      "               precision    recall  f1-score   support\n",
      "\n",
      "           1       1.00      1.00      1.00     27085\n",
      "           2       1.00      1.00      1.00     27085\n",
      "           3       1.00      1.00      1.00     27085\n",
      "\n",
      "    accuracy                           1.00     81255\n",
      "   macro avg       1.00      1.00      1.00     81255\n",
      "weighted avg       1.00      1.00      1.00     81255\n",
      " \n",
      " Testing accuracy is : 0.4 \n",
      "               precision    recall  f1-score   support\n",
      "\n",
      "           1       0.28      0.45      0.34      6721\n",
      "           2       0.45      0.34      0.38     14018\n",
      "           3       0.47      0.45      0.46     12123\n",
      "\n",
      "    accuracy                           0.40     32862\n",
      "   macro avg       0.40      0.41      0.40     32862\n",
      "weighted avg       0.42      0.40      0.40     32862\n",
      " \n",
      "\n"
     ]
    }
   ],
   "source": [
    "compare_model_train_test(clf)"
   ]
  },
  {
   "cell_type": "code",
   "execution_count": 132,
   "id": "c2553e43",
   "metadata": {},
   "outputs": [
    {
     "data": {
      "text/plain": [
       "Text(0.5, 1.0, 'Confusion matrix(after re-sampling by Nearmiss)')"
      ]
     },
     "execution_count": 132,
     "metadata": {},
     "output_type": "execute_result"
    },
    {
     "data": {
      "image/png": "[encoded data removed]",
      "text/plain": [
       "<Figure size 504x360 with 1 Axes>"
      ]
     },
     "metadata": {},
     "output_type": "display_data"
    }
   ],
   "source": [
    "plt.figure(figsize=(7, 5))\n",
    "cm = confusion_matrix(y_test, test_pred)\n",
    "sns.heatmap(cm, annot=True, fmt='g', cbar=False)\n",
    "plt.xlabel('Predicted values')\n",
    "plt.ylabel('Actual values')\n",
    "plt.title('Confusion matrix(after re-sampling by Nearmiss)')"
   ]
  },
  {
   "cell_type": "raw",
   "id": "e2e3f970",
   "metadata": {},
   "source": []
  },
  {
   "cell_type": "code",
   "execution_count": 133,
   "id": "fdadb57a",
   "metadata": {},
   "outputs": [],
   "source": [
    "from imblearn.under_sampling import RandomUnderSampler\n",
    "rus = RandomUnderSampler()\n",
    "X_train_rus, y_train_rus = rus.fit_resample(X_train, y_train)"
   ]
  },
  {
   "cell_type": "code",
   "execution_count": 134,
   "id": "3341ade3",
   "metadata": {},
   "outputs": [
    {
     "data": {
      "text/plain": [
       "DecisionTreeClassifier()"
      ]
     },
     "execution_count": 134,
     "metadata": {},
     "output_type": "execute_result"
    }
   ],
   "source": [
    "clf = DecisionTreeClassifier()\n",
    "clf.fit(X_train_rus, y_train_rus)"
   ]
  },
  {
   "cell_type": "code",
   "execution_count": 135,
   "id": "57553918",
   "metadata": {},
   "outputs": [],
   "source": [
    "# Predictions\n",
    "test_pred = clf.predict(X_test)\n",
    "train_pred  =clf.predict(X_train_rus)"
   ]
  },
  {
   "cell_type": "code",
   "execution_count": 136,
   "id": "21b76bd1",
   "metadata": {},
   "outputs": [],
   "source": [
    "def compare_model_train_test(model):\n",
    "    train_accuracy = accuracy_score(y_train_rus, train_pred)\n",
    "    test_accuracy = accuracy_score(y_test, test_pred)\n",
    "    train_clf_report = classification_report(y_train_rus, train_pred)\n",
    "    test_clf_report = classification_report(y_test, test_pred)\n",
    "    print('Training accuracy is :', train_accuracy, '\\n', train_clf_report, '\\n',\n",
    "         'Testing accuracy is :', round(test_accuracy,2), '\\n', test_clf_report, '\\n',)"
   ]
  },
  {
   "cell_type": "code",
   "execution_count": 137,
   "id": "1517c716",
   "metadata": {},
   "outputs": [
    {
     "name": "stdout",
     "output_type": "stream",
     "text": [
      "Training accuracy is : 1.0 \n",
      "               precision    recall  f1-score   support\n",
      "\n",
      "           1       1.00      1.00      1.00     27085\n",
      "           2       1.00      1.00      1.00     27085\n",
      "           3       1.00      1.00      1.00     27085\n",
      "\n",
      "    accuracy                           1.00     81255\n",
      "   macro avg       1.00      1.00      1.00     81255\n",
      "weighted avg       1.00      1.00      1.00     81255\n",
      " \n",
      " Testing accuracy is : 0.41 \n",
      "               precision    recall  f1-score   support\n",
      "\n",
      "           1       0.29      0.44      0.35      6721\n",
      "           2       0.44      0.35      0.39     14018\n",
      "           3       0.48      0.45      0.46     12123\n",
      "\n",
      "    accuracy                           0.41     32862\n",
      "   macro avg       0.40      0.41      0.40     32862\n",
      "weighted avg       0.42      0.41      0.41     32862\n",
      " \n",
      "\n"
     ]
    }
   ],
   "source": [
    "compare_model_train_test(clf)"
   ]
  },
  {
   "cell_type": "code",
   "execution_count": 138,
   "id": "fe0838ce",
   "metadata": {},
   "outputs": [
    {
     "data": {
      "text/plain": [
       "Text(0.5, 1.0, 'Confusion matrix(after re-sampling by Random under sampler')"
      ]
     },
     "execution_count": 138,
     "metadata": {},
     "output_type": "execute_result"
    },
    {
     "data": {
      "image/png": "[encoded data removed]",
      "text/plain": [
       "<Figure size 504x360 with 1 Axes>"
      ]
     },
     "metadata": {},
     "output_type": "display_data"
    }
   ],
   "source": [
    "plt.figure(figsize=(7, 5))\n",
    "cm = confusion_matrix(y_test, test_pred)\n",
    "sns.heatmap(cm, annot=True, fmt='g', cbar=False)\n",
    "plt.xlabel('Predicted values')\n",
    "plt.ylabel('Actual values')\n",
    "plt.title('Confusion matrix(after re-sampling by Random under sampler')"
   ]
  },
  {
   "cell_type": "raw",
   "id": "ecdb0b87",
   "metadata": {},
   "source": []
  },
  {
   "cell_type": "markdown",
   "id": "286a7427",
   "metadata": {},
   "source": [
    "### Hyper parameter tuning"
   ]
  },
  {
   "cell_type": "code",
   "execution_count": 139,
   "id": "f5c4fdde",
   "metadata": {},
   "outputs": [],
   "source": [
    "from sklearn.model_selection import GridSearchCV"
   ]
  },
  {
   "cell_type": "code",
   "execution_count": 140,
   "id": "dda43e17",
   "metadata": {},
   "outputs": [],
   "source": [
    "criterion = [\"gini\"]\n",
    "splitter = [\"best\", \"random\"]\n",
    "min_samples_split = [int(i) for i in np.arange(10, 50, 5)]\n",
    "min_samples_leaf = [int(i) for i in np.arange(10, 50, 3)]\n",
    "max_features= [\"auto\", \"sqrt\", \"log2\"]"
   ]
  },
  {
   "cell_type": "code",
   "execution_count": 141,
   "id": "c6364ad3",
   "metadata": {},
   "outputs": [
    {
     "data": {
      "text/plain": [
       "{'criterion': ['gini'],\n",
       " 'splitter': ['best', 'random'],\n",
       " 'min_samples_split': [10, 15, 20, 25, 30, 35, 40, 45],\n",
       " 'min_samples_leaf': [10, 13, 16, 19, 22, 25, 28, 31, 34, 37, 40, 43, 46, 49],\n",
       " 'max_features': ['auto', 'sqrt', 'log2']}"
      ]
     },
     "execution_count": 141,
     "metadata": {},
     "output_type": "execute_result"
    }
   ],
   "source": [
    "param_grid = {'criterion':criterion, 'splitter':splitter,\n",
    "             'min_samples_split':min_samples_split, 'min_samples_leaf':min_samples_leaf,\n",
    "             'max_features':max_features,}\n",
    "param_grid"
   ]
  },
  {
   "cell_type": "code",
   "execution_count": 142,
   "id": "bf0eeb42",
   "metadata": {},
   "outputs": [
    {
     "data": {
      "text/plain": [
       "GridSearchCV(cv=5, estimator=DecisionTreeClassifier(), n_jobs=-1,\n",
       "             param_grid={'criterion': ['gini'],\n",
       "                         'max_features': ['auto', 'sqrt', 'log2'],\n",
       "                         'min_samples_leaf': [10, 13, 16, 19, 22, 25, 28, 31,\n",
       "                                              34, 37, 40, 43, 46, 49],\n",
       "                         'min_samples_split': [10, 15, 20, 25, 30, 35, 40, 45],\n",
       "                         'splitter': ['best', 'random']},\n",
       "             return_train_score=True, verbose=1)"
      ]
     },
     "execution_count": 142,
     "metadata": {},
     "output_type": "execute_result"
    }
   ],
   "source": [
    "grid_model = GridSearchCV(clf, param_grid=param_grid, cv = 5, return_train_score=True,\n",
    "                                  n_jobs=-1, verbose=1)\n",
    "grid_model"
   ]
  },
  {
   "cell_type": "code",
   "execution_count": 143,
   "id": "9d08601e",
   "metadata": {},
   "outputs": [
    {
     "name": "stdout",
     "output_type": "stream",
     "text": [
      "Fitting 5 folds for each of 672 candidates, totalling 3360 fits\n"
     ]
    },
    {
     "data": {
      "text/plain": [
       "GridSearchCV(cv=5, estimator=DecisionTreeClassifier(), n_jobs=-1,\n",
       "             param_grid={'criterion': ['gini'],\n",
       "                         'max_features': ['auto', 'sqrt', 'log2'],\n",
       "                         'min_samples_leaf': [10, 13, 16, 19, 22, 25, 28, 31,\n",
       "                                              34, 37, 40, 43, 46, 49],\n",
       "                         'min_samples_split': [10, 15, 20, 25, 30, 35, 40, 45],\n",
       "                         'splitter': ['best', 'random']},\n",
       "             return_train_score=True, verbose=1)"
      ]
     },
     "execution_count": 143,
     "metadata": {},
     "output_type": "execute_result"
    }
   ],
   "source": [
    "grid_model.fit(X_train_smote, y_train_smote)"
   ]
  },
  {
   "cell_type": "code",
   "execution_count": 144,
   "id": "9d6e7e4f",
   "metadata": {},
   "outputs": [
    {
     "data": {
      "text/plain": [
       "{'criterion': 'gini',\n",
       " 'max_features': 'auto',\n",
       " 'min_samples_leaf': 43,\n",
       " 'min_samples_split': 35,\n",
       " 'splitter': 'best'}"
      ]
     },
     "execution_count": 144,
     "metadata": {},
     "output_type": "execute_result"
    }
   ],
   "source": [
    "grid_model.best_params_"
   ]
  },
  {
   "cell_type": "code",
   "execution_count": 145,
   "id": "d7372bc3",
   "metadata": {},
   "outputs": [],
   "source": [
    "max_depth=clf.get_depth()"
   ]
  },
  {
   "cell_type": "code",
   "execution_count": 146,
   "id": "1a235a43",
   "metadata": {},
   "outputs": [],
   "source": [
    "max_depth = [max_depth for max_depth in range(1, max_depth+1)]"
   ]
  },
  {
   "cell_type": "code",
   "execution_count": 147,
   "id": "015c1609",
   "metadata": {},
   "outputs": [],
   "source": [
    "param_grid = {'max_depth':max_depth}"
   ]
  },
  {
   "cell_type": "code",
   "execution_count": 148,
   "id": "21929a4e",
   "metadata": {},
   "outputs": [
    {
     "data": {
      "text/plain": [
       "GridSearchCV(estimator=DecisionTreeClassifier(),\n",
       "             param_grid={'max_depth': [1, 2, 3, 4, 5, 6, 7, 8, 9, 10, 11, 12,\n",
       "                                       13, 14, 15, 16, 17, 18, 19, 20, 21, 22,\n",
       "                                       23, 24, 25, 26, 27, 28, 29, 30, ...]},\n",
       "             scoring=make_scorer(accuracy_score))"
      ]
     },
     "execution_count": 148,
     "metadata": {},
     "output_type": "execute_result"
    }
   ],
   "source": [
    "from sklearn.metrics import make_scorer\n",
    "depth_model = GridSearchCV(clf, param_grid=param_grid, scoring=make_scorer(accuracy_score))\n",
    "depth_model"
   ]
  },
  {
   "cell_type": "code",
   "execution_count": 149,
   "id": "7d5ccae4",
   "metadata": {},
   "outputs": [
    {
     "data": {
      "text/plain": [
       "GridSearchCV(estimator=DecisionTreeClassifier(),\n",
       "             param_grid={'max_depth': [1, 2, 3, 4, 5, 6, 7, 8, 9, 10, 11, 12,\n",
       "                                       13, 14, 15, 16, 17, 18, 19, 20, 21, 22,\n",
       "                                       23, 24, 25, 26, 27, 28, 29, 30, ...]},\n",
       "             scoring=make_scorer(accuracy_score))"
      ]
     },
     "execution_count": 149,
     "metadata": {},
     "output_type": "execute_result"
    }
   ],
   "source": [
    "depth_model.fit(X_train_smote, y_train_smote)"
   ]
  },
  {
   "cell_type": "code",
   "execution_count": 150,
   "id": "8509539d",
   "metadata": {},
   "outputs": [
    {
     "data": {
      "text/plain": [
       "{'max_depth': 9}"
      ]
     },
     "execution_count": 150,
     "metadata": {},
     "output_type": "execute_result"
    }
   ],
   "source": [
    "depth_model.best_params_"
   ]
  },
  {
   "cell_type": "markdown",
   "id": "79d26c32",
   "metadata": {},
   "source": [
    "### Final model"
   ]
  },
  {
   "cell_type": "code",
   "execution_count": 151,
   "id": "033ff811",
   "metadata": {},
   "outputs": [
    {
     "data": {
      "text/plain": [
       "DecisionTreeClassifier(max_depth=9, max_features='sqrt', min_samples_leaf=49,\n",
       "                       min_samples_split=10)"
      ]
     },
     "execution_count": 151,
     "metadata": {},
     "output_type": "execute_result"
    }
   ],
   "source": [
    "clf = DecisionTreeClassifier(splitter='best', min_samples_split=10,\n",
    "                                  min_samples_leaf=49,max_features='sqrt',\n",
    "                                  criterion='gini', max_depth=9)\n",
    "clf.fit(X_train, y_train)"
   ]
  },
  {
   "cell_type": "code",
   "execution_count": 152,
   "id": "70cc617c",
   "metadata": {},
   "outputs": [],
   "source": [
    "train_pred = clf.predict(X_test)\n",
    "train_pred = clf.predict(X_train)"
   ]
  },
  {
   "cell_type": "code",
   "execution_count": 153,
   "id": "a2563628",
   "metadata": {},
   "outputs": [],
   "source": [
    "def compare_model_train_test(model):\n",
    "    train_accuracy = accuracy_score(y_train, train_pred)\n",
    "    test_accuracy = accuracy_score(y_test, test_pred)\n",
    "    train_clf_report = classification_report(y_train, train_pred)\n",
    "    test_clf_report = classification_report(y_test, test_pred)\n",
    "    print('Training accuracy is :', train_accuracy, '\\n', train_clf_report, '\\n',\n",
    "         'Testing accuracy is :', round(test_accuracy,2), '\\n', test_clf_report, '\\n',)"
   ]
  },
  {
   "cell_type": "code",
   "execution_count": 154,
   "id": "64426570",
   "metadata": {},
   "outputs": [
    {
     "name": "stdout",
     "output_type": "stream",
     "text": [
      "Training accuracy is : 0.5069267461410302 \n",
      "               precision    recall  f1-score   support\n",
      "\n",
      "           1       0.47      0.16      0.24     27085\n",
      "           2       0.48      0.67      0.56     56562\n",
      "           3       0.55      0.51      0.53     47800\n",
      "\n",
      "    accuracy                           0.51    131447\n",
      "   macro avg       0.50      0.45      0.45    131447\n",
      "weighted avg       0.51      0.51      0.48    131447\n",
      " \n",
      " Testing accuracy is : 0.41 \n",
      "               precision    recall  f1-score   support\n",
      "\n",
      "           1       0.29      0.44      0.35      6721\n",
      "           2       0.44      0.35      0.39     14018\n",
      "           3       0.48      0.45      0.46     12123\n",
      "\n",
      "    accuracy                           0.41     32862\n",
      "   macro avg       0.40      0.41      0.40     32862\n",
      "weighted avg       0.42      0.41      0.41     32862\n",
      " \n",
      "\n"
     ]
    }
   ],
   "source": [
    "compare_model_train_test(clf)"
   ]
  },
  {
   "cell_type": "code",
   "execution_count": null,
   "id": "b43dfc33",
   "metadata": {},
   "outputs": [],
   "source": []
  },
  {
   "cell_type": "code",
   "execution_count": 155,
   "id": "dae85ea7",
   "metadata": {},
   "outputs": [],
   "source": [
    "pruned_model = DecisionTreeClassifier(splitter='best', min_samples_split=10,\n",
    "                                  min_samples_leaf=49,max_features='sqrt',\n",
    "                                  criterion='gini', max_depth=9)"
   ]
  },
  {
   "cell_type": "code",
   "execution_count": 156,
   "id": "82428463",
   "metadata": {},
   "outputs": [
    {
     "data": {
      "text/plain": [
       "DecisionTreeClassifier(max_depth=9, max_features='sqrt', min_samples_leaf=49,\n",
       "                       min_samples_split=10)"
      ]
     },
     "execution_count": 156,
     "metadata": {},
     "output_type": "execute_result"
    }
   ],
   "source": [
    "pruned_model.fit(X_train_smote, y_train_smote)"
   ]
  },
  {
   "cell_type": "code",
   "execution_count": 157,
   "id": "83a89596",
   "metadata": {},
   "outputs": [],
   "source": [
    "# Predictions\n",
    "test_pred = pruned_model.predict(X_test)\n",
    "train_pred  =pruned_model.predict(X_train_smote)"
   ]
  },
  {
   "cell_type": "code",
   "execution_count": 158,
   "id": "d037eade",
   "metadata": {},
   "outputs": [],
   "source": [
    "def compare_model_train_test(model):\n",
    "    train_accuracy = accuracy_score(y_train_smote, train_pred)\n",
    "    test_accuracy = accuracy_score(y_test, test_pred)\n",
    "    train_clf_report = classification_report(y_train_smote, train_pred)\n",
    "    test_clf_report = classification_report(y_test, test_pred)\n",
    "    print('Training accuracy is :', train_accuracy, '\\n', train_clf_report, '\\n',\n",
    "         'Testing accuracy is :', round(test_accuracy,2), '\\n', test_clf_report, '\\n',)"
   ]
  },
  {
   "cell_type": "code",
   "execution_count": 159,
   "id": "8b492c0d",
   "metadata": {},
   "outputs": [
    {
     "name": "stdout",
     "output_type": "stream",
     "text": [
      "Training accuracy is : 0.517485237438563 \n",
      "               precision    recall  f1-score   support\n",
      "\n",
      "           1       0.60      0.53      0.57     56562\n",
      "           2       0.44      0.54      0.48     56562\n",
      "           3       0.55      0.48      0.51     56562\n",
      "\n",
      "    accuracy                           0.52    169686\n",
      "   macro avg       0.53      0.52      0.52    169686\n",
      "weighted avg       0.53      0.52      0.52    169686\n",
      " \n",
      " Testing accuracy is : 0.46 \n",
      "               precision    recall  f1-score   support\n",
      "\n",
      "           1       0.33      0.31      0.32      6721\n",
      "           2       0.47      0.52      0.50     14018\n",
      "           3       0.53      0.48      0.50     12123\n",
      "\n",
      "    accuracy                           0.46     32862\n",
      "   macro avg       0.44      0.44      0.44     32862\n",
      "weighted avg       0.46      0.46      0.46     32862\n",
      " \n",
      "\n"
     ]
    }
   ],
   "source": [
    "compare_model_train_test(pruned_model)"
   ]
  },
  {
   "cell_type": "code",
   "execution_count": 160,
   "id": "d07118de",
   "metadata": {},
   "outputs": [
    {
     "name": "stdout",
     "output_type": "stream",
     "text": [
      "[0.4963788  0.50057818 0.49114479 0.50003043 0.48810176 0.49522245\n",
      " 0.48998844 0.50240399 0.49254458 0.48782715]\n",
      "Average cross valid score is 0.4944220548179993\n"
     ]
    }
   ],
   "source": [
    "from sklearn.model_selection import cross_val_score, StratifiedKFold\n",
    "skf = StratifiedKFold(n_splits=10, shuffle=True, random_state=42)\n",
    "cv_score = cross_val_score(pruned_model, X, y, cv=skf)\n",
    "print(cv_score)\n",
    "print('Average cross valid score is {}'.format(np.mean(cv_score)))"
   ]
  },
  {
   "cell_type": "code",
   "execution_count": 161,
   "id": "9c962822",
   "metadata": {},
   "outputs": [
    {
     "data": {
      "text/plain": [
       "Text(0.5, 1.0, 'Confusion matrix(pruned model)')"
      ]
     },
     "execution_count": 161,
     "metadata": {},
     "output_type": "execute_result"
    },
    {
     "data": {
      "image/png": "[encoded data removed]",
      "text/plain": [
       "<Figure size 504x360 with 1 Axes>"
      ]
     },
     "metadata": {},
     "output_type": "display_data"
    }
   ],
   "source": [
    "plt.figure(figsize=(7, 5))\n",
    "cm = confusion_matrix(y_test, test_pred)\n",
    "sns.heatmap(cm, annot=True, fmt='g', cbar=False)\n",
    "plt.xlabel('Predicted values')\n",
    "plt.ylabel('Actual values')\n",
    "plt.title('Confusion matrix(pruned model)')"
   ]
  },
  {
   "cell_type": "code",
   "execution_count": 162,
   "id": "481d9132",
   "metadata": {},
   "outputs": [
    {
     "data": {
      "image/png": "[encoded data removed]",
      "text/plain": [
       "<Figure size 576x396 with 1 Axes>"
      ]
     },
     "metadata": {},
     "output_type": "display_data"
    }
   ],
   "source": [
    "from yellowbrick.classifier import ROCAUC\n",
    "\n",
    "visualizer = ROCAUC(pruned_model)\n",
    "\n",
    "visualizer.fit(X_train_smote, y_train_smote) # Fit the training data to the visualizer\n",
    "visualizer.score(X_test, y_test) # Evaluate the model on the test data\n",
    "visualizer.show();"
   ]
  },
  {
   "cell_type": "code",
   "execution_count": 163,
   "id": "f18a495c",
   "metadata": {},
   "outputs": [
    {
     "data": {
      "image/png": "[encoded data removed]",
      "text/plain": [
       "<Figure size 576x396 with 1 Axes>"
      ]
     },
     "metadata": {},
     "output_type": "display_data"
    }
   ],
   "source": [
    "from yellowbrick.classifier import ClassPredictionError\n",
    "\n",
    "visualizer = ClassPredictionError(pruned_model)\n",
    "\n",
    "# Fit the training data to the visualizer\n",
    "visualizer.fit(X_train_smote, y_train_smote)\n",
    "\n",
    "# Evaluate the model on the test data\n",
    "visualizer.score(X_test, y_test)\n",
    "\n",
    "# Draw visualization\n",
    "visualizer.show();"
   ]
  },
  {
   "cell_type": "code",
   "execution_count": 164,
   "id": "60bbc6c3",
   "metadata": {},
   "outputs": [
    {
     "data": {
      "image/png": "[encoded data removed]",
      "text/plain": [
       "<Figure size 576x396 with 1 Axes>"
      ]
     },
     "metadata": {},
     "output_type": "display_data"
    }
   ],
   "source": [
    "from yellowbrick.classifier import PrecisionRecallCurve\n",
    "\n",
    "viz = PrecisionRecallCurve(pruned_model,per_class=True)\n",
    "viz.fit(X_train_smote, y_train_smote)\n",
    "viz.score(X_test, y_test)\n",
    "viz.show();"
   ]
  },
  {
   "cell_type": "markdown",
   "id": "4ddb9116",
   "metadata": {},
   "source": [
    "### Data resampling before split"
   ]
  },
  {
   "cell_type": "code",
   "execution_count": 165,
   "id": "82eb3781",
   "metadata": {},
   "outputs": [],
   "source": [
    "smo = SMOTE()\n",
    "X_res, y_res = smo.fit_resample(X, y)"
   ]
  },
  {
   "cell_type": "code",
   "execution_count": 166,
   "id": "0d8cce01",
   "metadata": {},
   "outputs": [],
   "source": [
    "X_train, X_test, y_train, y_test = train_test_split(X_res, y_res, test_size=0.2, random_state=42)"
   ]
  },
  {
   "cell_type": "code",
   "execution_count": 167,
   "id": "5e76d8ad",
   "metadata": {},
   "outputs": [
    {
     "data": {
      "text/plain": [
       "DecisionTreeClassifier(max_depth=9, max_features='sqrt', min_samples_leaf=49,\n",
       "                       min_samples_split=10)"
      ]
     },
     "execution_count": 167,
     "metadata": {},
     "output_type": "execute_result"
    }
   ],
   "source": [
    "pruned_model.fit(X_train, y_train)"
   ]
  },
  {
   "cell_type": "code",
   "execution_count": 168,
   "id": "f6d3db65",
   "metadata": {},
   "outputs": [],
   "source": [
    "# Predictions\n",
    "test_pred = pruned_model.predict(X_test)\n",
    "train_pred  =pruned_model.predict(X_train)"
   ]
  },
  {
   "cell_type": "code",
   "execution_count": 169,
   "id": "7f72f895",
   "metadata": {},
   "outputs": [],
   "source": [
    "def compare_model_train_test(model):\n",
    "    train_accuracy = accuracy_score(y_train, train_pred)\n",
    "    test_accuracy = accuracy_score(y_test, test_pred)\n",
    "    train_clf_report = classification_report(y_train, train_pred)\n",
    "    test_clf_report = classification_report(y_test, test_pred)\n",
    "    print('Training accuracy is :', train_accuracy, '\\n', train_clf_report, '\\n',\n",
    "         'Testing accuracy is :', round(test_accuracy,2), '\\n', test_clf_report, '\\n',)"
   ]
  },
  {
   "cell_type": "code",
   "execution_count": 170,
   "id": "04f6ec0e",
   "metadata": {},
   "outputs": [
    {
     "name": "stdout",
     "output_type": "stream",
     "text": [
      "Training accuracy is : 0.5273566638330027 \n",
      "               precision    recall  f1-score   support\n",
      "\n",
      "           1       0.58      0.61      0.59     56338\n",
      "           2       0.46      0.44      0.45     56633\n",
      "           3       0.54      0.53      0.54     56421\n",
      "\n",
      "    accuracy                           0.53    169392\n",
      "   macro avg       0.53      0.53      0.53    169392\n",
      "weighted avg       0.53      0.53      0.53    169392\n",
      " \n",
      " Testing accuracy is : 0.52 \n",
      "               precision    recall  f1-score   support\n",
      "\n",
      "           1       0.58      0.60      0.59     14242\n",
      "           2       0.44      0.44      0.44     13947\n",
      "           3       0.54      0.53      0.53     14159\n",
      "\n",
      "    accuracy                           0.52     42348\n",
      "   macro avg       0.52      0.52      0.52     42348\n",
      "weighted avg       0.52      0.52      0.52     42348\n",
      " \n",
      "\n"
     ]
    }
   ],
   "source": [
    "compare_model_train_test(pruned_model)"
   ]
  },
  {
   "cell_type": "code",
   "execution_count": 171,
   "id": "aa426449",
   "metadata": {},
   "outputs": [
    {
     "data": {
      "image/png": "[encoded data removed]",
      "text/plain": [
       "<Figure size 576x396 with 1 Axes>"
      ]
     },
     "metadata": {},
     "output_type": "display_data"
    }
   ],
   "source": [
    "from yellowbrick.classifier import ROCAUC\n",
    "\n",
    "visualizer = ROCAUC(pruned_model)\n",
    "\n",
    "visualizer.fit(X_train, y_train) # Fit the training data to the visualizer\n",
    "visualizer.score(X_test, y_test) # Evaluate the model on the test data\n",
    "visualizer.show();"
   ]
  },
  {
   "cell_type": "code",
   "execution_count": 172,
   "id": "2c4a9d04",
   "metadata": {},
   "outputs": [
    {
     "data": {
      "image/png": "[encoded data removed]",
      "text/plain": [
       "<Figure size 576x396 with 1 Axes>"
      ]
     },
     "metadata": {},
     "output_type": "display_data"
    }
   ],
   "source": [
    "from yellowbrick.classifier import PrecisionRecallCurve\n",
    "\n",
    "viz = PrecisionRecallCurve(pruned_model,per_class=True)\n",
    "viz.fit(X_train, y_train)\n",
    "viz.score(X_test, y_test)\n",
    "viz.show();"
   ]
  },
  {
   "cell_type": "raw",
   "id": "a148e8cf",
   "metadata": {},
   "source": []
  },
  {
   "cell_type": "code",
   "execution_count": 173,
   "id": "de75ef4a",
   "metadata": {},
   "outputs": [
    {
     "data": {
      "text/plain": [
       "DecisionTreeClassifier()"
      ]
     },
     "execution_count": 173,
     "metadata": {},
     "output_type": "execute_result"
    }
   ],
   "source": [
    "clf = DecisionTreeClassifier()\n",
    "clf.fit(X_train, y_train)"
   ]
  },
  {
   "cell_type": "code",
   "execution_count": 174,
   "id": "74177d55",
   "metadata": {},
   "outputs": [
    {
     "data": {
      "text/plain": [
       "Counter({1: 56338, 3: 56421, 2: 56633})"
      ]
     },
     "execution_count": 174,
     "metadata": {},
     "output_type": "execute_result"
    }
   ],
   "source": [
    "from collections import Counter\n",
    "Counter(y_train)"
   ]
  },
  {
   "cell_type": "code",
   "execution_count": 175,
   "id": "086df6e7",
   "metadata": {},
   "outputs": [],
   "source": [
    "pred = clf.predict(X_test)"
   ]
  },
  {
   "cell_type": "code",
   "execution_count": 176,
   "id": "57c23338",
   "metadata": {},
   "outputs": [
    {
     "data": {
      "text/plain": [
       "0.491593463681874"
      ]
     },
     "execution_count": 176,
     "metadata": {},
     "output_type": "execute_result"
    }
   ],
   "source": [
    "accuracy_score(y_test, pred)"
   ]
  },
  {
   "cell_type": "code",
   "execution_count": 177,
   "id": "7b9a0035",
   "metadata": {},
   "outputs": [
    {
     "name": "stdout",
     "output_type": "stream",
     "text": [
      "              precision    recall  f1-score   support\n",
      "\n",
      "           1       0.58      0.58      0.58     14242\n",
      "           2       0.42      0.42      0.42     13947\n",
      "           3       0.48      0.47      0.48     14159\n",
      "\n",
      "    accuracy                           0.49     42348\n",
      "   macro avg       0.49      0.49      0.49     42348\n",
      "weighted avg       0.49      0.49      0.49     42348\n",
      "\n"
     ]
    }
   ],
   "source": [
    "print(classification_report(y_test, pred))"
   ]
  },
  {
   "cell_type": "raw",
   "id": "112b866e",
   "metadata": {},
   "source": []
  },
  {
   "cell_type": "code",
   "execution_count": 178,
   "id": "ce4ce2d9",
   "metadata": {},
   "outputs": [
    {
     "data": {
      "text/html": [
       "<div>\n",
       "<style scoped>\n",
       "    .dataframe tbody tr th:only-of-type {\n",
       "        vertical-align: middle;\n",
       "    }\n",
       "\n",
       "    .dataframe tbody tr th {\n",
       "        vertical-align: top;\n",
       "    }\n",
       "\n",
       "    .dataframe thead th {\n",
       "        text-align: right;\n",
       "    }\n",
       "</style>\n",
       "<table border=\"1\" class=\"dataframe\">\n",
       "  <thead>\n",
       "    <tr style=\"text-align: right;\">\n",
       "      <th></th>\n",
       "      <th>Loan_Amount_Requested</th>\n",
       "      <th>Employment_experience_in_years</th>\n",
       "      <th>Annual_Income</th>\n",
       "      <th>Debt_To_Income</th>\n",
       "      <th>Inquiries_in_Last_6_Months</th>\n",
       "      <th>Days_since_deliquency</th>\n",
       "      <th>Total_Accounts</th>\n",
       "      <th>Interest_Rate</th>\n",
       "      <th>None</th>\n",
       "      <th>Own</th>\n",
       "      <th>Rent</th>\n",
       "      <th>credit_card</th>\n",
       "      <th>debt_consolidation</th>\n",
       "      <th>educational</th>\n",
       "      <th>home_improvement</th>\n",
       "      <th>house</th>\n",
       "      <th>major_purchase</th>\n",
       "      <th>medical</th>\n",
       "      <th>moving</th>\n",
       "      <th>other</th>\n",
       "      <th>renewable_energy</th>\n",
       "      <th>small_business</th>\n",
       "      <th>vacation</th>\n",
       "      <th>wedding</th>\n",
       "      <th>verified</th>\n",
       "      <th>Male</th>\n",
       "    </tr>\n",
       "  </thead>\n",
       "  <tbody>\n",
       "    <tr>\n",
       "      <th>0</th>\n",
       "      <td>7000</td>\n",
       "      <td>0</td>\n",
       "      <td>68000.000000</td>\n",
       "      <td>18.37</td>\n",
       "      <td>0</td>\n",
       "      <td>9.0</td>\n",
       "      <td>14</td>\n",
       "      <td>1</td>\n",
       "      <td>0</td>\n",
       "      <td>0</td>\n",
       "      <td>1</td>\n",
       "      <td>0</td>\n",
       "      <td>0</td>\n",
       "      <td>0</td>\n",
       "      <td>0</td>\n",
       "      <td>0</td>\n",
       "      <td>0</td>\n",
       "      <td>0</td>\n",
       "      <td>0</td>\n",
       "      <td>0</td>\n",
       "      <td>0</td>\n",
       "      <td>0</td>\n",
       "      <td>0</td>\n",
       "      <td>0</td>\n",
       "      <td>0</td>\n",
       "      <td>0</td>\n",
       "    </tr>\n",
       "    <tr>\n",
       "      <th>1</th>\n",
       "      <td>30000</td>\n",
       "      <td>4</td>\n",
       "      <td>73331.159434</td>\n",
       "      <td>14.93</td>\n",
       "      <td>0</td>\n",
       "      <td>17.0</td>\n",
       "      <td>24</td>\n",
       "      <td>3</td>\n",
       "      <td>0</td>\n",
       "      <td>0</td>\n",
       "      <td>0</td>\n",
       "      <td>0</td>\n",
       "      <td>1</td>\n",
       "      <td>0</td>\n",
       "      <td>0</td>\n",
       "      <td>0</td>\n",
       "      <td>0</td>\n",
       "      <td>0</td>\n",
       "      <td>0</td>\n",
       "      <td>0</td>\n",
       "      <td>0</td>\n",
       "      <td>0</td>\n",
       "      <td>0</td>\n",
       "      <td>0</td>\n",
       "      <td>1</td>\n",
       "      <td>0</td>\n",
       "    </tr>\n",
       "    <tr>\n",
       "      <th>2</th>\n",
       "      <td>24725</td>\n",
       "      <td>7</td>\n",
       "      <td>75566.400000</td>\n",
       "      <td>15.88</td>\n",
       "      <td>0</td>\n",
       "      <td>9.0</td>\n",
       "      <td>16</td>\n",
       "      <td>3</td>\n",
       "      <td>0</td>\n",
       "      <td>0</td>\n",
       "      <td>0</td>\n",
       "      <td>0</td>\n",
       "      <td>1</td>\n",
       "      <td>0</td>\n",
       "      <td>0</td>\n",
       "      <td>0</td>\n",
       "      <td>0</td>\n",
       "      <td>0</td>\n",
       "      <td>0</td>\n",
       "      <td>0</td>\n",
       "      <td>0</td>\n",
       "      <td>0</td>\n",
       "      <td>0</td>\n",
       "      <td>0</td>\n",
       "      <td>1</td>\n",
       "      <td>1</td>\n",
       "    </tr>\n",
       "    <tr>\n",
       "      <th>3</th>\n",
       "      <td>16000</td>\n",
       "      <td>0</td>\n",
       "      <td>56160.000000</td>\n",
       "      <td>14.34</td>\n",
       "      <td>3</td>\n",
       "      <td>9.0</td>\n",
       "      <td>22</td>\n",
       "      <td>3</td>\n",
       "      <td>0</td>\n",
       "      <td>0</td>\n",
       "      <td>0</td>\n",
       "      <td>0</td>\n",
       "      <td>1</td>\n",
       "      <td>0</td>\n",
       "      <td>0</td>\n",
       "      <td>0</td>\n",
       "      <td>0</td>\n",
       "      <td>0</td>\n",
       "      <td>0</td>\n",
       "      <td>0</td>\n",
       "      <td>0</td>\n",
       "      <td>0</td>\n",
       "      <td>0</td>\n",
       "      <td>0</td>\n",
       "      <td>1</td>\n",
       "      <td>1</td>\n",
       "    </tr>\n",
       "    <tr>\n",
       "      <th>4</th>\n",
       "      <td>17000</td>\n",
       "      <td>8</td>\n",
       "      <td>96000.000000</td>\n",
       "      <td>22.17</td>\n",
       "      <td>1</td>\n",
       "      <td>9.0</td>\n",
       "      <td>30</td>\n",
       "      <td>1</td>\n",
       "      <td>0</td>\n",
       "      <td>1</td>\n",
       "      <td>0</td>\n",
       "      <td>0</td>\n",
       "      <td>1</td>\n",
       "      <td>0</td>\n",
       "      <td>0</td>\n",
       "      <td>0</td>\n",
       "      <td>0</td>\n",
       "      <td>0</td>\n",
       "      <td>0</td>\n",
       "      <td>0</td>\n",
       "      <td>0</td>\n",
       "      <td>0</td>\n",
       "      <td>0</td>\n",
       "      <td>0</td>\n",
       "      <td>1</td>\n",
       "      <td>0</td>\n",
       "    </tr>\n",
       "  </tbody>\n",
       "</table>\n",
       "</div>"
      ],
      "text/plain": [
       "   Loan_Amount_Requested  Employment_experience_in_years  Annual_Income  \\\n",
       "0                   7000                               0   68000.000000   \n",
       "1                  30000                               4   73331.159434   \n",
       "2                  24725                               7   75566.400000   \n",
       "3                  16000                               0   56160.000000   \n",
       "4                  17000                               8   96000.000000   \n",
       "\n",
       "   Debt_To_Income  Inquiries_in_Last_6_Months  Days_since_deliquency  \\\n",
       "0           18.37                           0                    9.0   \n",
       "1           14.93                           0                   17.0   \n",
       "2           15.88                           0                    9.0   \n",
       "3           14.34                           3                    9.0   \n",
       "4           22.17                           1                    9.0   \n",
       "\n",
       "   Total_Accounts  Interest_Rate  None  Own  Rent  credit_card  \\\n",
       "0              14              1     0    0     1            0   \n",
       "1              24              3     0    0     0            0   \n",
       "2              16              3     0    0     0            0   \n",
       "3              22              3     0    0     0            0   \n",
       "4              30              1     0    1     0            0   \n",
       "\n",
       "   debt_consolidation  educational  home_improvement  house  major_purchase  \\\n",
       "0                   0            0                 0      0               0   \n",
       "1                   1            0                 0      0               0   \n",
       "2                   1            0                 0      0               0   \n",
       "3                   1            0                 0      0               0   \n",
       "4                   1            0                 0      0               0   \n",
       "\n",
       "   medical  moving  other  renewable_energy  small_business  vacation  \\\n",
       "0        0       0      0                 0               0         0   \n",
       "1        0       0      0                 0               0         0   \n",
       "2        0       0      0                 0               0         0   \n",
       "3        0       0      0                 0               0         0   \n",
       "4        0       0      0                 0               0         0   \n",
       "\n",
       "   wedding  verified  Male  \n",
       "0        0         0     0  \n",
       "1        0         1     0  \n",
       "2        0         1     1  \n",
       "3        0         1     1  \n",
       "4        0         1     0  "
      ]
     },
     "execution_count": 178,
     "metadata": {},
     "output_type": "execute_result"
    }
   ],
   "source": [
    "encoded_data.head()"
   ]
  },
  {
   "cell_type": "code",
   "execution_count": 179,
   "id": "8984f84b",
   "metadata": {},
   "outputs": [],
   "source": [
    "decision_1 = encoded_data.loc[:, ['Days_since_deliquency', 'Inquiries_in_Last_6_Months']]\n",
    "y=encoded_data['Interest_Rate']"
   ]
  },
  {
   "cell_type": "code",
   "execution_count": 180,
   "id": "41a0d984",
   "metadata": {},
   "outputs": [],
   "source": [
    "X_train, X_test, y_train, y_test = train_test_split(decision_1, y, test_size=0.2, random_state=42)"
   ]
  },
  {
   "cell_type": "code",
   "execution_count": 181,
   "id": "b9cd0fc0",
   "metadata": {},
   "outputs": [
    {
     "data": {
      "text/plain": [
       "DecisionTreeClassifier(max_depth=9, max_features='sqrt', min_samples_leaf=49,\n",
       "                       min_samples_split=10)"
      ]
     },
     "execution_count": 181,
     "metadata": {},
     "output_type": "execute_result"
    }
   ],
   "source": [
    "pruned_model.fit(X_train, y_train)"
   ]
  },
  {
   "cell_type": "code",
   "execution_count": 182,
   "id": "51e2841f",
   "metadata": {},
   "outputs": [
    {
     "data": {
      "text/plain": [
       "0.4533503742924959"
      ]
     },
     "execution_count": 182,
     "metadata": {},
     "output_type": "execute_result"
    }
   ],
   "source": [
    "pred = pruned_model.predict(X_test)\n",
    "accuracy_score(y_test, pred)"
   ]
  },
  {
   "cell_type": "code",
   "execution_count": null,
   "id": "89871d6b",
   "metadata": {},
   "outputs": [],
   "source": []
  }
 ],
 "metadata": {
  "kernelspec": {
   "display_name": "Python 3 (ipykernel)",
   "language": "python",
   "name": "python3"
  },
  "language_info": {
   "codemirror_mode": {
    "name": "ipython",
    "version": 3
   },
   "file_extension": ".py",
   "mimetype": "text/x-python",
   "name": "python",
   "nbconvert_exporter": "python",
   "pygments_lexer": "ipython3",
   "version": "3.9.7"
  }
 },
 "nbformat": 4,
 "nbformat_minor": 5
}
